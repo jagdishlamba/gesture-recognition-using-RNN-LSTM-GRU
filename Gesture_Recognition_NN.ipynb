{
 "cells": [
  {
   "cell_type": "markdown",
   "metadata": {},
   "source": [
    "# Gesture Recognition\n",
    "In this group project, you are going to build a 3D Conv model that will be able to predict the 5 gestures correctly. Please import the following libraries to get started. Once you have completed the code you can download the notebook for making a submission."
   ]
  },
  {
   "cell_type": "code",
   "execution_count": 1,
   "metadata": {},
   "outputs": [
    {
     "name": "stdout",
     "output_type": "stream",
     "text": [
      "Wed Feb 15 13:17:15 2023       \n",
      "+-----------------------------------------------------------------------------+\n",
      "| NVIDIA-SMI 520.61.05    Driver Version: 520.61.05    CUDA Version: 11.8     |\n",
      "|-------------------------------+----------------------+----------------------+\n",
      "| GPU  Name        Persistence-M| Bus-Id        Disp.A | Volatile Uncorr. ECC |\n",
      "| Fan  Temp  Perf  Pwr:Usage/Cap|         Memory-Usage | GPU-Util  Compute M. |\n",
      "|                               |                      |               MIG M. |\n",
      "|===============================+======================+======================|\n",
      "|   0  Quadro RTX 5000     Off  | 00000000:3F:00.0 Off |                  Off |\n",
      "| 33%   31C    P8    12W / 230W |      0MiB / 16384MiB |      0%      Default |\n",
      "|                               |                      |                  N/A |\n",
      "+-------------------------------+----------------------+----------------------+\n",
      "                                                                               \n",
      "+-----------------------------------------------------------------------------+\n",
      "| Processes:                                                                  |\n",
      "|  GPU   GI   CI        PID   Type   Process name                  GPU Memory |\n",
      "|        ID   ID                                                   Usage      |\n",
      "|=============================================================================|\n",
      "|  No running processes found                                                 |\n",
      "+-----------------------------------------------------------------------------+\n"
     ]
    }
   ],
   "source": [
    "!nvidia-smi"
   ]
  },
  {
   "cell_type": "code",
   "execution_count": 2,
   "metadata": {},
   "outputs": [],
   "source": [
    "import numpy as np\n",
    "import os\n",
    "from imageio import imread\n",
    "from skimage.transform import resize\n",
    "import datetime\n",
    "import os\n",
    "import matplotlib.pyplot as plt"
   ]
  },
  {
   "cell_type": "markdown",
   "metadata": {},
   "source": [
    "We set the random seed so that the results don't vary drastically."
   ]
  },
  {
   "cell_type": "code",
   "execution_count": 3,
   "metadata": {},
   "outputs": [],
   "source": [
    "np.random.seed(30)\n",
    "import random as rn\n",
    "rn.seed(30)\n",
    "from tensorflow import keras\n",
    "import tensorflow as tf\n",
    "tf.random.set_seed(30)"
   ]
  },
  {
   "cell_type": "markdown",
   "metadata": {},
   "source": [
    "In this block, you read the folder names for training and validation. You also set the `batch_size` here. Note that you set the batch size in such a way that you are able to use the GPU in full capacity. You keep increasing the batch size until the machine throws an error."
   ]
  },
  {
   "cell_type": "markdown",
   "metadata": {},
   "source": [
    "# Experiment No 1"
   ]
  },
  {
   "cell_type": "code",
   "execution_count": 4,
   "metadata": {},
   "outputs": [],
   "source": [
    "train_doc = np.random.permutation(open('/home/datasets/Project_data/train.csv').readlines())\n",
    "val_doc = np.random.permutation(open('/home/datasets/Project_data/val.csv').readlines())\n",
    "batch_size = 32"
   ]
  },
  {
   "cell_type": "markdown",
   "metadata": {},
   "source": [
    "**data path: /home/datasets/Project_data**"
   ]
  },
  {
   "cell_type": "code",
   "execution_count": 5,
   "metadata": {},
   "outputs": [],
   "source": [
    "x = 16 # number of frames\n",
    "y = 100 # image width\n",
    "z = 100 # image height\n",
    "\n",
    "def generator(source_path, folder_list, batch_size):\n",
    "    print( 'Source path = ', source_path, '; batch size =', batch_size)\n",
    "    img_idx = [0,1,3,5,6,9,12,15,18,19,20,21,24,25,27,29] # using all images in folder\n",
    "    while True:\n",
    "        t = np.random.permutation(folder_list)\n",
    "        num_batches = len(folder_list)//batch_size # calculate the number of batches\n",
    "        for batch in range(num_batches): # we iterate over the number of batches\n",
    "            batch_data = np.zeros((batch_size,x,y,z,3)) # x is the number of images you use for each video, (y,z) is the final size of the input images and 3 is the number of channels RGB\n",
    "            batch_labels = np.zeros((batch_size,5)) # batch_labels is the one hot representation of the output\n",
    "            for folder in range(batch_size): # iterate over the batch_size\n",
    "                imgs = os.listdir(source_path+'/'+ t[folder + (batch*batch_size)].split(';')[0]) # read all the images in the folder\n",
    "                for idx,item in enumerate(img_idx): #  Iterate iver the frames/images of a folder to read them in\n",
    "                    image = imread(source_path+'/'+ t[folder + (batch*batch_size)].strip().split(';')[0]+'/'+imgs[item]).astype(np.float32)\n",
    "                    \n",
    "                    #crop the images and resize them. Note that the images are of 2 different shape \n",
    "                    #and the conv3D will throw error if the inputs in a batch have different shapes\n",
    "                    \n",
    "                    temp = resize(image, (y, z))\n",
    "                    temp = temp/255 #Normalize data\n",
    "                    \n",
    "                    batch_data[folder,idx,:,:,0] = (temp[:,:,0]) #normalise and feed in the image\n",
    "                    batch_data[folder,idx,:,:,1] = (temp[:,:,1]) #normalise and feed in the image\n",
    "                    batch_data[folder,idx,:,:,2] = (temp[:,:,2]) #normalise and feed in the image\n",
    "                    \n",
    "                batch_labels[folder, int(t[folder + (batch*batch_size)].strip().split(';')[2])] = 1\n",
    "            yield batch_data, batch_labels #you yield the batch_data and the batch_labels, remember what does yield do\n",
    "\n",
    "        \n",
    "        # write the code for the remaining data points which are left after full batches\n",
    "        if (len(folder_list) != batch_size*num_batches):\n",
    "            print(\"Batch: \",num_batches+1,\"Index:\", batch_size)\n",
    "            batch_size = len(folder_list) - (batch_size*num_batches)\n",
    "            batch_data = np.zeros((batch_size,x,y,z,3)) # x is the number of images you use for each video, (y,z) is the final size of the input images and 3 is the number of channels RGB\n",
    "            batch_labels = np.zeros((batch_size,5)) # batch_labels is the one hot representation of the output\n",
    "            for folder in range(batch_size): # iterate over the batch_size\n",
    "                imgs = os.listdir(source_path+'/'+ t[folder + (batch*batch_size)].split(';')[0]) # read all the images in the folder\n",
    "                for idx,item in enumerate(img_idx): #  Iterate iver the frames/images of a folder to read them in\n",
    "                    image = imread(source_path+'/'+ t[folder + (batch*batch_size)].strip().split(';')[0]+'/'+imgs[item]).astype(np.float32)\n",
    "                    \n",
    "                    #crop the images and resize them. Note that the images are of 2 different shape \n",
    "                    #and the conv3D will throw error if the inputs in a batch have different shapes\n",
    "                    temp = resize(image, (y, z))\n",
    "                    temp = temp/255 #Normalize data\n",
    "                    \n",
    "                    batch_data[folder,idx,:,:,0] = (temp[:,:,0])\n",
    "                    batch_data[folder,idx,:,:,1] = (temp[:,:,1])\n",
    "                    batch_data[folder,idx,:,:,2] = (temp[:,:,2])\n",
    "                   \n",
    "                batch_labels[folder, int(t[folder + (batch*batch_size)].strip().split(';')[2])] = 1\n",
    "            yield batch_data, batch_labels"
   ]
  },
  {
   "cell_type": "markdown",
   "metadata": {},
   "source": [
    "Note here that a video is represented above in the generator as (number of images, height, width, number of channels). Take this into consideration while creating the model architecture."
   ]
  },
  {
   "cell_type": "code",
   "execution_count": 6,
   "metadata": {},
   "outputs": [
    {
     "name": "stdout",
     "output_type": "stream",
     "text": [
      "# training sequences = 663\n",
      "# validation sequences = 100\n",
      "# epochs = 10\n"
     ]
    }
   ],
   "source": [
    "curr_dt_time = datetime.datetime.now()\n",
    "train_path = '/home/datasets/Project_data/train'\n",
    "val_path = '/home/datasets/Project_data/val'\n",
    "num_train_sequences = len(train_doc)\n",
    "print('# training sequences =', num_train_sequences)\n",
    "num_val_sequences = len(val_doc)\n",
    "print('# validation sequences =', num_val_sequences)\n",
    "num_epochs = 10\n",
    "print ('# epochs =', num_epochs)"
   ]
  },
  {
   "cell_type": "markdown",
   "metadata": {},
   "source": [
    "## Model\n",
    "Here you make the model using different functionalities that Keras provides. Remember to use `Conv3D` and `MaxPooling3D` and not `Conv2D` and `Maxpooling2D` for a 3D convolution model. You would want to use `TimeDistributed` while building a Conv2D + RNN model. Also remember that the last layer is the softmax. Design the network in such a way that the model is able to give good accuracy on the least number of parameters so that it can fit in the memory of the webcam."
   ]
  },
  {
   "cell_type": "code",
   "execution_count": 7,
   "metadata": {},
   "outputs": [
    {
     "name": "stderr",
     "output_type": "stream",
     "text": [
      "2023-02-15 13:17:17.216116: W tensorflow/core/common_runtime/gpu/gpu_bfc_allocator.cc:39] Overriding allow_growth setting because the TF_FORCE_GPU_ALLOW_GROWTH environment variable is set. Original config value was 0.\n",
      "2023-02-15 13:17:17.216176: I tensorflow/core/common_runtime/gpu/gpu_device.cc:1525] Created device /job:localhost/replica:0/task:0/device:GPU:0 with 14802 MB memory:  -> device: 0, name: Quadro RTX 5000, pci bus id: 0000:3f:00.0, compute capability: 7.5\n"
     ]
    }
   ],
   "source": [
    "from tensorflow.keras.models import Sequential\n",
    "from tensorflow.keras.layers import Dense, GRU, Dropout, Flatten, BatchNormalization, Activation, Conv3D, MaxPooling3D\n",
    "from tensorflow.keras.callbacks import ModelCheckpoint, ReduceLROnPlateau\n",
    "from tensorflow.keras import optimizers\n",
    "\n",
    "model_1 = Sequential()\n",
    "\n",
    "model_1.add(Conv3D(8, kernel_size=(3,3,3), input_shape=(16, 100, 100, 3), padding='same'))\n",
    "model_1.add(BatchNormalization())\n",
    "model_1.add(Activation('relu'))\n",
    "model_1.add(MaxPooling3D(pool_size=(2,2,2)))\n",
    "\n",
    "model_1.add(Conv3D(16, kernel_size=(3,3,3), padding='same'))\n",
    "model_1.add(BatchNormalization())\n",
    "model_1.add(Activation('relu'))\n",
    "model_1.add(MaxPooling3D(pool_size=(2,2,2)))\n",
    "\n",
    "model_1.add(Conv3D(32, kernel_size=(3,3,3), padding='same'))\n",
    "model_1.add(BatchNormalization())\n",
    "model_1.add(Activation('relu'))\n",
    "model_1.add(MaxPooling3D(pool_size=(2,2,2)))\n",
    "\n",
    "model_1.add(Conv3D(64, kernel_size=(2,3,3), padding='same'))\n",
    "model_1.add(BatchNormalization())\n",
    "model_1.add(Activation('relu'))\n",
    "model_1.add(MaxPooling3D(pool_size=(2,2,2)))\n",
    "\n",
    "#Flatten Layers\n",
    "model_1.add(Flatten())\n",
    "\n",
    "model_1.add(Dense(128, activation='relu'))\n",
    "model_1.add(Dropout(0.25))\n",
    "\n",
    "model_1.add(Dense(256, activation='relu'))\n",
    "model_1.add(Dropout(0.25))\n",
    "\n",
    "#softmax layer\n",
    "model_1.add(Dense(5, activation='softmax'))"
   ]
  },
  {
   "cell_type": "markdown",
   "metadata": {},
   "source": [
    "Now that you have written the model, the next step is to `compile` the model. When you print the `summary` of the model, you'll see the total number of parameters you have to train."
   ]
  },
  {
   "cell_type": "code",
   "execution_count": 8,
   "metadata": {
    "scrolled": true
   },
   "outputs": [
    {
     "name": "stdout",
     "output_type": "stream",
     "text": [
      "Model: \"sequential\"\n",
      "_________________________________________________________________\n",
      " Layer (type)                Output Shape              Param #   \n",
      "=================================================================\n",
      " conv3d (Conv3D)             (None, 16, 100, 100, 8)   656       \n",
      "                                                                 \n",
      " batch_normalization (BatchN  (None, 16, 100, 100, 8)  32        \n",
      " ormalization)                                                   \n",
      "                                                                 \n",
      " activation (Activation)     (None, 16, 100, 100, 8)   0         \n",
      "                                                                 \n",
      " max_pooling3d (MaxPooling3D  (None, 8, 50, 50, 8)     0         \n",
      " )                                                               \n",
      "                                                                 \n",
      " conv3d_1 (Conv3D)           (None, 8, 50, 50, 16)     3472      \n",
      "                                                                 \n",
      " batch_normalization_1 (Batc  (None, 8, 50, 50, 16)    64        \n",
      " hNormalization)                                                 \n",
      "                                                                 \n",
      " activation_1 (Activation)   (None, 8, 50, 50, 16)     0         \n",
      "                                                                 \n",
      " max_pooling3d_1 (MaxPooling  (None, 4, 25, 25, 16)    0         \n",
      " 3D)                                                             \n",
      "                                                                 \n",
      " conv3d_2 (Conv3D)           (None, 4, 25, 25, 32)     13856     \n",
      "                                                                 \n",
      " batch_normalization_2 (Batc  (None, 4, 25, 25, 32)    128       \n",
      " hNormalization)                                                 \n",
      "                                                                 \n",
      " activation_2 (Activation)   (None, 4, 25, 25, 32)     0         \n",
      "                                                                 \n",
      " max_pooling3d_2 (MaxPooling  (None, 2, 12, 12, 32)    0         \n",
      " 3D)                                                             \n",
      "                                                                 \n",
      " conv3d_3 (Conv3D)           (None, 2, 12, 12, 64)     36928     \n",
      "                                                                 \n",
      " batch_normalization_3 (Batc  (None, 2, 12, 12, 64)    256       \n",
      " hNormalization)                                                 \n",
      "                                                                 \n",
      " activation_3 (Activation)   (None, 2, 12, 12, 64)     0         \n",
      "                                                                 \n",
      " max_pooling3d_3 (MaxPooling  (None, 1, 6, 6, 64)      0         \n",
      " 3D)                                                             \n",
      "                                                                 \n",
      " flatten (Flatten)           (None, 2304)              0         \n",
      "                                                                 \n",
      " dense (Dense)               (None, 128)               295040    \n",
      "                                                                 \n",
      " dropout (Dropout)           (None, 128)               0         \n",
      "                                                                 \n",
      " dense_1 (Dense)             (None, 256)               33024     \n",
      "                                                                 \n",
      " dropout_1 (Dropout)         (None, 256)               0         \n",
      "                                                                 \n",
      " dense_2 (Dense)             (None, 5)                 1285      \n",
      "                                                                 \n",
      "=================================================================\n",
      "Total params: 384,741\n",
      "Trainable params: 384,501\n",
      "Non-trainable params: 240\n",
      "_________________________________________________________________\n",
      "None\n"
     ]
    }
   ],
   "source": [
    "optimiser = optimizers.Adam() #write your optimizer\n",
    "model_1.compile(optimizer=optimiser, loss='categorical_crossentropy', metrics=['categorical_accuracy'])\n",
    "print (model_1.summary())"
   ]
  },
  {
   "cell_type": "markdown",
   "metadata": {},
   "source": [
    "Let us create the `train_generator` and the `val_generator` which will be used in `.fit_generator`."
   ]
  },
  {
   "cell_type": "code",
   "execution_count": 9,
   "metadata": {},
   "outputs": [],
   "source": [
    "train_generator = generator(train_path, train_doc, batch_size)\n",
    "val_generator = generator(val_path, val_doc, batch_size)"
   ]
  },
  {
   "cell_type": "code",
   "execution_count": 10,
   "metadata": {},
   "outputs": [
    {
     "name": "stdout",
     "output_type": "stream",
     "text": [
      "WARNING:tensorflow:`period` argument is deprecated. Please use `save_freq` to specify the frequency in number of batches seen.\n"
     ]
    }
   ],
   "source": [
    "model_name = 'model_init' + '_' + str(curr_dt_time).replace(' ','').replace(':','_') + '/'\n",
    "    \n",
    "if not os.path.exists(model_name):\n",
    "    os.mkdir(model_name)\n",
    "        \n",
    "filepath = model_name + 'model-{epoch:05d}-{loss:.5f}-{categorical_accuracy:.5f}-{val_loss:.5f}-{val_categorical_accuracy:.5f}.h5'\n",
    "\n",
    "checkpoint = ModelCheckpoint(filepath, monitor='val_loss', verbose=1, save_best_only=False, save_weights_only=False, mode='auto',period =1)\n",
    "\n",
    "LR = ReduceLROnPlateau(monitor='val_loss', factor=0.5, patience=2, cooldown=1, verbose=1) # write the REducelronplateau code here\n",
    "callbacks_list = [checkpoint, LR]"
   ]
  },
  {
   "cell_type": "markdown",
   "metadata": {},
   "source": [
    "The `steps_per_epoch` and `validation_steps` are used by `fit` method to decide the number of next() calls it need to make."
   ]
  },
  {
   "cell_type": "code",
   "execution_count": 11,
   "metadata": {},
   "outputs": [],
   "source": [
    "if (num_train_sequences%batch_size) == 0:\n",
    "    steps_per_epoch = int(num_train_sequences/batch_size)\n",
    "else:\n",
    "    steps_per_epoch = (num_train_sequences//batch_size) + 1\n",
    "\n",
    "if (num_val_sequences%batch_size) == 0:\n",
    "    validation_steps = int(num_val_sequences/batch_size)\n",
    "else:\n",
    "    validation_steps = (num_val_sequences//batch_size) + 1"
   ]
  },
  {
   "cell_type": "markdown",
   "metadata": {},
   "source": [
    "Let us now fit the model. This will start training the model and with the help of the checkpoints, you'll be able to save the model at the end of each epoch."
   ]
  },
  {
   "cell_type": "code",
   "execution_count": 12,
   "metadata": {},
   "outputs": [
    {
     "name": "stdout",
     "output_type": "stream",
     "text": [
      "Source path =  /home/datasets/Project_data/train ; batch size = 32\n",
      "Epoch 1/10\n"
     ]
    },
    {
     "name": "stderr",
     "output_type": "stream",
     "text": [
      "2023-02-15 13:17:22.219669: I tensorflow/stream_executor/cuda/cuda_dnn.cc:377] Loaded cuDNN version 8302\n"
     ]
    },
    {
     "name": "stdout",
     "output_type": "stream",
     "text": [
      "19/21 [==========================>...] - ETA: 6s - loss: 1.8051 - categorical_accuracy: 0.3109 Batch:  21 Index: 32\n",
      "21/21 [==============================] - ETA: 0s - loss: 1.7540 - categorical_accuracy: 0.3243Source path =  /home/datasets/Project_data/val ; batch size = 32\n",
      "Batch:  4 Index: 32\n",
      "\n",
      "Epoch 00001: saving model to model_init_2023-02-1513_17_16.501795/model-00001-1.75400-0.32428-1.53085-0.21000.h5\n",
      "21/21 [==============================] - 83s 4s/step - loss: 1.7540 - categorical_accuracy: 0.3243 - val_loss: 1.5308 - val_categorical_accuracy: 0.2100 - lr: 0.0010\n",
      "Epoch 2/10\n",
      "21/21 [==============================] - ETA: 0s - loss: 1.3058 - categorical_accuracy: 0.4286\n",
      "Epoch 00002: saving model to model_init_2023-02-1513_17_16.501795/model-00002-1.30585-0.42857-1.82636-0.18750.h5\n",
      "21/21 [==============================] - 55s 3s/step - loss: 1.3058 - categorical_accuracy: 0.4286 - val_loss: 1.8264 - val_categorical_accuracy: 0.1875 - lr: 0.0010\n",
      "Epoch 3/10\n",
      " 6/21 [=======>......................] - ETA: 37s - loss: 1.2718 - categorical_accuracy: 0.4493Batch:  29 Index: 23\n",
      "21/21 [==============================] - ETA: 0s - loss: 1.2344 - categorical_accuracy: 0.4567\n",
      "Epoch 00003: saving model to model_init_2023-02-1513_17_16.501795/model-00003-1.23437-0.45667-2.52901-0.06250.h5\n",
      "\n",
      "Epoch 00003: ReduceLROnPlateau reducing learning rate to 0.0005000000237487257.\n",
      "21/21 [==============================] - 46s 2s/step - loss: 1.2344 - categorical_accuracy: 0.4567 - val_loss: 2.5290 - val_categorical_accuracy: 0.0625 - lr: 0.0010\n",
      "Epoch 4/10\n",
      "20/21 [===========================>..] - ETA: 2s - loss: 1.1000 - categorical_accuracy: 0.5474Batch:  35 Index: 19\n",
      "21/21 [==============================] - ETA: 0s - loss: 1.0961 - categorical_accuracy: 0.5539\n",
      "Epoch 00004: saving model to model_init_2023-02-1513_17_16.501795/model-00004-1.09612-0.55388-2.86825-0.18750.h5\n",
      "21/21 [==============================] - 44s 2s/step - loss: 1.0961 - categorical_accuracy: 0.5539 - val_loss: 2.8682 - val_categorical_accuracy: 0.1875 - lr: 5.0000e-04\n",
      "Epoch 5/10\n",
      "21/21 [==============================] - ETA: 0s - loss: 0.9764 - categorical_accuracy: 0.5714\n",
      "Epoch 00005: saving model to model_init_2023-02-1513_17_16.501795/model-00005-0.97638-0.57143-3.24982-0.25000.h5\n",
      "\n",
      "Epoch 00005: ReduceLROnPlateau reducing learning rate to 0.0002500000118743628.\n",
      "21/21 [==============================] - 41s 2s/step - loss: 0.9764 - categorical_accuracy: 0.5714 - val_loss: 3.2498 - val_categorical_accuracy: 0.2500 - lr: 5.0000e-04\n",
      "Epoch 6/10\n",
      "21/21 [==============================] - ETA: 0s - loss: 0.8268 - categorical_accuracy: 0.6667\n",
      "Epoch 00006: saving model to model_init_2023-02-1513_17_16.501795/model-00006-0.82683-0.66667-3.35844-0.31250.h5\n",
      "21/21 [==============================] - 39s 2s/step - loss: 0.8268 - categorical_accuracy: 0.6667 - val_loss: 3.3584 - val_categorical_accuracy: 0.3125 - lr: 2.5000e-04\n",
      "Epoch 7/10\n",
      "21/21 [==============================] - ETA: 0s - loss: 0.7830 - categorical_accuracy: 0.6723\n",
      "Epoch 00007: saving model to model_init_2023-02-1513_17_16.501795/model-00007-0.78300-0.67227-4.01784-0.18750.h5\n",
      "\n",
      "Epoch 00007: ReduceLROnPlateau reducing learning rate to 0.0001250000059371814.\n",
      "21/21 [==============================] - 41s 2s/step - loss: 0.7830 - categorical_accuracy: 0.6723 - val_loss: 4.0178 - val_categorical_accuracy: 0.1875 - lr: 2.5000e-04\n",
      "Epoch 8/10\n",
      "21/21 [==============================] - ETA: 0s - loss: 0.6954 - categorical_accuracy: 0.7199\n",
      "Epoch 00008: saving model to model_init_2023-02-1513_17_16.501795/model-00008-0.69545-0.71989-4.12935-0.12500.h5\n",
      "21/21 [==============================] - 38s 2s/step - loss: 0.6954 - categorical_accuracy: 0.7199 - val_loss: 4.1294 - val_categorical_accuracy: 0.1250 - lr: 1.2500e-04\n",
      "Epoch 9/10\n",
      "21/21 [==============================] - ETA: 0s - loss: 0.6414 - categorical_accuracy: 0.7339\n",
      "Epoch 00009: saving model to model_init_2023-02-1513_17_16.501795/model-00009-0.64138-0.73389-4.71062-0.18750.h5\n",
      "\n",
      "Epoch 00009: ReduceLROnPlateau reducing learning rate to 6.25000029685907e-05.\n",
      "21/21 [==============================] - 42s 2s/step - loss: 0.6414 - categorical_accuracy: 0.7339 - val_loss: 4.7106 - val_categorical_accuracy: 0.1875 - lr: 1.2500e-04\n",
      "Epoch 10/10\n",
      "21/21 [==============================] - ETA: 0s - loss: 0.6413 - categorical_accuracy: 0.7703\n",
      "Epoch 00010: saving model to model_init_2023-02-1513_17_16.501795/model-00010-0.64134-0.77031-4.19570-0.18750.h5\n",
      "21/21 [==============================] - 39s 2s/step - loss: 0.6413 - categorical_accuracy: 0.7703 - val_loss: 4.1957 - val_categorical_accuracy: 0.1875 - lr: 6.2500e-05\n"
     ]
    }
   ],
   "source": [
    "history = model_1.fit(train_generator, steps_per_epoch=steps_per_epoch, epochs=num_epochs, verbose=1, \n",
    "                    callbacks=callbacks_list, validation_data=val_generator, \n",
    "                    validation_steps=validation_steps, class_weight=None, workers=1, initial_epoch=0)"
   ]
  },
  {
   "cell_type": "code",
   "execution_count": 13,
   "metadata": {},
   "outputs": [
    {
     "data": {
      "image/png": "[encoded data removed]",
      "text/plain": [
       "<Figure size 432x288 with 1 Axes>"
      ]
     },
     "metadata": {
      "needs_background": "light"
     },
     "output_type": "display_data"
    },
    {
     "data": {
      "image/png": "[encoded data removed]",
      "text/plain": [
       "<Figure size 432x288 with 1 Axes>"
      ]
     },
     "metadata": {
      "needs_background": "light"
     },
     "output_type": "display_data"
    }
   ],
   "source": [
    "# Plotting graph for train and val accuracy and loss\n",
    "plt.plot(history.history['categorical_accuracy'])\n",
    "plt.plot(history.history['val_categorical_accuracy'])\n",
    "plt.title('model 1 accuracy')\n",
    "plt.ylabel('accuracy')\n",
    "plt.xlabel('epoch')\n",
    "plt.legend(['train', 'val'], loc='upper left')\n",
    "plt.show()\n",
    "\n",
    "# summarize history for loss\n",
    "plt.plot(history.history['loss'])\n",
    "plt.plot(history.history['val_loss'])\n",
    "plt.title('model 1 loss')\n",
    "plt.ylabel('loss')\n",
    "plt.xlabel('epoch')\n",
    "plt.legend(['train', 'val'], loc='upper left')\n",
    "plt.show()"
   ]
  },
  {
   "cell_type": "markdown",
   "metadata": {},
   "source": [
    "# Experiment No 2"
   ]
  },
  {
   "cell_type": "code",
   "execution_count": 14,
   "metadata": {},
   "outputs": [],
   "source": [
    "train_doc = np.random.permutation(open('/home/datasets/Project_data/train.csv').readlines())\n",
    "val_doc = np.random.permutation(open('/home/datasets/Project_data/val.csv').readlines())\n",
    "batch_size = 32"
   ]
  },
  {
   "cell_type": "markdown",
   "metadata": {},
   "source": [
    "**data path: /home/datasets/Project_data**"
   ]
  },
  {
   "cell_type": "code",
   "execution_count": 15,
   "metadata": {},
   "outputs": [],
   "source": [
    "x = 16 # number of frames\n",
    "y = 100 # image width\n",
    "z = 100 # image height\n",
    "\n",
    "def generator(source_path, folder_list, batch_size):\n",
    "    print( 'Source path = ', source_path, '; batch size =', batch_size)\n",
    "    img_idx = [0,1,3,5,6,9,12,15,18,19,20,21,24,25,27,29] # using all images in folder\n",
    "    while True:\n",
    "        t = np.random.permutation(folder_list)\n",
    "        num_batches = len(folder_list)//batch_size # calculate the number of batches\n",
    "        for batch in range(num_batches): # we iterate over the number of batches\n",
    "            batch_data = np.zeros((batch_size,x,y,z,3)) # x is the number of images you use for each video, (y,z) is the final size of the input images and 3 is the number of channels RGB\n",
    "            batch_labels = np.zeros((batch_size,5)) # batch_labels is the one hot representation of the output\n",
    "            for folder in range(batch_size): # iterate over the batch_size\n",
    "                imgs = os.listdir(source_path+'/'+ t[folder + (batch*batch_size)].split(';')[0]) # read all the images in the folder\n",
    "                for idx,item in enumerate(img_idx): #  Iterate iver the frames/images of a folder to read them in\n",
    "                    image = imread(source_path+'/'+ t[folder + (batch*batch_size)].strip().split(';')[0]+'/'+imgs[item]).astype(np.float32)\n",
    "                    \n",
    "                    #crop the images and resize them. Note that the images are of 2 different shape \n",
    "                    #and the conv3D will throw error if the inputs in a batch have different shapes\n",
    "                    \n",
    "                    temp = resize(image, (y, z))\n",
    "                    temp = temp/255 #Normalize data\n",
    "                    \n",
    "                    batch_data[folder,idx,:,:,0] = (temp[:,:,0]) #normalise and feed in the image\n",
    "                    batch_data[folder,idx,:,:,1] = (temp[:,:,1]) #normalise and feed in the image\n",
    "                    batch_data[folder,idx,:,:,2] = (temp[:,:,2]) #normalise and feed in the image\n",
    "                    \n",
    "                batch_labels[folder, int(t[folder + (batch*batch_size)].strip().split(';')[2])] = 1\n",
    "            yield batch_data, batch_labels #you yield the batch_data and the batch_labels, remember what does yield do\n",
    "\n",
    "        \n",
    "        # write the code for the remaining data points which are left after full batches\n",
    "        if (len(folder_list) != batch_size*num_batches):\n",
    "            print(\"Batch: \",num_batches+1,\"Index:\", batch_size)\n",
    "            batch_size = len(folder_list) - (batch_size*num_batches)\n",
    "            batch_data = np.zeros((batch_size,x,y,z,3)) # x is the number of images you use for each video, (y,z) is the final size of the input images and 3 is the number of channels RGB\n",
    "            batch_labels = np.zeros((batch_size,5)) # batch_labels is the one hot representation of the output\n",
    "            for folder in range(batch_size): # iterate over the batch_size\n",
    "                imgs = os.listdir(source_path+'/'+ t[folder + (batch*batch_size)].split(';')[0]) # read all the images in the folder\n",
    "                for idx,item in enumerate(img_idx): #  Iterate iver the frames/images of a folder to read them in\n",
    "                    image = imread(source_path+'/'+ t[folder + (batch*batch_size)].strip().split(';')[0]+'/'+imgs[item]).astype(np.float32)\n",
    "                    \n",
    "                    #crop the images and resize them. Note that the images are of 2 different shape \n",
    "                    #and the conv3D will throw error if the inputs in a batch have different shapes\n",
    "                    temp = resize(image, (y, z))\n",
    "                    temp = temp/255 #Normalize data\n",
    "                    \n",
    "                    batch_data[folder,idx,:,:,0] = (temp[:,:,0])\n",
    "                    batch_data[folder,idx,:,:,1] = (temp[:,:,1])\n",
    "                    batch_data[folder,idx,:,:,2] = (temp[:,:,2])\n",
    "                   \n",
    "                batch_labels[folder, int(t[folder + (batch*batch_size)].strip().split(';')[2])] = 1\n",
    "            yield batch_data, batch_labels"
   ]
  },
  {
   "cell_type": "markdown",
   "metadata": {},
   "source": [
    "Note here that a video is represented above in the generator as (number of images, height, width, number of channels). Take this into consideration while creating the model architecture."
   ]
  },
  {
   "cell_type": "code",
   "execution_count": 16,
   "metadata": {},
   "outputs": [
    {
     "name": "stdout",
     "output_type": "stream",
     "text": [
      "# training sequences = 663\n",
      "# validation sequences = 100\n",
      "# epochs = 20\n"
     ]
    }
   ],
   "source": [
    "curr_dt_time = datetime.datetime.now()\n",
    "train_path = '/home/datasets/Project_data/train'\n",
    "val_path = '/home/datasets/Project_data/val'\n",
    "num_train_sequences = len(train_doc)\n",
    "print('# training sequences =', num_train_sequences)\n",
    "num_val_sequences = len(val_doc)\n",
    "print('# validation sequences =', num_val_sequences)\n",
    "num_epochs = 20\n",
    "print ('# epochs =', num_epochs)"
   ]
  },
  {
   "cell_type": "markdown",
   "metadata": {},
   "source": [
    "## Model\n",
    "Here you make the model using different functionalities that Keras provides. Remember to use `Conv3D` and `MaxPooling3D` and not `Conv2D` and `Maxpooling2D` for a 3D convolution model. You would want to use `TimeDistributed` while building a Conv2D + RNN model. Also remember that the last layer is the softmax. Design the network in such a way that the model is able to give good accuracy on the least number of parameters so that it can fit in the memory of the webcam."
   ]
  },
  {
   "cell_type": "code",
   "execution_count": 17,
   "metadata": {},
   "outputs": [],
   "source": [
    "from tensorflow.keras.models import Sequential\n",
    "from tensorflow.keras.layers import Dense, GRU, Dropout, Flatten, BatchNormalization, Activation, Conv3D, MaxPooling3D\n",
    "from tensorflow.keras.callbacks import ModelCheckpoint, ReduceLROnPlateau\n",
    "from tensorflow.keras import optimizers\n",
    "\n",
    "model_2 = Sequential()\n",
    "\n",
    "model_2.add(Conv3D(16, kernel_size=(3,3,3), input_shape=(16, 100, 100, 3), padding='same'))\n",
    "model_2.add(BatchNormalization())\n",
    "model_2.add(Activation('relu'))\n",
    "model_2.add(MaxPooling3D(pool_size=(2,2,2)))\n",
    "\n",
    "model_2.add(Conv3D(32, kernel_size=(3,3,3), padding='same'))\n",
    "model_2.add(BatchNormalization())\n",
    "model_2.add(Activation('relu'))\n",
    "model_2.add(MaxPooling3D(pool_size=(2,2,2)))\n",
    "\n",
    "model_2.add(Conv3D(64, kernel_size=(3,3,3), padding='same'))\n",
    "model_2.add(BatchNormalization())\n",
    "model_2.add(Activation('relu'))\n",
    "model_2.add(MaxPooling3D(pool_size=(2,2,2)))\n",
    "\n",
    "model_2.add(Conv3D(128, kernel_size=(3,3,3), padding='same'))\n",
    "model_2.add(BatchNormalization())\n",
    "model_2.add(Activation('relu'))\n",
    "model_2.add(MaxPooling3D(pool_size=(2,2,2)))\n",
    "\n",
    "#Flatten Layers\n",
    "model_2.add(Flatten())\n",
    "\n",
    "model_2.add(Dense(256, activation='relu'))\n",
    "model_2.add(Dropout(0.10))\n",
    "\n",
    "model_2.add(Dense(512, activation='relu'))\n",
    "model_2.add(Dropout(0.10))\n",
    "\n",
    "#softmax layer\n",
    "model_2.add(Dense(5, activation='softmax'))"
   ]
  },
  {
   "cell_type": "markdown",
   "metadata": {},
   "source": [
    "Now that you have written the model, the next step is to `compile` the model. When you print the `summary` of the model, you'll see the total number of parameters you have to train."
   ]
  },
  {
   "cell_type": "code",
   "execution_count": 18,
   "metadata": {
    "scrolled": true
   },
   "outputs": [
    {
     "name": "stdout",
     "output_type": "stream",
     "text": [
      "Model: \"sequential_1\"\n",
      "_________________________________________________________________\n",
      " Layer (type)                Output Shape              Param #   \n",
      "=================================================================\n",
      " conv3d_4 (Conv3D)           (None, 16, 100, 100, 16)  1312      \n",
      "                                                                 \n",
      " batch_normalization_4 (Batc  (None, 16, 100, 100, 16)  64       \n",
      " hNormalization)                                                 \n",
      "                                                                 \n",
      " activation_4 (Activation)   (None, 16, 100, 100, 16)  0         \n",
      "                                                                 \n",
      " max_pooling3d_4 (MaxPooling  (None, 8, 50, 50, 16)    0         \n",
      " 3D)                                                             \n",
      "                                                                 \n",
      " conv3d_5 (Conv3D)           (None, 8, 50, 50, 32)     13856     \n",
      "                                                                 \n",
      " batch_normalization_5 (Batc  (None, 8, 50, 50, 32)    128       \n",
      " hNormalization)                                                 \n",
      "                                                                 \n",
      " activation_5 (Activation)   (None, 8, 50, 50, 32)     0         \n",
      "                                                                 \n",
      " max_pooling3d_5 (MaxPooling  (None, 4, 25, 25, 32)    0         \n",
      " 3D)                                                             \n",
      "                                                                 \n",
      " conv3d_6 (Conv3D)           (None, 4, 25, 25, 64)     55360     \n",
      "                                                                 \n",
      " batch_normalization_6 (Batc  (None, 4, 25, 25, 64)    256       \n",
      " hNormalization)                                                 \n",
      "                                                                 \n",
      " activation_6 (Activation)   (None, 4, 25, 25, 64)     0         \n",
      "                                                                 \n",
      " max_pooling3d_6 (MaxPooling  (None, 2, 12, 12, 64)    0         \n",
      " 3D)                                                             \n",
      "                                                                 \n",
      " conv3d_7 (Conv3D)           (None, 2, 12, 12, 128)    221312    \n",
      "                                                                 \n",
      " batch_normalization_7 (Batc  (None, 2, 12, 12, 128)   512       \n",
      " hNormalization)                                                 \n",
      "                                                                 \n",
      " activation_7 (Activation)   (None, 2, 12, 12, 128)    0         \n",
      "                                                                 \n",
      " max_pooling3d_7 (MaxPooling  (None, 1, 6, 6, 128)     0         \n",
      " 3D)                                                             \n",
      "                                                                 \n",
      " flatten_1 (Flatten)         (None, 4608)              0         \n",
      "                                                                 \n",
      " dense_3 (Dense)             (None, 256)               1179904   \n",
      "                                                                 \n",
      " dropout_2 (Dropout)         (None, 256)               0         \n",
      "                                                                 \n",
      " dense_4 (Dense)             (None, 512)               131584    \n",
      "                                                                 \n",
      " dropout_3 (Dropout)         (None, 512)               0         \n",
      "                                                                 \n",
      " dense_5 (Dense)             (None, 5)                 2565      \n",
      "                                                                 \n",
      "=================================================================\n",
      "Total params: 1,606,853\n",
      "Trainable params: 1,606,373\n",
      "Non-trainable params: 480\n",
      "_________________________________________________________________\n",
      "None\n"
     ]
    }
   ],
   "source": [
    "optimiser = optimizers.Adam() #write your optimizer\n",
    "model_2.compile(optimizer=optimiser, loss='categorical_crossentropy', metrics=['categorical_accuracy'])\n",
    "print (model_2.summary())"
   ]
  },
  {
   "cell_type": "markdown",
   "metadata": {},
   "source": [
    "Let us create the `train_generator` and the `val_generator` which will be used in `.fit_generator`."
   ]
  },
  {
   "cell_type": "code",
   "execution_count": 19,
   "metadata": {},
   "outputs": [],
   "source": [
    "train_generator = generator(train_path, train_doc, batch_size)\n",
    "val_generator = generator(val_path, val_doc, batch_size)"
   ]
  },
  {
   "cell_type": "code",
   "execution_count": 20,
   "metadata": {},
   "outputs": [
    {
     "name": "stdout",
     "output_type": "stream",
     "text": [
      "WARNING:tensorflow:`period` argument is deprecated. Please use `save_freq` to specify the frequency in number of batches seen.\n"
     ]
    }
   ],
   "source": [
    "model_name = 'model_init' + '_' + str(curr_dt_time).replace(' ','').replace(':','_') + '/'\n",
    "    \n",
    "if not os.path.exists(model_name):\n",
    "    os.mkdir(model_name)\n",
    "        \n",
    "filepath = model_name + 'model-{epoch:05d}-{loss:.5f}-{categorical_accuracy:.5f}-{val_loss:.5f}-{val_categorical_accuracy:.5f}.h5'\n",
    "\n",
    "checkpoint = ModelCheckpoint(filepath, monitor='val_loss', verbose=1, save_best_only=False, save_weights_only=False, mode='auto',period =1)\n",
    "\n",
    "LR = ReduceLROnPlateau(monitor='val_loss', factor=0.5, patience=2, cooldown=1, verbose=1) # write the REducelronplateau code here\n",
    "callbacks_list = [checkpoint, LR]"
   ]
  },
  {
   "cell_type": "markdown",
   "metadata": {},
   "source": [
    "The `steps_per_epoch` and `validation_steps` are used by `fit` method to decide the number of next() calls it need to make."
   ]
  },
  {
   "cell_type": "code",
   "execution_count": 21,
   "metadata": {},
   "outputs": [],
   "source": [
    "if (num_train_sequences%batch_size) == 0:\n",
    "    steps_per_epoch = int(num_train_sequences/batch_size)\n",
    "else:\n",
    "    steps_per_epoch = (num_train_sequences//batch_size) + 1\n",
    "\n",
    "if (num_val_sequences%batch_size) == 0:\n",
    "    validation_steps = int(num_val_sequences/batch_size)\n",
    "else:\n",
    "    validation_steps = (num_val_sequences//batch_size) + 1"
   ]
  },
  {
   "cell_type": "markdown",
   "metadata": {},
   "source": [
    "Let us now fit the model. This will start training the model and with the help of the checkpoints, you'll be able to save the model at the end of each epoch."
   ]
  },
  {
   "cell_type": "code",
   "execution_count": 22,
   "metadata": {},
   "outputs": [
    {
     "name": "stdout",
     "output_type": "stream",
     "text": [
      "Source path =  /home/datasets/Project_data/train ; batch size = 32\n",
      "Epoch 1/20\n",
      "19/21 [==========================>...] - ETA: 6s - loss: 2.6949 - categorical_accuracy: 0.3306 Batch:  21 Index: 32\n",
      "21/21 [==============================] - ETA: 0s - loss: 2.5763 - categorical_accuracy: 0.3318Source path =  /home/datasets/Project_data/val ; batch size = 32\n",
      "Batch:  4 Index: 32\n",
      "\n",
      "Epoch 00001: saving model to model_init_2023-02-1513_25_08.074418/model-00001-2.57626-0.33183-1.94165-0.26000.h5\n",
      "21/21 [==============================] - 84s 4s/step - loss: 2.5763 - categorical_accuracy: 0.3318 - val_loss: 1.9417 - val_categorical_accuracy: 0.2600 - lr: 0.0010\n",
      "Epoch 2/20\n",
      "21/21 [==============================] - ETA: 0s - loss: 1.3261 - categorical_accuracy: 0.4224\n",
      "Epoch 00002: saving model to model_init_2023-02-1513_25_08.074418/model-00002-1.32608-0.42236-1.94091-0.18750.h5\n",
      "21/21 [==============================] - 52s 3s/step - loss: 1.3261 - categorical_accuracy: 0.4224 - val_loss: 1.9409 - val_categorical_accuracy: 0.1875 - lr: 0.0010\n",
      "Epoch 3/20\n",
      " 6/21 [=======>......................] - ETA: 40s - loss: 1.2650 - categorical_accuracy: 0.3551Batch:  29 Index: 23\n",
      "21/21 [==============================] - ETA: 0s - loss: 1.1417 - categorical_accuracy: 0.4754\n",
      "Epoch 00003: saving model to model_init_2023-02-1513_25_08.074418/model-00003-1.14175-0.47541-2.73983-0.25000.h5\n",
      "21/21 [==============================] - 49s 2s/step - loss: 1.1417 - categorical_accuracy: 0.4754 - val_loss: 2.7398 - val_categorical_accuracy: 0.2500 - lr: 0.0010\n",
      "Epoch 4/20\n",
      "20/21 [===========================>..] - ETA: 2s - loss: 1.0209 - categorical_accuracy: 0.5684Batch:  35 Index: 19\n",
      "21/21 [==============================] - ETA: 0s - loss: 1.0416 - categorical_accuracy: 0.5589\n",
      "Epoch 00004: saving model to model_init_2023-02-1513_25_08.074418/model-00004-1.04158-0.55890-3.24280-0.25000.h5\n",
      "\n",
      "Epoch 00004: ReduceLROnPlateau reducing learning rate to 0.0005000000237487257.\n",
      "21/21 [==============================] - 45s 2s/step - loss: 1.0416 - categorical_accuracy: 0.5589 - val_loss: 3.2428 - val_categorical_accuracy: 0.2500 - lr: 0.0010\n",
      "Epoch 5/20\n",
      "21/21 [==============================] - ETA: 0s - loss: 0.9841 - categorical_accuracy: 0.6134\n",
      "Epoch 00005: saving model to model_init_2023-02-1513_25_08.074418/model-00005-0.98409-0.61345-3.05552-0.12500.h5\n",
      "21/21 [==============================] - 39s 2s/step - loss: 0.9841 - categorical_accuracy: 0.6134 - val_loss: 3.0555 - val_categorical_accuracy: 0.1250 - lr: 5.0000e-04\n",
      "Epoch 6/20\n",
      "21/21 [==============================] - ETA: 0s - loss: 0.9313 - categorical_accuracy: 0.6218\n",
      "Epoch 00006: saving model to model_init_2023-02-1513_25_08.074418/model-00006-0.93128-0.62185-3.88316-0.12500.h5\n",
      "\n",
      "Epoch 00006: ReduceLROnPlateau reducing learning rate to 0.0002500000118743628.\n",
      "21/21 [==============================] - 40s 2s/step - loss: 0.9313 - categorical_accuracy: 0.6218 - val_loss: 3.8832 - val_categorical_accuracy: 0.1250 - lr: 5.0000e-04\n",
      "Epoch 7/20\n",
      "21/21 [==============================] - ETA: 0s - loss: 0.7844 - categorical_accuracy: 0.6947\n",
      "Epoch 00007: saving model to model_init_2023-02-1513_25_08.074418/model-00007-0.78440-0.69468-4.80682-0.06250.h5\n",
      "21/21 [==============================] - 40s 2s/step - loss: 0.7844 - categorical_accuracy: 0.6947 - val_loss: 4.8068 - val_categorical_accuracy: 0.0625 - lr: 2.5000e-04\n",
      "Epoch 8/20\n",
      "21/21 [==============================] - ETA: 0s - loss: 0.7243 - categorical_accuracy: 0.7115\n",
      "Epoch 00008: saving model to model_init_2023-02-1513_25_08.074418/model-00008-0.72427-0.71148-3.39422-0.25000.h5\n",
      "\n",
      "Epoch 00008: ReduceLROnPlateau reducing learning rate to 0.0001250000059371814.\n",
      "21/21 [==============================] - 41s 2s/step - loss: 0.7243 - categorical_accuracy: 0.7115 - val_loss: 3.3942 - val_categorical_accuracy: 0.2500 - lr: 2.5000e-04\n",
      "Epoch 9/20\n",
      "21/21 [==============================] - ETA: 0s - loss: 0.7025 - categorical_accuracy: 0.7143\n",
      "Epoch 00009: saving model to model_init_2023-02-1513_25_08.074418/model-00009-0.70250-0.71429-3.64572-0.31250.h5\n",
      "21/21 [==============================] - 39s 2s/step - loss: 0.7025 - categorical_accuracy: 0.7143 - val_loss: 3.6457 - val_categorical_accuracy: 0.3125 - lr: 1.2500e-04\n",
      "Epoch 10/20\n",
      "21/21 [==============================] - ETA: 0s - loss: 0.5790 - categorical_accuracy: 0.7759\n",
      "Epoch 00010: saving model to model_init_2023-02-1513_25_08.074418/model-00010-0.57897-0.77591-5.14854-0.12500.h5\n",
      "\n",
      "Epoch 00010: ReduceLROnPlateau reducing learning rate to 6.25000029685907e-05.\n",
      "21/21 [==============================] - 40s 2s/step - loss: 0.5790 - categorical_accuracy: 0.7759 - val_loss: 5.1485 - val_categorical_accuracy: 0.1250 - lr: 1.2500e-04\n",
      "Epoch 11/20\n",
      "21/21 [==============================] - ETA: 0s - loss: 0.5323 - categorical_accuracy: 0.7899\n",
      "Epoch 00011: saving model to model_init_2023-02-1513_25_08.074418/model-00011-0.53226-0.78992-4.54685-0.37500.h5\n",
      "21/21 [==============================] - 39s 2s/step - loss: 0.5323 - categorical_accuracy: 0.7899 - val_loss: 4.5469 - val_categorical_accuracy: 0.3750 - lr: 6.2500e-05\n",
      "Epoch 12/20\n",
      "21/21 [==============================] - ETA: 0s - loss: 0.4750 - categorical_accuracy: 0.8235\n",
      "Epoch 00012: saving model to model_init_2023-02-1513_25_08.074418/model-00012-0.47499-0.82353-5.90530-0.18750.h5\n",
      "\n",
      "Epoch 00012: ReduceLROnPlateau reducing learning rate to 3.125000148429535e-05.\n",
      "21/21 [==============================] - 40s 2s/step - loss: 0.4750 - categorical_accuracy: 0.8235 - val_loss: 5.9053 - val_categorical_accuracy: 0.1875 - lr: 6.2500e-05\n",
      "Epoch 13/20\n",
      "21/21 [==============================] - ETA: 0s - loss: 0.4937 - categorical_accuracy: 0.8011\n",
      "Epoch 00013: saving model to model_init_2023-02-1513_25_08.074418/model-00013-0.49370-0.80112-6.47144-0.06250.h5\n",
      "21/21 [==============================] - 40s 2s/step - loss: 0.4937 - categorical_accuracy: 0.8011 - val_loss: 6.4714 - val_categorical_accuracy: 0.0625 - lr: 3.1250e-05\n",
      "Epoch 14/20\n",
      "21/21 [==============================] - ETA: 0s - loss: 0.4902 - categorical_accuracy: 0.7899\n",
      "Epoch 00014: saving model to model_init_2023-02-1513_25_08.074418/model-00014-0.49022-0.78992-3.89877-0.31250.h5\n",
      "\n",
      "Epoch 00014: ReduceLROnPlateau reducing learning rate to 1.5625000742147677e-05.\n",
      "21/21 [==============================] - 40s 2s/step - loss: 0.4902 - categorical_accuracy: 0.7899 - val_loss: 3.8988 - val_categorical_accuracy: 0.3125 - lr: 3.1250e-05\n",
      "Epoch 15/20\n",
      "21/21 [==============================] - ETA: 0s - loss: 0.4389 - categorical_accuracy: 0.8319\n",
      "Epoch 00015: saving model to model_init_2023-02-1513_25_08.074418/model-00015-0.43891-0.83193-4.73008-0.25000.h5\n",
      "21/21 [==============================] - 40s 2s/step - loss: 0.4389 - categorical_accuracy: 0.8319 - val_loss: 4.7301 - val_categorical_accuracy: 0.2500 - lr: 1.5625e-05\n",
      "Epoch 16/20\n",
      "21/21 [==============================] - ETA: 0s - loss: 0.4194 - categorical_accuracy: 0.8291\n",
      "Epoch 00016: saving model to model_init_2023-02-1513_25_08.074418/model-00016-0.41941-0.82913-6.22622-0.18750.h5\n",
      "\n",
      "Epoch 00016: ReduceLROnPlateau reducing learning rate to 7.812500371073838e-06.\n",
      "21/21 [==============================] - 40s 2s/step - loss: 0.4194 - categorical_accuracy: 0.8291 - val_loss: 6.2262 - val_categorical_accuracy: 0.1875 - lr: 1.5625e-05\n",
      "Epoch 17/20\n",
      "21/21 [==============================] - ETA: 0s - loss: 0.4463 - categorical_accuracy: 0.8291\n",
      "Epoch 00017: saving model to model_init_2023-02-1513_25_08.074418/model-00017-0.44630-0.82913-5.26895-0.12500.h5\n",
      "21/21 [==============================] - 40s 2s/step - loss: 0.4463 - categorical_accuracy: 0.8291 - val_loss: 5.2690 - val_categorical_accuracy: 0.1250 - lr: 7.8125e-06\n",
      "Epoch 18/20\n",
      "21/21 [==============================] - ETA: 0s - loss: 0.4515 - categorical_accuracy: 0.8207\n",
      "Epoch 00018: saving model to model_init_2023-02-1513_25_08.074418/model-00018-0.45151-0.82073-4.33010-0.31250.h5\n",
      "\n",
      "Epoch 00018: ReduceLROnPlateau reducing learning rate to 3.906250185536919e-06.\n",
      "21/21 [==============================] - 40s 2s/step - loss: 0.4515 - categorical_accuracy: 0.8207 - val_loss: 4.3301 - val_categorical_accuracy: 0.3125 - lr: 7.8125e-06\n",
      "Epoch 19/20\n",
      "21/21 [==============================] - ETA: 0s - loss: 0.4290 - categorical_accuracy: 0.8543\n",
      "Epoch 00019: saving model to model_init_2023-02-1513_25_08.074418/model-00019-0.42896-0.85434-4.14945-0.25000.h5\n",
      "21/21 [==============================] - 38s 2s/step - loss: 0.4290 - categorical_accuracy: 0.8543 - val_loss: 4.1494 - val_categorical_accuracy: 0.2500 - lr: 3.9063e-06\n",
      "Epoch 20/20\n",
      "21/21 [==============================] - ETA: 0s - loss: 0.4596 - categorical_accuracy: 0.8431\n",
      "Epoch 00020: saving model to model_init_2023-02-1513_25_08.074418/model-00020-0.45963-0.84314-4.73830-0.18750.h5\n",
      "\n",
      "Epoch 00020: ReduceLROnPlateau reducing learning rate to 1.9531250927684596e-06.\n",
      "21/21 [==============================] - 40s 2s/step - loss: 0.4596 - categorical_accuracy: 0.8431 - val_loss: 4.7383 - val_categorical_accuracy: 0.1875 - lr: 3.9063e-06\n"
     ]
    }
   ],
   "source": [
    "history = model_2.fit(train_generator, steps_per_epoch=steps_per_epoch, epochs=num_epochs, verbose=1, \n",
    "                    callbacks=callbacks_list, validation_data=val_generator, \n",
    "                    validation_steps=validation_steps, class_weight=None, workers=1, initial_epoch=0)"
   ]
  },
  {
   "cell_type": "code",
   "execution_count": 23,
   "metadata": {},
   "outputs": [
    {
     "data": {
      "image/png": "[encoded data removed]",
      "text/plain": [
       "<Figure size 432x288 with 1 Axes>"
      ]
     },
     "metadata": {
      "needs_background": "light"
     },
     "output_type": "display_data"
    },
    {
     "data": {
      "image/png": "[encoded data removed]",
      "text/plain": [
       "<Figure size 432x288 with 1 Axes>"
      ]
     },
     "metadata": {
      "needs_background": "light"
     },
     "output_type": "display_data"
    }
   ],
   "source": [
    "# Plotting graph for train and val accuracy and loss\n",
    "plt.plot(history.history['categorical_accuracy'])\n",
    "plt.plot(history.history['val_categorical_accuracy'])\n",
    "plt.title('model 2 accuracy')\n",
    "plt.ylabel('accuracy')\n",
    "plt.xlabel('epoch')\n",
    "plt.legend(['train', 'val'], loc='upper left')\n",
    "plt.show()\n",
    "\n",
    "# summarize history for loss\n",
    "plt.plot(history.history['loss'])\n",
    "plt.plot(history.history['val_loss'])\n",
    "plt.title('model 2 loss')\n",
    "plt.ylabel('loss')\n",
    "plt.xlabel('epoch')\n",
    "plt.legend(['train', 'val'], loc='upper left')\n",
    "plt.show()"
   ]
  },
  {
   "cell_type": "markdown",
   "metadata": {},
   "source": [
    "# Experiment No 3"
   ]
  },
  {
   "cell_type": "code",
   "execution_count": 24,
   "metadata": {},
   "outputs": [],
   "source": [
    "train_doc = np.random.permutation(open('/home/datasets/Project_data/train.csv').readlines())\n",
    "val_doc = np.random.permutation(open('/home/datasets/Project_data/val.csv').readlines())\n",
    "batch_size = 16"
   ]
  },
  {
   "cell_type": "markdown",
   "metadata": {},
   "source": [
    "**data path: /home/datasets/Project_data**"
   ]
  },
  {
   "cell_type": "code",
   "execution_count": 25,
   "metadata": {},
   "outputs": [],
   "source": [
    "x = 20 # number of frames\n",
    "y = 100 # image width\n",
    "z = 100 # image height\n",
    "\n",
    "def generator(source_path, folder_list, batch_size):\n",
    "    print( 'Source path = ', source_path, '; batch size =', batch_size)\n",
    "    img_idx = [5,6,7,8,9,10,11,12,13,14,15,16,17,18,19,20,21,22,23,24] # using all images in folder\n",
    "    while True:\n",
    "        t = np.random.permutation(folder_list)\n",
    "        num_batches = len(folder_list)//batch_size # calculate the number of batches\n",
    "        for batch in range(num_batches): # we iterate over the number of batches\n",
    "            batch_data = np.zeros((batch_size,x,y,z,3)) # x is the number of images you use for each video, (y,z) is the final size of the input images and 3 is the number of channels RGB\n",
    "            batch_labels = np.zeros((batch_size,5)) # batch_labels is the one hot representation of the output\n",
    "            for folder in range(batch_size): # iterate over the batch_size\n",
    "                imgs = os.listdir(source_path+'/'+ t[folder + (batch*batch_size)].split(';')[0]) # read all the images in the folder\n",
    "                for idx,item in enumerate(img_idx): #  Iterate iver the frames/images of a folder to read them in\n",
    "                    image = imread(source_path+'/'+ t[folder + (batch*batch_size)].strip().split(';')[0]+'/'+imgs[item]).astype(np.float32)\n",
    "                    \n",
    "                    #crop the images and resize them. Note that the images are of 2 different shape \n",
    "                    #and the conv3D will throw error if the inputs in a batch have different shapes\n",
    "                    \n",
    "                    temp = resize(image, (y, z))\n",
    "                    temp = temp/255 #Normalize data\n",
    "                    \n",
    "                    batch_data[folder,idx,:,:,0] = (temp[:,:,0]) #normalise and feed in the image\n",
    "                    batch_data[folder,idx,:,:,1] = (temp[:,:,1]) #normalise and feed in the image\n",
    "                    batch_data[folder,idx,:,:,2] = (temp[:,:,2]) #normalise and feed in the image\n",
    "                    \n",
    "                batch_labels[folder, int(t[folder + (batch*batch_size)].strip().split(';')[2])] = 1\n",
    "            yield batch_data, batch_labels #you yield the batch_data and the batch_labels, remember what does yield do\n",
    "\n",
    "        \n",
    "        # write the code for the remaining data points which are left after full batches\n",
    "        if (len(folder_list) != batch_size*num_batches):\n",
    "            print(\"Batch: \",num_batches+1,\"Index:\", batch_size)\n",
    "            batch_size = len(folder_list) - (batch_size*num_batches)\n",
    "            batch_data = np.zeros((batch_size,x,y,z,3)) # x is the number of images you use for each video, (y,z) is the final size of the input images and 3 is the number of channels RGB\n",
    "            batch_labels = np.zeros((batch_size,5)) # batch_labels is the one hot representation of the output\n",
    "            for folder in range(batch_size): # iterate over the batch_size\n",
    "                imgs = os.listdir(source_path+'/'+ t[folder + (batch*batch_size)].split(';')[0]) # read all the images in the folder\n",
    "                for idx,item in enumerate(img_idx): #  Iterate iver the frames/images of a folder to read them in\n",
    "                    image = imread(source_path+'/'+ t[folder + (batch*batch_size)].strip().split(';')[0]+'/'+imgs[item]).astype(np.float32)\n",
    "                    \n",
    "                    #crop the images and resize them. Note that the images are of 2 different shape \n",
    "                    #and the conv3D will throw error if the inputs in a batch have different shapes\n",
    "                    temp = resize(image, (y, z))\n",
    "                    temp = temp/255 #Normalize data\n",
    "                    \n",
    "                    batch_data[folder,idx,:,:,0] = (temp[:,:,0])\n",
    "                    batch_data[folder,idx,:,:,1] = (temp[:,:,1])\n",
    "                    batch_data[folder,idx,:,:,2] = (temp[:,:,2])\n",
    "                   \n",
    "                batch_labels[folder, int(t[folder + (batch*batch_size)].strip().split(';')[2])] = 1\n",
    "            yield batch_data, batch_labels"
   ]
  },
  {
   "cell_type": "markdown",
   "metadata": {},
   "source": [
    "Note here that a video is represented above in the generator as (number of images, height, width, number of channels). Take this into consideration while creating the model architecture."
   ]
  },
  {
   "cell_type": "code",
   "execution_count": 26,
   "metadata": {},
   "outputs": [
    {
     "name": "stdout",
     "output_type": "stream",
     "text": [
      "# training sequences = 663\n",
      "# validation sequences = 100\n",
      "# epochs = 30\n"
     ]
    }
   ],
   "source": [
    "curr_dt_time = datetime.datetime.now()\n",
    "train_path = '/home/datasets/Project_data/train'\n",
    "val_path = '/home/datasets/Project_data/val'\n",
    "num_train_sequences = len(train_doc)\n",
    "print('# training sequences =', num_train_sequences)\n",
    "num_val_sequences = len(val_doc)\n",
    "print('# validation sequences =', num_val_sequences)\n",
    "num_epochs = 30\n",
    "print ('# epochs =', num_epochs)"
   ]
  },
  {
   "cell_type": "markdown",
   "metadata": {},
   "source": [
    "## Model\n",
    "Here you make the model using different functionalities that Keras provides. Remember to use `Conv3D` and `MaxPooling3D` and not `Conv2D` and `Maxpooling2D` for a 3D convolution model. You would want to use `TimeDistributed` while building a Conv2D + RNN model. Also remember that the last layer is the softmax. Design the network in such a way that the model is able to give good accuracy on the least number of parameters so that it can fit in the memory of the webcam."
   ]
  },
  {
   "cell_type": "code",
   "execution_count": 27,
   "metadata": {},
   "outputs": [],
   "source": [
    "from tensorflow.keras.models import Sequential\n",
    "from tensorflow.keras.layers import Dense, GRU, Dropout, Flatten, BatchNormalization, Activation, Conv3D, MaxPooling3D\n",
    "from tensorflow.keras.callbacks import ModelCheckpoint, ReduceLROnPlateau\n",
    "from tensorflow.keras import optimizers\n",
    "\n",
    "model_3 = Sequential()\n",
    "\n",
    "model_3.add(Conv3D(16, kernel_size=(3,3,3), input_shape=(20, 100, 100, 3), padding='same'))\n",
    "model_3.add(BatchNormalization())\n",
    "model_3.add(Activation('relu'))\n",
    "model_3.add(MaxPooling3D(pool_size=(2,2,2)))\n",
    "\n",
    "model_3.add(Conv3D(32, kernel_size=(3,3,3), padding='same'))\n",
    "model_3.add(BatchNormalization())\n",
    "model_3.add(Activation('relu'))\n",
    "model_3.add(MaxPooling3D(pool_size=(2,2,2)))\n",
    "\n",
    "model_3.add(Conv3D(64, kernel_size=(3,3,3), padding='same'))\n",
    "model_3.add(BatchNormalization())\n",
    "model_3.add(Activation('relu'))\n",
    "model_3.add(MaxPooling3D(pool_size=(2,2,2)))\n",
    "\n",
    "model_3.add(Conv3D(128, kernel_size=(3,3,3), padding='same'))\n",
    "model_3.add(BatchNormalization())\n",
    "model_3.add(Activation('relu'))\n",
    "model_3.add(MaxPooling3D(pool_size=(2,2,2)))\n",
    "\n",
    "#Flatten Layers\n",
    "model_3.add(Flatten())\n",
    "\n",
    "model_3.add(Dense(256, activation='relu'))\n",
    "model_3.add(Dropout(0.10))\n",
    "\n",
    "model_3.add(Dense(256, activation='relu'))\n",
    "model_3.add(Dropout(0.10))\n",
    "\n",
    "model_3.add(Dense(512, activation='relu'))\n",
    "model_3.add(Dropout(0.10))\n",
    "\n",
    "#softmax layer\n",
    "model_3.add(Dense(5, activation='softmax'))"
   ]
  },
  {
   "cell_type": "markdown",
   "metadata": {},
   "source": [
    "Now that you have written the model, the next step is to `compile` the model. When you print the `summary` of the model, you'll see the total number of parameters you have to train."
   ]
  },
  {
   "cell_type": "code",
   "execution_count": 28,
   "metadata": {
    "scrolled": true
   },
   "outputs": [
    {
     "name": "stdout",
     "output_type": "stream",
     "text": [
      "Model: \"sequential_2\"\n",
      "_________________________________________________________________\n",
      " Layer (type)                Output Shape              Param #   \n",
      "=================================================================\n",
      " conv3d_8 (Conv3D)           (None, 20, 100, 100, 16)  1312      \n",
      "                                                                 \n",
      " batch_normalization_8 (Batc  (None, 20, 100, 100, 16)  64       \n",
      " hNormalization)                                                 \n",
      "                                                                 \n",
      " activation_8 (Activation)   (None, 20, 100, 100, 16)  0         \n",
      "                                                                 \n",
      " max_pooling3d_8 (MaxPooling  (None, 10, 50, 50, 16)   0         \n",
      " 3D)                                                             \n",
      "                                                                 \n",
      " conv3d_9 (Conv3D)           (None, 10, 50, 50, 32)    13856     \n",
      "                                                                 \n",
      " batch_normalization_9 (Batc  (None, 10, 50, 50, 32)   128       \n",
      " hNormalization)                                                 \n",
      "                                                                 \n",
      " activation_9 (Activation)   (None, 10, 50, 50, 32)    0         \n",
      "                                                                 \n",
      " max_pooling3d_9 (MaxPooling  (None, 5, 25, 25, 32)    0         \n",
      " 3D)                                                             \n",
      "                                                                 \n",
      " conv3d_10 (Conv3D)          (None, 5, 25, 25, 64)     55360     \n",
      "                                                                 \n",
      " batch_normalization_10 (Bat  (None, 5, 25, 25, 64)    256       \n",
      " chNormalization)                                                \n",
      "                                                                 \n",
      " activation_10 (Activation)  (None, 5, 25, 25, 64)     0         \n",
      "                                                                 \n",
      " max_pooling3d_10 (MaxPoolin  (None, 2, 12, 12, 64)    0         \n",
      " g3D)                                                            \n",
      "                                                                 \n",
      " conv3d_11 (Conv3D)          (None, 2, 12, 12, 128)    221312    \n",
      "                                                                 \n",
      " batch_normalization_11 (Bat  (None, 2, 12, 12, 128)   512       \n",
      " chNormalization)                                                \n",
      "                                                                 \n",
      " activation_11 (Activation)  (None, 2, 12, 12, 128)    0         \n",
      "                                                                 \n",
      " max_pooling3d_11 (MaxPoolin  (None, 1, 6, 6, 128)     0         \n",
      " g3D)                                                            \n",
      "                                                                 \n",
      " flatten_2 (Flatten)         (None, 4608)              0         \n",
      "                                                                 \n",
      " dense_6 (Dense)             (None, 256)               1179904   \n",
      "                                                                 \n",
      " dropout_4 (Dropout)         (None, 256)               0         \n",
      "                                                                 \n",
      " dense_7 (Dense)             (None, 256)               65792     \n",
      "                                                                 \n",
      " dropout_5 (Dropout)         (None, 256)               0         \n",
      "                                                                 \n",
      " dense_8 (Dense)             (None, 512)               131584    \n",
      "                                                                 \n",
      " dropout_6 (Dropout)         (None, 512)               0         \n",
      "                                                                 \n",
      " dense_9 (Dense)             (None, 5)                 2565      \n",
      "                                                                 \n",
      "=================================================================\n",
      "Total params: 1,672,645\n",
      "Trainable params: 1,672,165\n",
      "Non-trainable params: 480\n",
      "_________________________________________________________________\n",
      "None\n"
     ]
    }
   ],
   "source": [
    "optimiser = optimizers.Adam() #write your optimizer\n",
    "model_3.compile(optimizer=optimiser, loss='categorical_crossentropy', metrics=['categorical_accuracy'])\n",
    "print (model_3.summary())"
   ]
  },
  {
   "cell_type": "markdown",
   "metadata": {},
   "source": [
    "Let us create the `train_generator` and the `val_generator` which will be used in `.fit_generator`."
   ]
  },
  {
   "cell_type": "code",
   "execution_count": 29,
   "metadata": {},
   "outputs": [],
   "source": [
    "train_generator = generator(train_path, train_doc, batch_size)\n",
    "val_generator = generator(val_path, val_doc, batch_size)"
   ]
  },
  {
   "cell_type": "code",
   "execution_count": 30,
   "metadata": {},
   "outputs": [
    {
     "name": "stdout",
     "output_type": "stream",
     "text": [
      "WARNING:tensorflow:`period` argument is deprecated. Please use `save_freq` to specify the frequency in number of batches seen.\n"
     ]
    }
   ],
   "source": [
    "model_name = 'model_init' + '_' + str(curr_dt_time).replace(' ','').replace(':','_') + '/'\n",
    "    \n",
    "if not os.path.exists(model_name):\n",
    "    os.mkdir(model_name)\n",
    "        \n",
    "filepath = model_name + 'model-{epoch:05d}-{loss:.5f}-{categorical_accuracy:.5f}-{val_loss:.5f}-{val_categorical_accuracy:.5f}.h5'\n",
    "\n",
    "checkpoint = ModelCheckpoint(filepath, monitor='val_loss', verbose=1, save_best_only=False, save_weights_only=False, mode='auto',period =1)\n",
    "\n",
    "LR = ReduceLROnPlateau(monitor='val_loss', factor=0.5, patience=2, cooldown=1, verbose=1) # write the REducelronplateau code here\n",
    "callbacks_list = [checkpoint, LR]"
   ]
  },
  {
   "cell_type": "markdown",
   "metadata": {},
   "source": [
    "The `steps_per_epoch` and `validation_steps` are used by `fit` method to decide the number of next() calls it need to make."
   ]
  },
  {
   "cell_type": "code",
   "execution_count": 31,
   "metadata": {},
   "outputs": [],
   "source": [
    "if (num_train_sequences%batch_size) == 0:\n",
    "    steps_per_epoch = int(num_train_sequences/batch_size)\n",
    "else:\n",
    "    steps_per_epoch = (num_train_sequences//batch_size) + 1\n",
    "\n",
    "if (num_val_sequences%batch_size) == 0:\n",
    "    validation_steps = int(num_val_sequences/batch_size)\n",
    "else:\n",
    "    validation_steps = (num_val_sequences//batch_size) + 1"
   ]
  },
  {
   "cell_type": "markdown",
   "metadata": {},
   "source": [
    "Let us now fit the model. This will start training the model and with the help of the checkpoints, you'll be able to save the model at the end of each epoch."
   ]
  },
  {
   "cell_type": "code",
   "execution_count": 32,
   "metadata": {},
   "outputs": [
    {
     "name": "stdout",
     "output_type": "stream",
     "text": [
      "Source path =  /home/datasets/Project_data/train ; batch size = 16\n",
      "Epoch 1/30\n",
      "40/42 [===========================>..] - ETA: 4s - loss: 2.1807 - categorical_accuracy: 0.2781Batch:  42 Index: 16\n",
      "42/42 [==============================] - ETA: 0s - loss: 2.1520 - categorical_accuracy: 0.2805Source path =  /home/datasets/Project_data/val ; batch size = 16\n",
      "Batch:  7 Index: 16\n",
      "\n",
      "Epoch 00001: saving model to model_init_2023-02-1513_39_37.174061/model-00001-2.15199-0.28054-1.77151-0.22000.h5\n",
      "42/42 [==============================] - 105s 3s/step - loss: 2.1520 - categorical_accuracy: 0.2805 - val_loss: 1.7715 - val_categorical_accuracy: 0.2200 - lr: 0.0010\n",
      "Epoch 2/30\n",
      "42/42 [==============================] - ETA: 0s - loss: 1.4687 - categorical_accuracy: 0.3639\n",
      "Epoch 00002: saving model to model_init_2023-02-1513_39_37.174061/model-00002-1.46866-0.36395-2.29858-0.28571.h5\n",
      "42/42 [==============================] - 42s 1s/step - loss: 1.4687 - categorical_accuracy: 0.3639 - val_loss: 2.2986 - val_categorical_accuracy: 0.2857 - lr: 0.0010\n",
      "Epoch 3/30\n",
      "42/42 [==============================] - ETA: 0s - loss: 1.5253 - categorical_accuracy: 0.3469\n",
      "Epoch 00003: saving model to model_init_2023-02-1513_39_37.174061/model-00003-1.52528-0.34694-1.82799-0.32143.h5\n",
      "\n",
      "Epoch 00003: ReduceLROnPlateau reducing learning rate to 0.0005000000237487257.\n",
      "42/42 [==============================] - 44s 1s/step - loss: 1.5253 - categorical_accuracy: 0.3469 - val_loss: 1.8280 - val_categorical_accuracy: 0.3214 - lr: 0.0010\n",
      "Epoch 4/30\n",
      " 9/42 [=====>........................] - ETA: 33s - loss: 1.2963 - categorical_accuracy: 0.4444Batch:  95 Index: 7\n",
      "42/42 [==============================] - ETA: 0s - loss: 1.2369 - categorical_accuracy: 0.4783\n",
      "Epoch 00004: saving model to model_init_2023-02-1513_39_37.174061/model-00004-1.23690-0.47826-3.25354-0.28571.h5\n",
      "42/42 [==============================] - 38s 920ms/step - loss: 1.2369 - categorical_accuracy: 0.4783 - val_loss: 3.2535 - val_categorical_accuracy: 0.2857 - lr: 5.0000e-04\n",
      "Epoch 5/30\n",
      "42/42 [==============================] - ETA: 0s - loss: 1.2635 - categorical_accuracy: 0.4571\n",
      "Epoch 00005: saving model to model_init_2023-02-1513_39_37.174061/model-00005-1.26354-0.45714-2.81186-0.10714.h5\n",
      "\n",
      "Epoch 00005: ReduceLROnPlateau reducing learning rate to 0.0002500000118743628.\n",
      "42/42 [==============================] - 33s 793ms/step - loss: 1.2635 - categorical_accuracy: 0.4571 - val_loss: 2.8119 - val_categorical_accuracy: 0.1071 - lr: 5.0000e-04\n",
      "Epoch 6/30\n",
      "42/42 [==============================] - ETA: 0s - loss: 1.2283 - categorical_accuracy: 0.5143\n",
      "Epoch 00006: saving model to model_init_2023-02-1513_39_37.174061/model-00006-1.22830-0.51429-3.14587-0.17857.h5\n",
      "42/42 [==============================] - 32s 791ms/step - loss: 1.2283 - categorical_accuracy: 0.5143 - val_loss: 3.1459 - val_categorical_accuracy: 0.1786 - lr: 2.5000e-04\n",
      "Epoch 7/30\n",
      "16/42 [==========>...................] - ETA: 20s - loss: 1.1558 - categorical_accuracy: 0.4875Batch:  133 Index: 5\n",
      "42/42 [==============================] - ETA: 0s - loss: 1.1187 - categorical_accuracy: 0.5500\n",
      "Epoch 00007: saving model to model_init_2023-02-1513_39_37.174061/model-00007-1.11872-0.55000-2.74805-0.28571.h5\n",
      "\n",
      "Epoch 00007: ReduceLROnPlateau reducing learning rate to 0.0001250000059371814.\n",
      "42/42 [==============================] - 28s 684ms/step - loss: 1.1187 - categorical_accuracy: 0.5500 - val_loss: 2.7480 - val_categorical_accuracy: 0.2857 - lr: 2.5000e-04\n",
      "Epoch 8/30\n",
      "42/42 [==============================] - ETA: 0s - loss: 0.9488 - categorical_accuracy: 0.6349\n",
      "Epoch 00008: saving model to model_init_2023-02-1513_39_37.174061/model-00008-0.94883-0.63492-2.87077-0.21429.h5\n",
      "42/42 [==============================] - 22s 529ms/step - loss: 0.9488 - categorical_accuracy: 0.6349 - val_loss: 2.8708 - val_categorical_accuracy: 0.2143 - lr: 1.2500e-04\n",
      "Epoch 9/30\n",
      "42/42 [==============================] - ETA: 0s - loss: 0.9708 - categorical_accuracy: 0.5952\n",
      "Epoch 00009: saving model to model_init_2023-02-1513_39_37.174061/model-00009-0.97084-0.59524-3.30730-0.10714.h5\n",
      "\n",
      "Epoch 00009: ReduceLROnPlateau reducing learning rate to 6.25000029685907e-05.\n",
      "42/42 [==============================] - 22s 545ms/step - loss: 0.9708 - categorical_accuracy: 0.5952 - val_loss: 3.3073 - val_categorical_accuracy: 0.1071 - lr: 1.2500e-04\n",
      "Epoch 10/30\n",
      "42/42 [==============================] - ETA: 0s - loss: 1.0167 - categorical_accuracy: 0.6111\n",
      "Epoch 00010: saving model to model_init_2023-02-1513_39_37.174061/model-00010-1.01669-0.61111-2.20655-0.25000.h5\n",
      "42/42 [==============================] - 23s 555ms/step - loss: 1.0167 - categorical_accuracy: 0.6111 - val_loss: 2.2066 - val_categorical_accuracy: 0.2500 - lr: 6.2500e-05\n",
      "Epoch 11/30\n",
      "42/42 [==============================] - ETA: 0s - loss: 1.1135 - categorical_accuracy: 0.5476\n",
      "Epoch 00011: saving model to model_init_2023-02-1513_39_37.174061/model-00011-1.11351-0.54762-2.35720-0.21429.h5\n",
      "\n",
      "Epoch 00011: ReduceLROnPlateau reducing learning rate to 3.125000148429535e-05.\n",
      "42/42 [==============================] - 22s 531ms/step - loss: 1.1135 - categorical_accuracy: 0.5476 - val_loss: 2.3572 - val_categorical_accuracy: 0.2143 - lr: 6.2500e-05\n",
      "Epoch 12/30\n",
      "42/42 [==============================] - ETA: 0s - loss: 0.9356 - categorical_accuracy: 0.5952\n",
      "Epoch 00012: saving model to model_init_2023-02-1513_39_37.174061/model-00012-0.93561-0.59524-1.66974-0.28571.h5\n",
      "42/42 [==============================] - 23s 567ms/step - loss: 0.9356 - categorical_accuracy: 0.5952 - val_loss: 1.6697 - val_categorical_accuracy: 0.2857 - lr: 3.1250e-05\n",
      "Epoch 13/30\n",
      "42/42 [==============================] - ETA: 0s - loss: 0.8488 - categorical_accuracy: 0.6349\n",
      "Epoch 00013: saving model to model_init_2023-02-1513_39_37.174061/model-00013-0.84882-0.63492-1.22209-0.46429.h5\n",
      "42/42 [==============================] - 21s 505ms/step - loss: 0.8488 - categorical_accuracy: 0.6349 - val_loss: 1.2221 - val_categorical_accuracy: 0.4643 - lr: 3.1250e-05\n",
      "Epoch 14/30\n",
      "42/42 [==============================] - ETA: 0s - loss: 0.8030 - categorical_accuracy: 0.6905\n",
      "Epoch 00014: saving model to model_init_2023-02-1513_39_37.174061/model-00014-0.80305-0.69048-1.39336-0.53571.h5\n",
      "42/42 [==============================] - 26s 624ms/step - loss: 0.8030 - categorical_accuracy: 0.6905 - val_loss: 1.3934 - val_categorical_accuracy: 0.5357 - lr: 3.1250e-05\n",
      "Epoch 15/30\n",
      "42/42 [==============================] - ETA: 0s - loss: 0.9627 - categorical_accuracy: 0.5873\n",
      "Epoch 00015: saving model to model_init_2023-02-1513_39_37.174061/model-00015-0.96275-0.58730-1.23496-0.50000.h5\n",
      "\n",
      "Epoch 00015: ReduceLROnPlateau reducing learning rate to 1.5625000742147677e-05.\n",
      "42/42 [==============================] - 23s 551ms/step - loss: 0.9627 - categorical_accuracy: 0.5873 - val_loss: 1.2350 - val_categorical_accuracy: 0.5000 - lr: 3.1250e-05\n",
      "Epoch 16/30\n",
      "42/42 [==============================] - ETA: 0s - loss: 0.9692 - categorical_accuracy: 0.5952\n",
      "Epoch 00016: saving model to model_init_2023-02-1513_39_37.174061/model-00016-0.96918-0.59524-1.04963-0.57143.h5\n",
      "42/42 [==============================] - 21s 523ms/step - loss: 0.9692 - categorical_accuracy: 0.5952 - val_loss: 1.0496 - val_categorical_accuracy: 0.5714 - lr: 1.5625e-05\n",
      "Epoch 17/30\n",
      "42/42 [==============================] - ETA: 0s - loss: 0.7672 - categorical_accuracy: 0.6905\n",
      "Epoch 00017: saving model to model_init_2023-02-1513_39_37.174061/model-00017-0.76724-0.69048-1.03960-0.57143.h5\n",
      "42/42 [==============================] - 25s 600ms/step - loss: 0.7672 - categorical_accuracy: 0.6905 - val_loss: 1.0396 - val_categorical_accuracy: 0.5714 - lr: 1.5625e-05\n",
      "Epoch 18/30\n",
      "42/42 [==============================] - ETA: 0s - loss: 0.7993 - categorical_accuracy: 0.6984\n",
      "Epoch 00018: saving model to model_init_2023-02-1513_39_37.174061/model-00018-0.79934-0.69841-0.73903-0.67857.h5\n",
      "42/42 [==============================] - 24s 596ms/step - loss: 0.7993 - categorical_accuracy: 0.6984 - val_loss: 0.7390 - val_categorical_accuracy: 0.6786 - lr: 1.5625e-05\n",
      "Epoch 19/30\n",
      "42/42 [==============================] - ETA: 0s - loss: 0.8592 - categorical_accuracy: 0.6587\n",
      "Epoch 00019: saving model to model_init_2023-02-1513_39_37.174061/model-00019-0.85920-0.65873-0.87957-0.64286.h5\n",
      "42/42 [==============================] - 22s 532ms/step - loss: 0.8592 - categorical_accuracy: 0.6587 - val_loss: 0.8796 - val_categorical_accuracy: 0.6429 - lr: 1.5625e-05\n",
      "Epoch 20/30\n",
      "42/42 [==============================] - ETA: 0s - loss: 0.9924 - categorical_accuracy: 0.5794\n",
      "Epoch 00020: saving model to model_init_2023-02-1513_39_37.174061/model-00020-0.99238-0.57937-1.01100-0.57143.h5\n",
      "\n",
      "Epoch 00020: ReduceLROnPlateau reducing learning rate to 7.812500371073838e-06.\n",
      "42/42 [==============================] - 22s 525ms/step - loss: 0.9924 - categorical_accuracy: 0.5794 - val_loss: 1.0110 - val_categorical_accuracy: 0.5714 - lr: 1.5625e-05\n",
      "Epoch 21/30\n",
      "42/42 [==============================] - ETA: 0s - loss: 0.7457 - categorical_accuracy: 0.7222\n",
      "Epoch 00021: saving model to model_init_2023-02-1513_39_37.174061/model-00021-0.74567-0.72222-0.94502-0.57143.h5\n",
      "42/42 [==============================] - 24s 584ms/step - loss: 0.7457 - categorical_accuracy: 0.7222 - val_loss: 0.9450 - val_categorical_accuracy: 0.5714 - lr: 7.8125e-06\n",
      "Epoch 22/30\n",
      "42/42 [==============================] - ETA: 0s - loss: 0.7943 - categorical_accuracy: 0.6984\n",
      "Epoch 00022: saving model to model_init_2023-02-1513_39_37.174061/model-00022-0.79428-0.69841-0.89323-0.64286.h5\n",
      "\n",
      "Epoch 00022: ReduceLROnPlateau reducing learning rate to 3.906250185536919e-06.\n",
      "42/42 [==============================] - 21s 522ms/step - loss: 0.7943 - categorical_accuracy: 0.6984 - val_loss: 0.8932 - val_categorical_accuracy: 0.6429 - lr: 7.8125e-06\n",
      "Epoch 23/30\n",
      "42/42 [==============================] - ETA: 0s - loss: 0.8396 - categorical_accuracy: 0.7063\n",
      "Epoch 00023: saving model to model_init_2023-02-1513_39_37.174061/model-00023-0.83959-0.70635-0.92309-0.57143.h5\n",
      "42/42 [==============================] - 24s 594ms/step - loss: 0.8396 - categorical_accuracy: 0.7063 - val_loss: 0.9231 - val_categorical_accuracy: 0.5714 - lr: 3.9063e-06\n",
      "Epoch 24/30\n",
      "42/42 [==============================] - ETA: 0s - loss: 0.8485 - categorical_accuracy: 0.7143\n",
      "Epoch 00024: saving model to model_init_2023-02-1513_39_37.174061/model-00024-0.84845-0.71429-0.89746-0.57143.h5\n",
      "\n",
      "Epoch 00024: ReduceLROnPlateau reducing learning rate to 1.9531250927684596e-06.\n",
      "42/42 [==============================] - 22s 536ms/step - loss: 0.8485 - categorical_accuracy: 0.7143 - val_loss: 0.8975 - val_categorical_accuracy: 0.5714 - lr: 3.9063e-06\n",
      "Epoch 25/30\n",
      "42/42 [==============================] - ETA: 0s - loss: 0.8362 - categorical_accuracy: 0.6746\n",
      "Epoch 00025: saving model to model_init_2023-02-1513_39_37.174061/model-00025-0.83620-0.67460-0.84238-0.60714.h5\n",
      "42/42 [==============================] - 21s 506ms/step - loss: 0.8362 - categorical_accuracy: 0.6746 - val_loss: 0.8424 - val_categorical_accuracy: 0.6071 - lr: 1.9531e-06\n",
      "Epoch 26/30\n",
      "42/42 [==============================] - ETA: 0s - loss: 0.7344 - categorical_accuracy: 0.7460\n",
      "Epoch 00026: saving model to model_init_2023-02-1513_39_37.174061/model-00026-0.73438-0.74603-0.97136-0.64286.h5\n",
      "\n",
      "Epoch 00026: ReduceLROnPlateau reducing learning rate to 9.765625463842298e-07.\n",
      "42/42 [==============================] - 24s 579ms/step - loss: 0.7344 - categorical_accuracy: 0.7460 - val_loss: 0.9714 - val_categorical_accuracy: 0.6429 - lr: 1.9531e-06\n",
      "Epoch 27/30\n",
      "42/42 [==============================] - ETA: 0s - loss: 0.7862 - categorical_accuracy: 0.6746\n",
      "Epoch 00027: saving model to model_init_2023-02-1513_39_37.174061/model-00027-0.78624-0.67460-0.96779-0.60714.h5\n",
      "42/42 [==============================] - 23s 568ms/step - loss: 0.7862 - categorical_accuracy: 0.6746 - val_loss: 0.9678 - val_categorical_accuracy: 0.6071 - lr: 9.7656e-07\n",
      "Epoch 28/30\n",
      "42/42 [==============================] - ETA: 0s - loss: 0.8024 - categorical_accuracy: 0.6984\n",
      "Epoch 00028: saving model to model_init_2023-02-1513_39_37.174061/model-00028-0.80236-0.69841-0.63826-0.67857.h5\n",
      "42/42 [==============================] - 24s 573ms/step - loss: 0.8024 - categorical_accuracy: 0.6984 - val_loss: 0.6383 - val_categorical_accuracy: 0.6786 - lr: 9.7656e-07\n",
      "Epoch 29/30\n",
      "42/42 [==============================] - ETA: 0s - loss: 0.8866 - categorical_accuracy: 0.6984\n",
      "Epoch 00029: saving model to model_init_2023-02-1513_39_37.174061/model-00029-0.88660-0.69841-0.95187-0.57143.h5\n",
      "42/42 [==============================] - 22s 546ms/step - loss: 0.8866 - categorical_accuracy: 0.6984 - val_loss: 0.9519 - val_categorical_accuracy: 0.5714 - lr: 9.7656e-07\n",
      "Epoch 30/30\n",
      "42/42 [==============================] - ETA: 0s - loss: 0.8245 - categorical_accuracy: 0.6825\n",
      "Epoch 00030: saving model to model_init_2023-02-1513_39_37.174061/model-00030-0.82454-0.68254-1.01607-0.53571.h5\n",
      "\n",
      "Epoch 00030: ReduceLROnPlateau reducing learning rate to 4.882812731921149e-07.\n",
      "42/42 [==============================] - 23s 548ms/step - loss: 0.8245 - categorical_accuracy: 0.6825 - val_loss: 1.0161 - val_categorical_accuracy: 0.5357 - lr: 9.7656e-07\n"
     ]
    }
   ],
   "source": [
    "history = model_3.fit(train_generator, steps_per_epoch=steps_per_epoch, epochs=num_epochs, verbose=1, \n",
    "                    callbacks=callbacks_list, validation_data=val_generator, \n",
    "                    validation_steps=validation_steps, class_weight=None, workers=1, initial_epoch=0)"
   ]
  },
  {
   "cell_type": "code",
   "execution_count": 33,
   "metadata": {},
   "outputs": [
    {
     "data": {
      "image/png": "[encoded data removed]",
      "text/plain": [
       "<Figure size 432x288 with 1 Axes>"
      ]
     },
     "metadata": {
      "needs_background": "light"
     },
     "output_type": "display_data"
    },
    {
     "data": {
      "image/png": "[encoded data removed]",
      "text/plain": [
       "<Figure size 432x288 with 1 Axes>"
      ]
     },
     "metadata": {
      "needs_background": "light"
     },
     "output_type": "display_data"
    }
   ],
   "source": [
    "# Plotting graph for train and val accuracy and loss\n",
    "plt.plot(history.history['categorical_accuracy'])\n",
    "plt.plot(history.history['val_categorical_accuracy'])\n",
    "plt.title('model 3 accuracy')\n",
    "plt.ylabel('accuracy')\n",
    "plt.xlabel('epoch')\n",
    "plt.legend(['train', 'val'], loc='upper left')\n",
    "plt.show()\n",
    "\n",
    "# summarize history for loss\n",
    "plt.plot(history.history['loss'])\n",
    "plt.plot(history.history['val_loss'])\n",
    "plt.title('model 3 loss')\n",
    "plt.ylabel('loss')\n",
    "plt.xlabel('epoch')\n",
    "plt.legend(['train', 'val'], loc='upper left')\n",
    "plt.show()"
   ]
  },
  {
   "cell_type": "markdown",
   "metadata": {},
   "source": [
    "# Experiment No 4"
   ]
  },
  {
   "cell_type": "code",
   "execution_count": 34,
   "metadata": {},
   "outputs": [],
   "source": [
    "train_doc = np.random.permutation(open('/home/datasets/Project_data/train.csv').readlines())\n",
    "val_doc = np.random.permutation(open('/home/datasets/Project_data/val.csv').readlines())\n",
    "batch_size = 16"
   ]
  },
  {
   "cell_type": "markdown",
   "metadata": {},
   "source": [
    "**data path: /home/datasets/Project_data**"
   ]
  },
  {
   "cell_type": "code",
   "execution_count": 35,
   "metadata": {},
   "outputs": [],
   "source": [
    "x = 20 # number of frames\n",
    "y = 120 # image width\n",
    "z = 120 # image height\n",
    "\n",
    "def generator(source_path, folder_list, batch_size):\n",
    "    print( 'Source path = ', source_path, '; batch size =', batch_size)\n",
    "    img_idx = [5,6,7,8,9,10,11,12,13,14,15,16,17,18,19,20,21,22,23,24] # using all images in folder\n",
    "    while True:\n",
    "        t = np.random.permutation(folder_list)\n",
    "        num_batches = len(folder_list)//batch_size # calculate the number of batches\n",
    "        for batch in range(num_batches): # we iterate over the number of batches\n",
    "            batch_data = np.zeros((batch_size,x,y,z,3)) # x is the number of images you use for each video, (y,z) is the final size of the input images and 3 is the number of channels RGB\n",
    "            batch_labels = np.zeros((batch_size,5)) # batch_labels is the one hot representation of the output\n",
    "            for folder in range(batch_size): # iterate over the batch_size\n",
    "                imgs = os.listdir(source_path+'/'+ t[folder + (batch*batch_size)].split(';')[0]) # read all the images in the folder\n",
    "                for idx,item in enumerate(img_idx): #  Iterate iver the frames/images of a folder to read them in\n",
    "                    image = imread(source_path+'/'+ t[folder + (batch*batch_size)].strip().split(';')[0]+'/'+imgs[item]).astype(np.float32)\n",
    "                    \n",
    "                    #crop the images and resize them. Note that the images are of 2 different shape \n",
    "                    #and the conv3D will throw error if the inputs in a batch have different shapes\n",
    "                    \n",
    "                    temp = resize(image, (y, z))\n",
    "                    temp = temp/255 #Normalize data\n",
    "                    \n",
    "                    batch_data[folder,idx,:,:,0] = (temp[:,:,0]) #normalise and feed in the image\n",
    "                    batch_data[folder,idx,:,:,1] = (temp[:,:,1]) #normalise and feed in the image\n",
    "                    batch_data[folder,idx,:,:,2] = (temp[:,:,2]) #normalise and feed in the image\n",
    "                    \n",
    "                batch_labels[folder, int(t[folder + (batch*batch_size)].strip().split(';')[2])] = 1\n",
    "            yield batch_data, batch_labels #you yield the batch_data and the batch_labels, remember what does yield do\n",
    "\n",
    "        \n",
    "        # write the code for the remaining data points which are left after full batches\n",
    "        if (len(folder_list) != batch_size*num_batches):\n",
    "            print(\"Batch: \",num_batches+1,\"Index:\", batch_size)\n",
    "            batch_size = len(folder_list) - (batch_size*num_batches)\n",
    "            batch_data = np.zeros((batch_size,x,y,z,3)) # x is the number of images you use for each video, (y,z) is the final size of the input images and 3 is the number of channels RGB\n",
    "            batch_labels = np.zeros((batch_size,5)) # batch_labels is the one hot representation of the output\n",
    "            for folder in range(batch_size): # iterate over the batch_size\n",
    "                imgs = os.listdir(source_path+'/'+ t[folder + (batch*batch_size)].split(';')[0]) # read all the images in the folder\n",
    "                for idx,item in enumerate(img_idx): #  Iterate iver the frames/images of a folder to read them in\n",
    "                    image = imread(source_path+'/'+ t[folder + (batch*batch_size)].strip().split(';')[0]+'/'+imgs[item]).astype(np.float32)\n",
    "                    \n",
    "                    #crop the images and resize them. Note that the images are of 2 different shape \n",
    "                    #and the conv3D will throw error if the inputs in a batch have different shapes\n",
    "                    temp = resize(image, (y, z))\n",
    "                    temp = temp/255 #Normalize data\n",
    "                    \n",
    "                    batch_data[folder,idx,:,:,0] = (temp[:,:,0])\n",
    "                    batch_data[folder,idx,:,:,1] = (temp[:,:,1])\n",
    "                    batch_data[folder,idx,:,:,2] = (temp[:,:,2])\n",
    "                   \n",
    "                batch_labels[folder, int(t[folder + (batch*batch_size)].strip().split(';')[2])] = 1\n",
    "            yield batch_data, batch_labels"
   ]
  },
  {
   "cell_type": "markdown",
   "metadata": {},
   "source": [
    "Note here that a video is represented above in the generator as (number of images, height, width, number of channels). Take this into consideration while creating the model architecture."
   ]
  },
  {
   "cell_type": "code",
   "execution_count": 36,
   "metadata": {},
   "outputs": [
    {
     "name": "stdout",
     "output_type": "stream",
     "text": [
      "# training sequences = 663\n",
      "# validation sequences = 100\n",
      "# epochs = 30\n"
     ]
    }
   ],
   "source": [
    "curr_dt_time = datetime.datetime.now()\n",
    "train_path = '/home/datasets/Project_data/train'\n",
    "val_path = '/home/datasets/Project_data/val'\n",
    "num_train_sequences = len(train_doc)\n",
    "print('# training sequences =', num_train_sequences)\n",
    "num_val_sequences = len(val_doc)\n",
    "print('# validation sequences =', num_val_sequences)\n",
    "num_epochs = 30\n",
    "print ('# epochs =', num_epochs)"
   ]
  },
  {
   "cell_type": "markdown",
   "metadata": {},
   "source": [
    "## Model\n",
    "Here you make the model using different functionalities that Keras provides. Remember to use `Conv3D` and `MaxPooling3D` and not `Conv2D` and `Maxpooling2D` for a 3D convolution model. You would want to use `TimeDistributed` while building a Conv2D + RNN model. Also remember that the last layer is the softmax. Design the network in such a way that the model is able to give good accuracy on the least number of parameters so that it can fit in the memory of the webcam."
   ]
  },
  {
   "cell_type": "code",
   "execution_count": 37,
   "metadata": {},
   "outputs": [],
   "source": [
    "from tensorflow.keras.models import Sequential\n",
    "from tensorflow.keras.layers import Dense, GRU, Dropout, Flatten, BatchNormalization, Activation, Conv3D, MaxPooling3D\n",
    "from tensorflow.keras.callbacks import ModelCheckpoint, ReduceLROnPlateau\n",
    "from tensorflow.keras import optimizers\n",
    "\n",
    "model_4 = Sequential()\n",
    "\n",
    "model_4.add(Conv3D(16, kernel_size=(3,3,3), input_shape=(20, 120, 120, 3), padding='same'))\n",
    "model_4.add(BatchNormalization())\n",
    "model_4.add(Activation('relu'))\n",
    "model_4.add(MaxPooling3D(pool_size=(2,2,2)))\n",
    "\n",
    "model_4.add(Conv3D(32, kernel_size=(3,3,3), padding='same'))\n",
    "model_4.add(BatchNormalization())\n",
    "model_4.add(Activation('relu'))\n",
    "model_4.add(MaxPooling3D(pool_size=(2,2,2)))\n",
    "\n",
    "model_4.add(Conv3D(64, kernel_size=(3,3,3), padding='same'))\n",
    "model_4.add(BatchNormalization())\n",
    "model_4.add(Activation('relu'))\n",
    "model_4.add(MaxPooling3D(pool_size=(2,2,2)))\n",
    "\n",
    "\n",
    "#Flatten Layers\n",
    "model_4.add(Flatten())\n",
    "\n",
    "model_4.add(Dense(128, activation='relu'))\n",
    "\n",
    "model_4.add(Dense(256, activation='relu'))\n",
    "\n",
    "#softmax layer\n",
    "model_4.add(Dense(5, activation='softmax'))"
   ]
  },
  {
   "cell_type": "markdown",
   "metadata": {},
   "source": [
    "Now that you have written the model, the next step is to `compile` the model. When you print the `summary` of the model, you'll see the total number of parameters you have to train."
   ]
  },
  {
   "cell_type": "code",
   "execution_count": 38,
   "metadata": {
    "scrolled": true
   },
   "outputs": [
    {
     "name": "stdout",
     "output_type": "stream",
     "text": [
      "Model: \"sequential_3\"\n",
      "_________________________________________________________________\n",
      " Layer (type)                Output Shape              Param #   \n",
      "=================================================================\n",
      " conv3d_12 (Conv3D)          (None, 20, 120, 120, 16)  1312      \n",
      "                                                                 \n",
      " batch_normalization_12 (Bat  (None, 20, 120, 120, 16)  64       \n",
      " chNormalization)                                                \n",
      "                                                                 \n",
      " activation_12 (Activation)  (None, 20, 120, 120, 16)  0         \n",
      "                                                                 \n",
      " max_pooling3d_12 (MaxPoolin  (None, 10, 60, 60, 16)   0         \n",
      " g3D)                                                            \n",
      "                                                                 \n",
      " conv3d_13 (Conv3D)          (None, 10, 60, 60, 32)    13856     \n",
      "                                                                 \n",
      " batch_normalization_13 (Bat  (None, 10, 60, 60, 32)   128       \n",
      " chNormalization)                                                \n",
      "                                                                 \n",
      " activation_13 (Activation)  (None, 10, 60, 60, 32)    0         \n",
      "                                                                 \n",
      " max_pooling3d_13 (MaxPoolin  (None, 5, 30, 30, 32)    0         \n",
      " g3D)                                                            \n",
      "                                                                 \n",
      " conv3d_14 (Conv3D)          (None, 5, 30, 30, 64)     55360     \n",
      "                                                                 \n",
      " batch_normalization_14 (Bat  (None, 5, 30, 30, 64)    256       \n",
      " chNormalization)                                                \n",
      "                                                                 \n",
      " activation_14 (Activation)  (None, 5, 30, 30, 64)     0         \n",
      "                                                                 \n",
      " max_pooling3d_14 (MaxPoolin  (None, 2, 15, 15, 64)    0         \n",
      " g3D)                                                            \n",
      "                                                                 \n",
      " flatten_3 (Flatten)         (None, 28800)             0         \n",
      "                                                                 \n",
      " dense_10 (Dense)            (None, 128)               3686528   \n",
      "                                                                 \n",
      " dense_11 (Dense)            (None, 256)               33024     \n",
      "                                                                 \n",
      " dense_12 (Dense)            (None, 5)                 1285      \n",
      "                                                                 \n",
      "=================================================================\n",
      "Total params: 3,791,813\n",
      "Trainable params: 3,791,589\n",
      "Non-trainable params: 224\n",
      "_________________________________________________________________\n",
      "None\n"
     ]
    }
   ],
   "source": [
    "optimiser = optimizers.SGD(learning_rate=0.01)\n",
    "model_4.compile(optimizer=optimiser, loss='categorical_crossentropy', metrics=['categorical_accuracy'])\n",
    "print (model_4.summary())"
   ]
  },
  {
   "cell_type": "markdown",
   "metadata": {},
   "source": [
    "Let us create the `train_generator` and the `val_generator` which will be used in `.fit_generator`."
   ]
  },
  {
   "cell_type": "code",
   "execution_count": 39,
   "metadata": {},
   "outputs": [],
   "source": [
    "train_generator = generator(train_path, train_doc, batch_size)\n",
    "val_generator = generator(val_path, val_doc, batch_size)"
   ]
  },
  {
   "cell_type": "code",
   "execution_count": 40,
   "metadata": {},
   "outputs": [
    {
     "name": "stdout",
     "output_type": "stream",
     "text": [
      "WARNING:tensorflow:`period` argument is deprecated. Please use `save_freq` to specify the frequency in number of batches seen.\n"
     ]
    }
   ],
   "source": [
    "model_name = 'model_init' + '_' + str(curr_dt_time).replace(' ','').replace(':','_') + '/'\n",
    "    \n",
    "if not os.path.exists(model_name):\n",
    "    os.mkdir(model_name)\n",
    "        \n",
    "filepath = model_name + 'model-{epoch:05d}-{loss:.5f}-{categorical_accuracy:.5f}-{val_loss:.5f}-{val_categorical_accuracy:.5f}.h5'\n",
    "\n",
    "checkpoint = ModelCheckpoint(filepath, monitor='val_loss', verbose=1, save_best_only=False, save_weights_only=False, mode='auto',period =1)\n",
    "\n",
    "LR = ReduceLROnPlateau(monitor='val_loss', factor=0.5, patience=2, cooldown=1, verbose=1) # write the REducelronplateau code here\n",
    "callbacks_list = [checkpoint, LR]"
   ]
  },
  {
   "cell_type": "markdown",
   "metadata": {},
   "source": [
    "The `steps_per_epoch` and `validation_steps` are used by `fit` method to decide the number of next() calls it need to make."
   ]
  },
  {
   "cell_type": "code",
   "execution_count": 41,
   "metadata": {},
   "outputs": [],
   "source": [
    "if (num_train_sequences%batch_size) == 0:\n",
    "    steps_per_epoch = int(num_train_sequences/batch_size)\n",
    "else:\n",
    "    steps_per_epoch = (num_train_sequences//batch_size) + 1\n",
    "\n",
    "if (num_val_sequences%batch_size) == 0:\n",
    "    validation_steps = int(num_val_sequences/batch_size)\n",
    "else:\n",
    "    validation_steps = (num_val_sequences//batch_size) + 1"
   ]
  },
  {
   "cell_type": "markdown",
   "metadata": {},
   "source": [
    "Let us now fit the model. This will start training the model and with the help of the checkpoints, you'll be able to save the model at the end of each epoch."
   ]
  },
  {
   "cell_type": "code",
   "execution_count": 42,
   "metadata": {},
   "outputs": [
    {
     "name": "stdout",
     "output_type": "stream",
     "text": [
      "Source path =  /home/datasets/Project_data/train ; batch size = 16\n",
      "Epoch 1/30\n",
      "40/42 [===========================>..] - ETA: 4s - loss: 2.3030 - categorical_accuracy: 0.2937Batch:  42 Index: 16\n",
      "42/42 [==============================] - ETA: 0s - loss: 2.2688 - categorical_accuracy: 0.2986Source path =  /home/datasets/Project_data/val ; batch size = 16\n",
      "Batch:  7 Index: 16\n",
      "\n",
      "Epoch 00001: saving model to model_init_2023-02-1513_53_46.104339/model-00001-2.26883-0.29864-1.60042-0.26000.h5\n",
      "42/42 [==============================] - 106s 3s/step - loss: 2.2688 - categorical_accuracy: 0.2986 - val_loss: 1.6004 - val_categorical_accuracy: 0.2600 - lr: 0.0100\n",
      "Epoch 2/30\n",
      "42/42 [==============================] - ETA: 0s - loss: 1.4032 - categorical_accuracy: 0.3844\n",
      "Epoch 00002: saving model to model_init_2023-02-1513_53_46.104339/model-00002-1.40318-0.38435-1.59491-0.25000.h5\n",
      "42/42 [==============================] - 44s 1s/step - loss: 1.4032 - categorical_accuracy: 0.3844 - val_loss: 1.5949 - val_categorical_accuracy: 0.2500 - lr: 0.0100\n",
      "Epoch 3/30\n",
      "42/42 [==============================] - ETA: 0s - loss: 1.3269 - categorical_accuracy: 0.4320\n",
      "Epoch 00003: saving model to model_init_2023-02-1513_53_46.104339/model-00003-1.32689-0.43197-1.64661-0.25000.h5\n",
      "42/42 [==============================] - 45s 1s/step - loss: 1.3269 - categorical_accuracy: 0.4320 - val_loss: 1.6466 - val_categorical_accuracy: 0.2500 - lr: 0.0100\n",
      "Epoch 4/30\n",
      " 9/42 [=====>........................] - ETA: 31s - loss: 1.3226 - categorical_accuracy: 0.5397Batch:  95 Index: 7\n",
      "42/42 [==============================] - ETA: 0s - loss: 1.1277 - categorical_accuracy: 0.5478\n",
      "Epoch 00004: saving model to model_init_2023-02-1513_53_46.104339/model-00004-1.12769-0.54783-2.49126-0.14286.h5\n",
      "\n",
      "Epoch 00004: ReduceLROnPlateau reducing learning rate to 0.004999999888241291.\n",
      "42/42 [==============================] - 38s 922ms/step - loss: 1.1277 - categorical_accuracy: 0.5478 - val_loss: 2.4913 - val_categorical_accuracy: 0.1429 - lr: 0.0100\n",
      "Epoch 5/30\n",
      "42/42 [==============================] - ETA: 0s - loss: 0.9091 - categorical_accuracy: 0.6714\n",
      "Epoch 00005: saving model to model_init_2023-02-1513_53_46.104339/model-00005-0.90914-0.67143-1.63944-0.39286.h5\n",
      "42/42 [==============================] - 34s 817ms/step - loss: 0.9091 - categorical_accuracy: 0.6714 - val_loss: 1.6394 - val_categorical_accuracy: 0.3929 - lr: 0.0050\n",
      "Epoch 6/30\n",
      "42/42 [==============================] - ETA: 0s - loss: 0.6963 - categorical_accuracy: 0.7286\n",
      "Epoch 00006: saving model to model_init_2023-02-1513_53_46.104339/model-00006-0.69628-0.72857-2.65686-0.25000.h5\n",
      "\n",
      "Epoch 00006: ReduceLROnPlateau reducing learning rate to 0.0024999999441206455.\n",
      "42/42 [==============================] - 34s 830ms/step - loss: 0.6963 - categorical_accuracy: 0.7286 - val_loss: 2.6569 - val_categorical_accuracy: 0.2500 - lr: 0.0050\n",
      "Epoch 7/30\n",
      "16/42 [==========>...................] - ETA: 16s - loss: 0.9151 - categorical_accuracy: 0.6500Batch:  133 Index: 5\n",
      "42/42 [==============================] - ETA: 0s - loss: 0.7492 - categorical_accuracy: 0.7250\n",
      "Epoch 00007: saving model to model_init_2023-02-1513_53_46.104339/model-00007-0.74922-0.72500-1.90717-0.46429.h5\n",
      "42/42 [==============================] - 25s 605ms/step - loss: 0.7492 - categorical_accuracy: 0.7250 - val_loss: 1.9072 - val_categorical_accuracy: 0.4643 - lr: 0.0025\n",
      "Epoch 8/30\n",
      "42/42 [==============================] - ETA: 0s - loss: 0.6011 - categorical_accuracy: 0.7937\n",
      "Epoch 00008: saving model to model_init_2023-02-1513_53_46.104339/model-00008-0.60115-0.79365-1.00163-0.60714.h5\n",
      "42/42 [==============================] - 22s 544ms/step - loss: 0.6011 - categorical_accuracy: 0.7937 - val_loss: 1.0016 - val_categorical_accuracy: 0.6071 - lr: 0.0025\n",
      "Epoch 9/30\n",
      "42/42 [==============================] - ETA: 0s - loss: 0.5880 - categorical_accuracy: 0.8095\n",
      "Epoch 00009: saving model to model_init_2023-02-1513_53_46.104339/model-00009-0.58801-0.80952-1.54617-0.39286.h5\n",
      "42/42 [==============================] - 23s 553ms/step - loss: 0.5880 - categorical_accuracy: 0.8095 - val_loss: 1.5462 - val_categorical_accuracy: 0.3929 - lr: 0.0025\n",
      "Epoch 10/30\n",
      "42/42 [==============================] - ETA: 0s - loss: 0.6451 - categorical_accuracy: 0.7381\n",
      "Epoch 00010: saving model to model_init_2023-02-1513_53_46.104339/model-00010-0.64509-0.73810-0.73144-0.71429.h5\n",
      "42/42 [==============================] - 28s 692ms/step - loss: 0.6451 - categorical_accuracy: 0.7381 - val_loss: 0.7314 - val_categorical_accuracy: 0.7143 - lr: 0.0025\n",
      "Epoch 11/30\n",
      "42/42 [==============================] - ETA: 0s - loss: 0.5912 - categorical_accuracy: 0.7857\n",
      "Epoch 00011: saving model to model_init_2023-02-1513_53_46.104339/model-00011-0.59120-0.78571-1.27724-0.50000.h5\n",
      "42/42 [==============================] - 24s 576ms/step - loss: 0.5912 - categorical_accuracy: 0.7857 - val_loss: 1.2772 - val_categorical_accuracy: 0.5000 - lr: 0.0025\n",
      "Epoch 12/30\n",
      "42/42 [==============================] - ETA: 0s - loss: 0.3595 - categorical_accuracy: 0.8810\n",
      "Epoch 00012: saving model to model_init_2023-02-1513_53_46.104339/model-00012-0.35950-0.88095-0.97803-0.60714.h5\n",
      "\n",
      "Epoch 00012: ReduceLROnPlateau reducing learning rate to 0.0012499999720603228.\n",
      "42/42 [==============================] - 21s 513ms/step - loss: 0.3595 - categorical_accuracy: 0.8810 - val_loss: 0.9780 - val_categorical_accuracy: 0.6071 - lr: 0.0025\n",
      "Epoch 13/30\n",
      "42/42 [==============================] - ETA: 0s - loss: 0.5328 - categorical_accuracy: 0.8175\n",
      "Epoch 00013: saving model to model_init_2023-02-1513_53_46.104339/model-00013-0.53279-0.81746-0.96612-0.50000.h5\n",
      "42/42 [==============================] - 23s 557ms/step - loss: 0.5328 - categorical_accuracy: 0.8175 - val_loss: 0.9661 - val_categorical_accuracy: 0.5000 - lr: 0.0012\n",
      "Epoch 14/30\n",
      "42/42 [==============================] - ETA: 0s - loss: 0.3112 - categorical_accuracy: 0.9127\n",
      "Epoch 00014: saving model to model_init_2023-02-1513_53_46.104339/model-00014-0.31118-0.91270-0.67691-0.67857.h5\n",
      "42/42 [==============================] - 24s 588ms/step - loss: 0.3112 - categorical_accuracy: 0.9127 - val_loss: 0.6769 - val_categorical_accuracy: 0.6786 - lr: 0.0012\n",
      "Epoch 15/30\n",
      "42/42 [==============================] - ETA: 0s - loss: 0.4127 - categorical_accuracy: 0.8333\n",
      "Epoch 00015: saving model to model_init_2023-02-1513_53_46.104339/model-00015-0.41269-0.83333-0.74506-0.78571.h5\n",
      "42/42 [==============================] - 22s 537ms/step - loss: 0.4127 - categorical_accuracy: 0.8333 - val_loss: 0.7451 - val_categorical_accuracy: 0.7857 - lr: 0.0012\n",
      "Epoch 16/30\n",
      "42/42 [==============================] - ETA: 0s - loss: 0.3264 - categorical_accuracy: 0.9048\n",
      "Epoch 00016: saving model to model_init_2023-02-1513_53_46.104339/model-00016-0.32635-0.90476-0.56558-0.82143.h5\n",
      "42/42 [==============================] - 23s 563ms/step - loss: 0.3264 - categorical_accuracy: 0.9048 - val_loss: 0.5656 - val_categorical_accuracy: 0.8214 - lr: 0.0012\n",
      "Epoch 17/30\n",
      "42/42 [==============================] - ETA: 0s - loss: 0.2993 - categorical_accuracy: 0.8968\n",
      "Epoch 00017: saving model to model_init_2023-02-1513_53_46.104339/model-00017-0.29929-0.89683-0.76288-0.82143.h5\n",
      "42/42 [==============================] - 22s 529ms/step - loss: 0.2993 - categorical_accuracy: 0.8968 - val_loss: 0.7629 - val_categorical_accuracy: 0.8214 - lr: 0.0012\n",
      "Epoch 18/30\n",
      "42/42 [==============================] - ETA: 0s - loss: 0.2374 - categorical_accuracy: 0.9206\n",
      "Epoch 00018: saving model to model_init_2023-02-1513_53_46.104339/model-00018-0.23743-0.92063-0.42947-0.85714.h5\n",
      "42/42 [==============================] - 23s 552ms/step - loss: 0.2374 - categorical_accuracy: 0.9206 - val_loss: 0.4295 - val_categorical_accuracy: 0.8571 - lr: 0.0012\n",
      "Epoch 19/30\n",
      "42/42 [==============================] - ETA: 0s - loss: 0.3186 - categorical_accuracy: 0.8730\n",
      "Epoch 00019: saving model to model_init_2023-02-1513_53_46.104339/model-00019-0.31857-0.87302-0.71416-0.64286.h5\n",
      "42/42 [==============================] - 24s 588ms/step - loss: 0.3186 - categorical_accuracy: 0.8730 - val_loss: 0.7142 - val_categorical_accuracy: 0.6429 - lr: 0.0012\n",
      "Epoch 20/30\n",
      "42/42 [==============================] - ETA: 0s - loss: 0.1977 - categorical_accuracy: 0.9444\n",
      "Epoch 00020: saving model to model_init_2023-02-1513_53_46.104339/model-00020-0.19767-0.94444-0.73541-0.67857.h5\n",
      "\n",
      "Epoch 00020: ReduceLROnPlateau reducing learning rate to 0.0006249999860301614.\n",
      "42/42 [==============================] - 24s 575ms/step - loss: 0.1977 - categorical_accuracy: 0.9444 - val_loss: 0.7354 - val_categorical_accuracy: 0.6786 - lr: 0.0012\n",
      "Epoch 21/30\n",
      "42/42 [==============================] - ETA: 0s - loss: 0.2576 - categorical_accuracy: 0.9206\n",
      "Epoch 00021: saving model to model_init_2023-02-1513_53_46.104339/model-00021-0.25761-0.92063-0.54489-0.85714.h5\n",
      "42/42 [==============================] - 23s 560ms/step - loss: 0.2576 - categorical_accuracy: 0.9206 - val_loss: 0.5449 - val_categorical_accuracy: 0.8571 - lr: 6.2500e-04\n",
      "Epoch 22/30\n",
      "42/42 [==============================] - ETA: 0s - loss: 0.2352 - categorical_accuracy: 0.9365\n",
      "Epoch 00022: saving model to model_init_2023-02-1513_53_46.104339/model-00022-0.23522-0.93651-0.51119-0.78571.h5\n",
      "\n",
      "Epoch 00022: ReduceLROnPlateau reducing learning rate to 0.0003124999930150807.\n",
      "42/42 [==============================] - 21s 507ms/step - loss: 0.2352 - categorical_accuracy: 0.9365 - val_loss: 0.5112 - val_categorical_accuracy: 0.7857 - lr: 6.2500e-04\n",
      "Epoch 23/30\n",
      "42/42 [==============================] - ETA: 0s - loss: 0.2038 - categorical_accuracy: 0.9603\n",
      "Epoch 00023: saving model to model_init_2023-02-1513_53_46.104339/model-00023-0.20382-0.96032-0.69342-0.71429.h5\n",
      "42/42 [==============================] - 23s 571ms/step - loss: 0.2038 - categorical_accuracy: 0.9603 - val_loss: 0.6934 - val_categorical_accuracy: 0.7143 - lr: 3.1250e-04\n",
      "Epoch 24/30\n",
      "42/42 [==============================] - ETA: 0s - loss: 0.1963 - categorical_accuracy: 0.9206\n",
      "Epoch 00024: saving model to model_init_2023-02-1513_53_46.104339/model-00024-0.19632-0.92063-0.55130-0.82143.h5\n",
      "\n",
      "Epoch 00024: ReduceLROnPlateau reducing learning rate to 0.00015624999650754035.\n",
      "42/42 [==============================] - 25s 598ms/step - loss: 0.1963 - categorical_accuracy: 0.9206 - val_loss: 0.5513 - val_categorical_accuracy: 0.8214 - lr: 3.1250e-04\n",
      "Epoch 25/30\n",
      "42/42 [==============================] - ETA: 0s - loss: 0.1545 - categorical_accuracy: 0.9524\n",
      "Epoch 00025: saving model to model_init_2023-02-1513_53_46.104339/model-00025-0.15445-0.95238-0.48190-0.85714.h5\n",
      "42/42 [==============================] - 21s 511ms/step - loss: 0.1545 - categorical_accuracy: 0.9524 - val_loss: 0.4819 - val_categorical_accuracy: 0.8571 - lr: 1.5625e-04\n",
      "Epoch 26/30\n",
      "42/42 [==============================] - ETA: 0s - loss: 0.1934 - categorical_accuracy: 0.9365\n",
      "Epoch 00026: saving model to model_init_2023-02-1513_53_46.104339/model-00026-0.19335-0.93651-0.75085-0.67857.h5\n",
      "\n",
      "Epoch 00026: ReduceLROnPlateau reducing learning rate to 7.812499825377017e-05.\n",
      "42/42 [==============================] - 24s 574ms/step - loss: 0.1934 - categorical_accuracy: 0.9365 - val_loss: 0.7508 - val_categorical_accuracy: 0.6786 - lr: 1.5625e-04\n",
      "Epoch 27/30\n",
      "42/42 [==============================] - ETA: 0s - loss: 0.1908 - categorical_accuracy: 0.9365\n",
      "Epoch 00027: saving model to model_init_2023-02-1513_53_46.104339/model-00027-0.19077-0.93651-0.55380-0.78571.h5\n",
      "42/42 [==============================] - 23s 552ms/step - loss: 0.1908 - categorical_accuracy: 0.9365 - val_loss: 0.5538 - val_categorical_accuracy: 0.7857 - lr: 7.8125e-05\n",
      "Epoch 28/30\n",
      "42/42 [==============================] - ETA: 0s - loss: 0.1361 - categorical_accuracy: 0.9683\n",
      "Epoch 00028: saving model to model_init_2023-02-1513_53_46.104339/model-00028-0.13607-0.96825-0.48447-0.85714.h5\n",
      "\n",
      "Epoch 00028: ReduceLROnPlateau reducing learning rate to 3.9062499126885086e-05.\n",
      "42/42 [==============================] - 24s 576ms/step - loss: 0.1361 - categorical_accuracy: 0.9683 - val_loss: 0.4845 - val_categorical_accuracy: 0.8571 - lr: 7.8125e-05\n",
      "Epoch 29/30\n",
      "42/42 [==============================] - ETA: 0s - loss: 0.1612 - categorical_accuracy: 0.9444\n",
      "Epoch 00029: saving model to model_init_2023-02-1513_53_46.104339/model-00029-0.16124-0.94444-0.70806-0.78571.h5\n",
      "42/42 [==============================] - 22s 539ms/step - loss: 0.1612 - categorical_accuracy: 0.9444 - val_loss: 0.7081 - val_categorical_accuracy: 0.7857 - lr: 3.9062e-05\n",
      "Epoch 30/30\n",
      "42/42 [==============================] - ETA: 0s - loss: 0.2050 - categorical_accuracy: 0.9365\n",
      "Epoch 00030: saving model to model_init_2023-02-1513_53_46.104339/model-00030-0.20504-0.93651-0.46209-0.85714.h5\n",
      "\n",
      "Epoch 00030: ReduceLROnPlateau reducing learning rate to 1.9531249563442543e-05.\n",
      "42/42 [==============================] - 22s 544ms/step - loss: 0.2050 - categorical_accuracy: 0.9365 - val_loss: 0.4621 - val_categorical_accuracy: 0.8571 - lr: 3.9062e-05\n"
     ]
    }
   ],
   "source": [
    "history = model_4.fit(train_generator, steps_per_epoch=steps_per_epoch, epochs=num_epochs, verbose=1, \n",
    "                    callbacks=callbacks_list, validation_data=val_generator, \n",
    "                    validation_steps=validation_steps, class_weight=None, workers=1, initial_epoch=0)"
   ]
  },
  {
   "cell_type": "code",
   "execution_count": 43,
   "metadata": {},
   "outputs": [
    {
     "data": {
      "image/png": "[encoded data removed]",
      "text/plain": [
       "<Figure size 432x288 with 1 Axes>"
      ]
     },
     "metadata": {
      "needs_background": "light"
     },
     "output_type": "display_data"
    },
    {
     "data": {
      "image/png": "[encoded data removed]",
      "text/plain": [
       "<Figure size 432x288 with 1 Axes>"
      ]
     },
     "metadata": {
      "needs_background": "light"
     },
     "output_type": "display_data"
    }
   ],
   "source": [
    "# Plotting graph for train and val accuracy and loss\n",
    "plt.plot(history.history['categorical_accuracy'])\n",
    "plt.plot(history.history['val_categorical_accuracy'])\n",
    "plt.title('model 4 accuracy')\n",
    "plt.ylabel('accuracy')\n",
    "plt.xlabel('epoch')\n",
    "plt.legend(['train', 'val'], loc='upper left')\n",
    "plt.show()\n",
    "\n",
    "# summarize history for loss\n",
    "plt.plot(history.history['loss'])\n",
    "plt.plot(history.history['val_loss'])\n",
    "plt.title('model 4 loss')\n",
    "plt.ylabel('loss')\n",
    "plt.xlabel('epoch')\n",
    "plt.legend(['train', 'val'], loc='upper left')\n",
    "plt.show()"
   ]
  },
  {
   "cell_type": "markdown",
   "metadata": {},
   "source": [
    "# Experiment No 5"
   ]
  },
  {
   "cell_type": "code",
   "execution_count": 44,
   "metadata": {},
   "outputs": [],
   "source": [
    "train_doc = np.random.permutation(open('/home/datasets/Project_data/train.csv').readlines())\n",
    "val_doc = np.random.permutation(open('/home/datasets/Project_data/val.csv').readlines())\n",
    "batch_size = 32"
   ]
  },
  {
   "cell_type": "markdown",
   "metadata": {},
   "source": [
    "**data path: /home/datasets/Project_data**"
   ]
  },
  {
   "cell_type": "code",
   "execution_count": 45,
   "metadata": {},
   "outputs": [],
   "source": [
    "x = 20 # number of frames\n",
    "y = 120 # image width\n",
    "z = 120 # image height\n",
    "\n",
    "def generator(source_path, folder_list, batch_size):\n",
    "    print( 'Source path = ', source_path, '; batch size =', batch_size)\n",
    "    img_idx = [5,6,7,8,9,10,11,12,13,14,15,16,17,18,19,20,21,22,23,24] # using all images in folder\n",
    "    while True:\n",
    "        t = np.random.permutation(folder_list)\n",
    "        num_batches = len(folder_list)//batch_size # calculate the number of batches\n",
    "        for batch in range(num_batches): # we iterate over the number of batches\n",
    "            batch_data = np.zeros((batch_size,x,y,z,3)) # x is the number of images you use for each video, (y,z) is the final size of the input images and 3 is the number of channels RGB\n",
    "            batch_labels = np.zeros((batch_size,5)) # batch_labels is the one hot representation of the output\n",
    "            for folder in range(batch_size): # iterate over the batch_size\n",
    "                imgs = os.listdir(source_path+'/'+ t[folder + (batch*batch_size)].split(';')[0]) # read all the images in the folder\n",
    "                for idx,item in enumerate(img_idx): #  Iterate iver the frames/images of a folder to read them in\n",
    "                    image = imread(source_path+'/'+ t[folder + (batch*batch_size)].strip().split(';')[0]+'/'+imgs[item]).astype(np.float32)\n",
    "                    \n",
    "                    #crop the images and resize them. Note that the images are of 2 different shape \n",
    "                    #and the conv3D will throw error if the inputs in a batch have different shapes\n",
    "                    \n",
    "                    temp = resize(image, (y, z))\n",
    "                    temp = temp/255 #Normalize data\n",
    "                    \n",
    "                    batch_data[folder,idx,:,:,0] = (temp[:,:,0]) #normalise and feed in the image\n",
    "                    batch_data[folder,idx,:,:,1] = (temp[:,:,1]) #normalise and feed in the image\n",
    "                    batch_data[folder,idx,:,:,2] = (temp[:,:,2]) #normalise and feed in the image\n",
    "                    \n",
    "                batch_labels[folder, int(t[folder + (batch*batch_size)].strip().split(';')[2])] = 1\n",
    "            yield batch_data, batch_labels #you yield the batch_data and the batch_labels, remember what does yield do\n",
    "\n",
    "        \n",
    "        # write the code for the remaining data points which are left after full batches\n",
    "        if (len(folder_list) != batch_size*num_batches):\n",
    "            print(\"Batch: \",num_batches+1,\"Index:\", batch_size)\n",
    "            batch_size = len(folder_list) - (batch_size*num_batches)\n",
    "            batch_data = np.zeros((batch_size,x,y,z,3)) # x is the number of images you use for each video, (y,z) is the final size of the input images and 3 is the number of channels RGB\n",
    "            batch_labels = np.zeros((batch_size,5)) # batch_labels is the one hot representation of the output\n",
    "            for folder in range(batch_size): # iterate over the batch_size\n",
    "                imgs = os.listdir(source_path+'/'+ t[folder + (batch*batch_size)].split(';')[0]) # read all the images in the folder\n",
    "                for idx,item in enumerate(img_idx): #  Iterate iver the frames/images of a folder to read them in\n",
    "                    image = imread(source_path+'/'+ t[folder + (batch*batch_size)].strip().split(';')[0]+'/'+imgs[item]).astype(np.float32)\n",
    "                    \n",
    "                    #crop the images and resize them. Note that the images are of 2 different shape \n",
    "                    #and the conv3D will throw error if the inputs in a batch have different shapes\n",
    "                    temp = resize(image, (y, z))\n",
    "                    temp = temp/255 #Normalize data\n",
    "                    \n",
    "                    batch_data[folder,idx,:,:,0] = (temp[:,:,0])\n",
    "                    batch_data[folder,idx,:,:,1] = (temp[:,:,1])\n",
    "                    batch_data[folder,idx,:,:,2] = (temp[:,:,2])\n",
    "                   \n",
    "                batch_labels[folder, int(t[folder + (batch*batch_size)].strip().split(';')[2])] = 1\n",
    "            yield batch_data, batch_labels"
   ]
  },
  {
   "cell_type": "markdown",
   "metadata": {},
   "source": [
    "Note here that a video is represented above in the generator as (number of images, height, width, number of channels). Take this into consideration while creating the model architecture."
   ]
  },
  {
   "cell_type": "code",
   "execution_count": 46,
   "metadata": {},
   "outputs": [
    {
     "name": "stdout",
     "output_type": "stream",
     "text": [
      "# training sequences = 663\n",
      "# validation sequences = 100\n",
      "# epochs = 30\n"
     ]
    }
   ],
   "source": [
    "curr_dt_time = datetime.datetime.now()\n",
    "train_path = '/home/datasets/Project_data/train'\n",
    "val_path = '/home/datasets/Project_data/val'\n",
    "num_train_sequences = len(train_doc)\n",
    "print('# training sequences =', num_train_sequences)\n",
    "num_val_sequences = len(val_doc)\n",
    "print('# validation sequences =', num_val_sequences)\n",
    "num_epochs = 30\n",
    "print ('# epochs =', num_epochs)"
   ]
  },
  {
   "cell_type": "markdown",
   "metadata": {},
   "source": [
    "## Model\n",
    "Here you make the model using different functionalities that Keras provides. Remember to use `Conv3D` and `MaxPooling3D` and not `Conv2D` and `Maxpooling2D` for a 3D convolution model. You would want to use `TimeDistributed` while building a Conv2D + RNN model. Also remember that the last layer is the softmax. Design the network in such a way that the model is able to give good accuracy on the least number of parameters so that it can fit in the memory of the webcam."
   ]
  },
  {
   "cell_type": "code",
   "execution_count": 47,
   "metadata": {},
   "outputs": [],
   "source": [
    "from tensorflow.keras.models import Sequential\n",
    "from tensorflow.keras.layers import Dense, GRU, Dropout, Flatten, BatchNormalization, Activation, Conv3D, MaxPooling3D\n",
    "from tensorflow.keras.callbacks import ModelCheckpoint, ReduceLROnPlateau\n",
    "from tensorflow.keras import optimizers\n",
    "\n",
    "model_5 = Sequential()\n",
    "\n",
    "model_5.add(Conv3D(16, kernel_size=(3,3,3), input_shape=(20, 120, 120, 3), padding='same'))\n",
    "model_5.add(BatchNormalization())\n",
    "model_5.add(Activation('relu'))\n",
    "model_5.add(MaxPooling3D(pool_size=(2,2,2)))\n",
    "\n",
    "model_5.add(Conv3D(32, kernel_size=(3,3,3), padding='same'))\n",
    "model_5.add(BatchNormalization())\n",
    "model_5.add(Activation('relu'))\n",
    "model_5.add(MaxPooling3D(pool_size=(2,2,2)))\n",
    "\n",
    "model_5.add(Conv3D(64, kernel_size=(3,3,3), padding='same'))\n",
    "model_5.add(BatchNormalization())\n",
    "model_5.add(Activation('relu'))\n",
    "model_5.add(MaxPooling3D(pool_size=(2,2,2)))\n",
    "\n",
    "model_5.add(Conv3D(128, kernel_size=(3,3,3), padding='same'))\n",
    "model_5.add(BatchNormalization())\n",
    "model_5.add(Activation('relu'))\n",
    "model_5.add(MaxPooling3D(pool_size=(2,2,2)))\n",
    "\n",
    "\n",
    "#Flatten Layers\n",
    "model_5.add(Flatten())\n",
    "\n",
    "model_5.add(Dense(128, activation='relu'))\n",
    "\n",
    "model_5.add(Dense(256, activation='relu'))\n",
    "\n",
    "model_5.add(Dense(512, activation='relu'))\n",
    "\n",
    "#softmax layer\n",
    "model_5.add(Dense(5, activation='softmax'))"
   ]
  },
  {
   "cell_type": "markdown",
   "metadata": {},
   "source": [
    "Now that you have written the model, the next step is to `compile` the model. When you print the `summary` of the model, you'll see the total number of parameters you have to train."
   ]
  },
  {
   "cell_type": "code",
   "execution_count": 48,
   "metadata": {
    "scrolled": true
   },
   "outputs": [
    {
     "name": "stdout",
     "output_type": "stream",
     "text": [
      "Model: \"sequential_4\"\n",
      "_________________________________________________________________\n",
      " Layer (type)                Output Shape              Param #   \n",
      "=================================================================\n",
      " conv3d_15 (Conv3D)          (None, 20, 120, 120, 16)  1312      \n",
      "                                                                 \n",
      " batch_normalization_15 (Bat  (None, 20, 120, 120, 16)  64       \n",
      " chNormalization)                                                \n",
      "                                                                 \n",
      " activation_15 (Activation)  (None, 20, 120, 120, 16)  0         \n",
      "                                                                 \n",
      " max_pooling3d_15 (MaxPoolin  (None, 10, 60, 60, 16)   0         \n",
      " g3D)                                                            \n",
      "                                                                 \n",
      " conv3d_16 (Conv3D)          (None, 10, 60, 60, 32)    13856     \n",
      "                                                                 \n",
      " batch_normalization_16 (Bat  (None, 10, 60, 60, 32)   128       \n",
      " chNormalization)                                                \n",
      "                                                                 \n",
      " activation_16 (Activation)  (None, 10, 60, 60, 32)    0         \n",
      "                                                                 \n",
      " max_pooling3d_16 (MaxPoolin  (None, 5, 30, 30, 32)    0         \n",
      " g3D)                                                            \n",
      "                                                                 \n",
      " conv3d_17 (Conv3D)          (None, 5, 30, 30, 64)     55360     \n",
      "                                                                 \n",
      " batch_normalization_17 (Bat  (None, 5, 30, 30, 64)    256       \n",
      " chNormalization)                                                \n",
      "                                                                 \n",
      " activation_17 (Activation)  (None, 5, 30, 30, 64)     0         \n",
      "                                                                 \n",
      " max_pooling3d_17 (MaxPoolin  (None, 2, 15, 15, 64)    0         \n",
      " g3D)                                                            \n",
      "                                                                 \n",
      " conv3d_18 (Conv3D)          (None, 2, 15, 15, 128)    221312    \n",
      "                                                                 \n",
      " batch_normalization_18 (Bat  (None, 2, 15, 15, 128)   512       \n",
      " chNormalization)                                                \n",
      "                                                                 \n",
      " activation_18 (Activation)  (None, 2, 15, 15, 128)    0         \n",
      "                                                                 \n",
      " max_pooling3d_18 (MaxPoolin  (None, 1, 7, 7, 128)     0         \n",
      " g3D)                                                            \n",
      "                                                                 \n",
      " flatten_4 (Flatten)         (None, 6272)              0         \n",
      "                                                                 \n",
      " dense_13 (Dense)            (None, 128)               802944    \n",
      "                                                                 \n",
      " dense_14 (Dense)            (None, 256)               33024     \n",
      "                                                                 \n",
      " dense_15 (Dense)            (None, 512)               131584    \n",
      "                                                                 \n",
      " dense_16 (Dense)            (None, 5)                 2565      \n",
      "                                                                 \n",
      "=================================================================\n",
      "Total params: 1,262,917\n",
      "Trainable params: 1,262,437\n",
      "Non-trainable params: 480\n",
      "_________________________________________________________________\n",
      "None\n"
     ]
    },
    {
     "name": "stderr",
     "output_type": "stream",
     "text": [
      "/usr/local/lib/python3.8/dist-packages/keras/optimizer_v2/gradient_descent.py:102: UserWarning: The `lr` argument is deprecated, use `learning_rate` instead.\n",
      "  super(SGD, self).__init__(name, **kwargs)\n"
     ]
    }
   ],
   "source": [
    "optimiser = optimizers.SGD(lr=0.01, momentum=0.9, nesterov=True)\n",
    "model_5.compile(optimizer=optimiser, loss='categorical_crossentropy', metrics=['categorical_accuracy'])\n",
    "print (model_5.summary())"
   ]
  },
  {
   "cell_type": "markdown",
   "metadata": {},
   "source": [
    "Let us create the `train_generator` and the `val_generator` which will be used in `.fit_generator`."
   ]
  },
  {
   "cell_type": "code",
   "execution_count": 49,
   "metadata": {},
   "outputs": [],
   "source": [
    "train_generator = generator(train_path, train_doc, batch_size)\n",
    "val_generator = generator(val_path, val_doc, batch_size)"
   ]
  },
  {
   "cell_type": "code",
   "execution_count": 50,
   "metadata": {},
   "outputs": [
    {
     "name": "stdout",
     "output_type": "stream",
     "text": [
      "WARNING:tensorflow:`period` argument is deprecated. Please use `save_freq` to specify the frequency in number of batches seen.\n"
     ]
    }
   ],
   "source": [
    "model_name = 'model_init' + '_' + str(curr_dt_time).replace(' ','').replace(':','_') + '/'\n",
    "    \n",
    "if not os.path.exists(model_name):\n",
    "    os.mkdir(model_name)\n",
    "        \n",
    "filepath = model_name + 'model-{epoch:05d}-{loss:.5f}-{categorical_accuracy:.5f}-{val_loss:.5f}-{val_categorical_accuracy:.5f}.h5'\n",
    "\n",
    "checkpoint = ModelCheckpoint(filepath, monitor='val_loss', verbose=1, save_best_only=False, save_weights_only=False, mode='auto',period =1)\n",
    "\n",
    "LR = ReduceLROnPlateau(monitor='val_loss', factor=0.5, patience=2, cooldown=1, verbose=1) # write the REducelronplateau code here\n",
    "callbacks_list = [checkpoint, LR]"
   ]
  },
  {
   "cell_type": "markdown",
   "metadata": {},
   "source": [
    "The `steps_per_epoch` and `validation_steps` are used by `fit` method to decide the number of next() calls it need to make."
   ]
  },
  {
   "cell_type": "code",
   "execution_count": 51,
   "metadata": {},
   "outputs": [],
   "source": [
    "if (num_train_sequences%batch_size) == 0:\n",
    "    steps_per_epoch = int(num_train_sequences/batch_size)\n",
    "else:\n",
    "    steps_per_epoch = (num_train_sequences//batch_size) + 1\n",
    "\n",
    "if (num_val_sequences%batch_size) == 0:\n",
    "    validation_steps = int(num_val_sequences/batch_size)\n",
    "else:\n",
    "    validation_steps = (num_val_sequences//batch_size) + 1"
   ]
  },
  {
   "cell_type": "markdown",
   "metadata": {},
   "source": [
    "Let us now fit the model. This will start training the model and with the help of the checkpoints, you'll be able to save the model at the end of each epoch."
   ]
  },
  {
   "cell_type": "code",
   "execution_count": 52,
   "metadata": {},
   "outputs": [
    {
     "name": "stdout",
     "output_type": "stream",
     "text": [
      "Source path =  /home/datasets/Project_data/train ; batch size = 32\n",
      "Epoch 1/30\n",
      "19/21 [==========================>...] - ETA: 8s - loss: 1.6071 - categorical_accuracy: 0.2928 Batch:  21 Index: 32\n",
      "21/21 [==============================] - ETA: 0s - loss: 1.5780 - categorical_accuracy: 0.3122Source path =  /home/datasets/Project_data/val ; batch size = 32\n",
      "Batch:  4 Index: 32\n",
      "\n",
      "Epoch 00001: saving model to model_init_2023-02-1514_08_04.219176/model-00001-1.57801-0.31222-1.56744-0.21000.h5\n",
      "21/21 [==============================] - 105s 5s/step - loss: 1.5780 - categorical_accuracy: 0.3122 - val_loss: 1.5674 - val_categorical_accuracy: 0.2100 - lr: 0.0100\n",
      "Epoch 2/30\n",
      "21/21 [==============================] - ETA: 0s - loss: 1.1438 - categorical_accuracy: 0.5342\n",
      "Epoch 00002: saving model to model_init_2023-02-1514_08_04.219176/model-00002-1.14381-0.53416-1.42486-0.12500.h5\n",
      "21/21 [==============================] - 67s 3s/step - loss: 1.1438 - categorical_accuracy: 0.5342 - val_loss: 1.4249 - val_categorical_accuracy: 0.1250 - lr: 0.0100\n",
      "Epoch 3/30\n",
      " 6/21 [=======>......................] - ETA: 50s - loss: 1.0242 - categorical_accuracy: 0.5435Batch:  29 Index: 23\n",
      "21/21 [==============================] - ETA: 0s - loss: 0.9695 - categorical_accuracy: 0.5738\n",
      "Epoch 00003: saving model to model_init_2023-02-1514_08_04.219176/model-00003-0.96953-0.57377-2.09948-0.25000.h5\n",
      "21/21 [==============================] - 61s 3s/step - loss: 0.9695 - categorical_accuracy: 0.5738 - val_loss: 2.0995 - val_categorical_accuracy: 0.2500 - lr: 0.0100\n",
      "Epoch 4/30\n",
      "20/21 [===========================>..] - ETA: 2s - loss: 0.9050 - categorical_accuracy: 0.6632Batch:  35 Index: 19\n",
      "21/21 [==============================] - ETA: 0s - loss: 0.8884 - categorical_accuracy: 0.6717\n",
      "Epoch 00004: saving model to model_init_2023-02-1514_08_04.219176/model-00004-0.88843-0.67168-2.76002-0.18750.h5\n",
      "\n",
      "Epoch 00004: ReduceLROnPlateau reducing learning rate to 0.004999999888241291.\n",
      "21/21 [==============================] - 58s 3s/step - loss: 0.8884 - categorical_accuracy: 0.6717 - val_loss: 2.7600 - val_categorical_accuracy: 0.1875 - lr: 0.0100\n",
      "Epoch 5/30\n",
      "21/21 [==============================] - ETA: 0s - loss: 0.5797 - categorical_accuracy: 0.7843\n",
      "Epoch 00005: saving model to model_init_2023-02-1514_08_04.219176/model-00005-0.57975-0.78431-3.98704-0.12500.h5\n",
      "21/21 [==============================] - 49s 2s/step - loss: 0.5797 - categorical_accuracy: 0.7843 - val_loss: 3.9870 - val_categorical_accuracy: 0.1250 - lr: 0.0050\n",
      "Epoch 6/30\n",
      "21/21 [==============================] - ETA: 0s - loss: 0.5178 - categorical_accuracy: 0.8095\n",
      "Epoch 00006: saving model to model_init_2023-02-1514_08_04.219176/model-00006-0.51779-0.80952-4.17173-0.18750.h5\n",
      "\n",
      "Epoch 00006: ReduceLROnPlateau reducing learning rate to 0.0024999999441206455.\n",
      "21/21 [==============================] - 52s 3s/step - loss: 0.5178 - categorical_accuracy: 0.8095 - val_loss: 4.1717 - val_categorical_accuracy: 0.1875 - lr: 0.0050\n",
      "Epoch 7/30\n",
      "21/21 [==============================] - ETA: 0s - loss: 0.4411 - categorical_accuracy: 0.8039\n",
      "Epoch 00007: saving model to model_init_2023-02-1514_08_04.219176/model-00007-0.44109-0.80392-4.53472-0.25000.h5\n",
      "21/21 [==============================] - 51s 3s/step - loss: 0.4411 - categorical_accuracy: 0.8039 - val_loss: 4.5347 - val_categorical_accuracy: 0.2500 - lr: 0.0025\n",
      "Epoch 8/30\n",
      "21/21 [==============================] - ETA: 0s - loss: 0.3295 - categorical_accuracy: 0.8683\n",
      "Epoch 00008: saving model to model_init_2023-02-1514_08_04.219176/model-00008-0.32951-0.86835-3.20361-0.25000.h5\n",
      "\n",
      "Epoch 00008: ReduceLROnPlateau reducing learning rate to 0.0012499999720603228.\n",
      "21/21 [==============================] - 50s 3s/step - loss: 0.3295 - categorical_accuracy: 0.8683 - val_loss: 3.2036 - val_categorical_accuracy: 0.2500 - lr: 0.0025\n",
      "Epoch 9/30\n",
      "21/21 [==============================] - ETA: 0s - loss: 0.2353 - categorical_accuracy: 0.9076\n",
      "Epoch 00009: saving model to model_init_2023-02-1514_08_04.219176/model-00009-0.23534-0.90756-3.59509-0.31250.h5\n",
      "21/21 [==============================] - 52s 3s/step - loss: 0.2353 - categorical_accuracy: 0.9076 - val_loss: 3.5951 - val_categorical_accuracy: 0.3125 - lr: 0.0012\n",
      "Epoch 10/30\n",
      "21/21 [==============================] - ETA: 0s - loss: 0.2288 - categorical_accuracy: 0.9216\n",
      "Epoch 00010: saving model to model_init_2023-02-1514_08_04.219176/model-00010-0.22876-0.92157-4.07082-0.43750.h5\n",
      "\n",
      "Epoch 00010: ReduceLROnPlateau reducing learning rate to 0.0006249999860301614.\n",
      "21/21 [==============================] - 49s 2s/step - loss: 0.2288 - categorical_accuracy: 0.9216 - val_loss: 4.0708 - val_categorical_accuracy: 0.4375 - lr: 0.0012\n",
      "Epoch 11/30\n",
      "21/21 [==============================] - ETA: 0s - loss: 0.1532 - categorical_accuracy: 0.9552\n",
      "Epoch 00011: saving model to model_init_2023-02-1514_08_04.219176/model-00011-0.15322-0.95518-4.62230-0.25000.h5\n",
      "21/21 [==============================] - 52s 3s/step - loss: 0.1532 - categorical_accuracy: 0.9552 - val_loss: 4.6223 - val_categorical_accuracy: 0.2500 - lr: 6.2500e-04\n",
      "Epoch 12/30\n",
      "21/21 [==============================] - ETA: 0s - loss: 0.1690 - categorical_accuracy: 0.9384\n",
      "Epoch 00012: saving model to model_init_2023-02-1514_08_04.219176/model-00012-0.16900-0.93838-4.85809-0.12500.h5\n",
      "\n",
      "Epoch 00012: ReduceLROnPlateau reducing learning rate to 0.0003124999930150807.\n",
      "21/21 [==============================] - 52s 3s/step - loss: 0.1690 - categorical_accuracy: 0.9384 - val_loss: 4.8581 - val_categorical_accuracy: 0.1250 - lr: 6.2500e-04\n",
      "Epoch 13/30\n",
      "21/21 [==============================] - ETA: 0s - loss: 0.1239 - categorical_accuracy: 0.9608\n",
      "Epoch 00013: saving model to model_init_2023-02-1514_08_04.219176/model-00013-0.12389-0.96078-3.64136-0.37500.h5\n",
      "21/21 [==============================] - 50s 2s/step - loss: 0.1239 - categorical_accuracy: 0.9608 - val_loss: 3.6414 - val_categorical_accuracy: 0.3750 - lr: 3.1250e-04\n",
      "Epoch 14/30\n",
      "21/21 [==============================] - ETA: 0s - loss: 0.1188 - categorical_accuracy: 0.9636\n",
      "Epoch 00014: saving model to model_init_2023-02-1514_08_04.219176/model-00014-0.11881-0.96359-3.13548-0.50000.h5\n",
      "\n",
      "Epoch 00014: ReduceLROnPlateau reducing learning rate to 0.00015624999650754035.\n",
      "21/21 [==============================] - 54s 3s/step - loss: 0.1188 - categorical_accuracy: 0.9636 - val_loss: 3.1355 - val_categorical_accuracy: 0.5000 - lr: 3.1250e-04\n",
      "Epoch 15/30\n",
      "21/21 [==============================] - ETA: 0s - loss: 0.1308 - categorical_accuracy: 0.9692\n",
      "Epoch 00015: saving model to model_init_2023-02-1514_08_04.219176/model-00015-0.13083-0.96919-3.23112-0.37500.h5\n",
      "21/21 [==============================] - 53s 3s/step - loss: 0.1308 - categorical_accuracy: 0.9692 - val_loss: 3.2311 - val_categorical_accuracy: 0.3750 - lr: 1.5625e-04\n",
      "Epoch 16/30\n",
      "21/21 [==============================] - ETA: 0s - loss: 0.1148 - categorical_accuracy: 0.9776\n",
      "Epoch 00016: saving model to model_init_2023-02-1514_08_04.219176/model-00016-0.11479-0.97759-1.97119-0.43750.h5\n",
      "\n",
      "Epoch 00016: ReduceLROnPlateau reducing learning rate to 7.812499825377017e-05.\n",
      "21/21 [==============================] - 49s 2s/step - loss: 0.1148 - categorical_accuracy: 0.9776 - val_loss: 1.9712 - val_categorical_accuracy: 0.4375 - lr: 1.5625e-04\n",
      "Epoch 17/30\n",
      "21/21 [==============================] - ETA: 0s - loss: 0.1006 - categorical_accuracy: 0.9692\n",
      "Epoch 00017: saving model to model_init_2023-02-1514_08_04.219176/model-00017-0.10056-0.96919-1.93810-0.50000.h5\n",
      "21/21 [==============================] - 51s 3s/step - loss: 0.1006 - categorical_accuracy: 0.9692 - val_loss: 1.9381 - val_categorical_accuracy: 0.5000 - lr: 7.8125e-05\n",
      "Epoch 18/30\n",
      "21/21 [==============================] - ETA: 0s - loss: 0.1016 - categorical_accuracy: 0.9748\n",
      "Epoch 00018: saving model to model_init_2023-02-1514_08_04.219176/model-00018-0.10159-0.97479-2.38930-0.25000.h5\n",
      "\n",
      "Epoch 00018: ReduceLROnPlateau reducing learning rate to 3.9062499126885086e-05.\n",
      "21/21 [==============================] - 52s 3s/step - loss: 0.1016 - categorical_accuracy: 0.9748 - val_loss: 2.3893 - val_categorical_accuracy: 0.2500 - lr: 7.8125e-05\n",
      "Epoch 19/30\n",
      "21/21 [==============================] - ETA: 0s - loss: 0.1108 - categorical_accuracy: 0.9748\n",
      "Epoch 00019: saving model to model_init_2023-02-1514_08_04.219176/model-00019-0.11078-0.97479-0.90242-0.62500.h5\n",
      "21/21 [==============================] - 48s 2s/step - loss: 0.1108 - categorical_accuracy: 0.9748 - val_loss: 0.9024 - val_categorical_accuracy: 0.6250 - lr: 3.9062e-05\n",
      "Epoch 20/30\n",
      "21/21 [==============================] - ETA: 0s - loss: 0.0888 - categorical_accuracy: 0.9804\n",
      "Epoch 00020: saving model to model_init_2023-02-1514_08_04.219176/model-00020-0.08880-0.98039-1.26996-0.68750.h5\n",
      "21/21 [==============================] - 49s 2s/step - loss: 0.0888 - categorical_accuracy: 0.9804 - val_loss: 1.2700 - val_categorical_accuracy: 0.6875 - lr: 3.9062e-05\n",
      "Epoch 21/30\n",
      "21/21 [==============================] - ETA: 0s - loss: 0.0925 - categorical_accuracy: 0.9776\n",
      "Epoch 00021: saving model to model_init_2023-02-1514_08_04.219176/model-00021-0.09253-0.97759-0.32316-0.87500.h5\n",
      "21/21 [==============================] - 53s 3s/step - loss: 0.0925 - categorical_accuracy: 0.9776 - val_loss: 0.3232 - val_categorical_accuracy: 0.8750 - lr: 3.9062e-05\n",
      "Epoch 22/30\n",
      "21/21 [==============================] - ETA: 0s - loss: 0.0958 - categorical_accuracy: 0.9692\n",
      "Epoch 00022: saving model to model_init_2023-02-1514_08_04.219176/model-00022-0.09580-0.96919-0.88403-0.62500.h5\n",
      "21/21 [==============================] - 50s 2s/step - loss: 0.0958 - categorical_accuracy: 0.9692 - val_loss: 0.8840 - val_categorical_accuracy: 0.6250 - lr: 3.9062e-05\n",
      "Epoch 23/30\n",
      "21/21 [==============================] - ETA: 0s - loss: 0.1005 - categorical_accuracy: 0.9748\n",
      "Epoch 00023: saving model to model_init_2023-02-1514_08_04.219176/model-00023-0.10053-0.97479-0.36776-0.81250.h5\n",
      "\n",
      "Epoch 00023: ReduceLROnPlateau reducing learning rate to 1.9531249563442543e-05.\n",
      "21/21 [==============================] - 50s 2s/step - loss: 0.1005 - categorical_accuracy: 0.9748 - val_loss: 0.3678 - val_categorical_accuracy: 0.8125 - lr: 3.9062e-05\n",
      "Epoch 24/30\n",
      "21/21 [==============================] - ETA: 0s - loss: 0.0915 - categorical_accuracy: 0.9832\n",
      "Epoch 00024: saving model to model_init_2023-02-1514_08_04.219176/model-00024-0.09153-0.98319-0.68109-0.87500.h5\n",
      "21/21 [==============================] - 51s 3s/step - loss: 0.0915 - categorical_accuracy: 0.9832 - val_loss: 0.6811 - val_categorical_accuracy: 0.8750 - lr: 1.9531e-05\n",
      "Epoch 25/30\n",
      "21/21 [==============================] - ETA: 0s - loss: 0.0986 - categorical_accuracy: 0.9748\n",
      "Epoch 00025: saving model to model_init_2023-02-1514_08_04.219176/model-00025-0.09861-0.97479-0.68563-0.81250.h5\n",
      "\n",
      "Epoch 00025: ReduceLROnPlateau reducing learning rate to 9.765624781721272e-06.\n",
      "21/21 [==============================] - 53s 3s/step - loss: 0.0986 - categorical_accuracy: 0.9748 - val_loss: 0.6856 - val_categorical_accuracy: 0.8125 - lr: 1.9531e-05\n",
      "Epoch 26/30\n",
      "21/21 [==============================] - ETA: 0s - loss: 0.1018 - categorical_accuracy: 0.9664\n",
      "Epoch 00026: saving model to model_init_2023-02-1514_08_04.219176/model-00026-0.10179-0.96639-0.27903-0.75000.h5\n",
      "21/21 [==============================] - 50s 3s/step - loss: 0.1018 - categorical_accuracy: 0.9664 - val_loss: 0.2790 - val_categorical_accuracy: 0.7500 - lr: 9.7656e-06\n",
      "Epoch 27/30\n",
      "21/21 [==============================] - ETA: 0s - loss: 0.0867 - categorical_accuracy: 0.9860\n",
      "Epoch 00027: saving model to model_init_2023-02-1514_08_04.219176/model-00027-0.08671-0.98599-0.57256-0.93750.h5\n",
      "21/21 [==============================] - 50s 2s/step - loss: 0.0867 - categorical_accuracy: 0.9860 - val_loss: 0.5726 - val_categorical_accuracy: 0.9375 - lr: 9.7656e-06\n",
      "Epoch 28/30\n",
      "21/21 [==============================] - ETA: 0s - loss: 0.0819 - categorical_accuracy: 0.9776\n",
      "Epoch 00028: saving model to model_init_2023-02-1514_08_04.219176/model-00028-0.08192-0.97759-0.41307-0.81250.h5\n",
      "\n",
      "Epoch 00028: ReduceLROnPlateau reducing learning rate to 4.882812390860636e-06.\n",
      "21/21 [==============================] - 52s 3s/step - loss: 0.0819 - categorical_accuracy: 0.9776 - val_loss: 0.4131 - val_categorical_accuracy: 0.8125 - lr: 9.7656e-06\n",
      "Epoch 29/30\n",
      "21/21 [==============================] - ETA: 0s - loss: 0.1126 - categorical_accuracy: 0.9608\n",
      "Epoch 00029: saving model to model_init_2023-02-1514_08_04.219176/model-00029-0.11264-0.96078-0.25386-0.93750.h5\n",
      "21/21 [==============================] - 50s 2s/step - loss: 0.1126 - categorical_accuracy: 0.9608 - val_loss: 0.2539 - val_categorical_accuracy: 0.9375 - lr: 4.8828e-06\n",
      "Epoch 30/30\n",
      "21/21 [==============================] - ETA: 0s - loss: 0.0986 - categorical_accuracy: 0.9804\n",
      "Epoch 00030: saving model to model_init_2023-02-1514_08_04.219176/model-00030-0.09862-0.98039-0.61309-0.87500.h5\n",
      "21/21 [==============================] - 52s 3s/step - loss: 0.0986 - categorical_accuracy: 0.9804 - val_loss: 0.6131 - val_categorical_accuracy: 0.8750 - lr: 4.8828e-06\n"
     ]
    }
   ],
   "source": [
    "history = model_5.fit(train_generator, steps_per_epoch=steps_per_epoch, epochs=num_epochs, verbose=1, \n",
    "                    callbacks=callbacks_list, validation_data=val_generator, \n",
    "                    validation_steps=validation_steps, class_weight=None, workers=1, initial_epoch=0)"
   ]
  },
  {
   "cell_type": "code",
   "execution_count": 53,
   "metadata": {},
   "outputs": [
    {
     "data": {
      "image/png": "[encoded data removed]",
      "text/plain": [
       "<Figure size 432x288 with 1 Axes>"
      ]
     },
     "metadata": {
      "needs_background": "light"
     },
     "output_type": "display_data"
    },
    {
     "data": {
      "image/png": "[encoded data removed]",
      "text/plain": [
       "<Figure size 432x288 with 1 Axes>"
      ]
     },
     "metadata": {
      "needs_background": "light"
     },
     "output_type": "display_data"
    }
   ],
   "source": [
    "# Plotting graph for train and val accuracy and loss\n",
    "plt.plot(history.history['categorical_accuracy'])\n",
    "plt.plot(history.history['val_categorical_accuracy'])\n",
    "plt.title('model 5 accuracy')\n",
    "plt.ylabel('accuracy')\n",
    "plt.xlabel('epoch')\n",
    "plt.legend(['train', 'val'], loc='upper left')\n",
    "plt.show()\n",
    "\n",
    "# summarize history for loss\n",
    "plt.plot(history.history['loss'])\n",
    "plt.plot(history.history['val_loss'])\n",
    "plt.title('model 5 loss')\n",
    "plt.ylabel('loss')\n",
    "plt.xlabel('epoch')\n",
    "plt.legend(['train', 'val'], loc='upper left')\n",
    "plt.show()"
   ]
  },
  {
   "cell_type": "markdown",
   "metadata": {},
   "source": [
    "# Experiment No 6"
   ]
  },
  {
   "cell_type": "code",
   "execution_count": 54,
   "metadata": {},
   "outputs": [],
   "source": [
    "train_doc = np.random.permutation(open('/home/datasets/Project_data/train.csv').readlines())\n",
    "val_doc = np.random.permutation(open('/home/datasets/Project_data/val.csv').readlines())\n",
    "batch_size = 32"
   ]
  },
  {
   "cell_type": "markdown",
   "metadata": {},
   "source": [
    "**data path: /home/datasets/Project_data**"
   ]
  },
  {
   "cell_type": "code",
   "execution_count": 55,
   "metadata": {},
   "outputs": [],
   "source": [
    "x = 20 # number of frames\n",
    "y = 120 # image width\n",
    "z = 120 # image height\n",
    "\n",
    "def generator(source_path, folder_list, batch_size):\n",
    "    print( 'Source path = ', source_path, '; batch size =', batch_size)\n",
    "    img_idx = [5,6,7,8,9,10,11,12,13,14,15,16,17,18,19,20,21,22,23,24] # using all images in folder\n",
    "    while True:\n",
    "        t = np.random.permutation(folder_list)\n",
    "        num_batches = len(folder_list)//batch_size # calculate the number of batches\n",
    "        for batch in range(num_batches): # we iterate over the number of batches\n",
    "            batch_data = np.zeros((batch_size,x,y,z,3)) # x is the number of images you use for each video, (y,z) is the final size of the input images and 3 is the number of channels RGB\n",
    "            batch_labels = np.zeros((batch_size,5)) # batch_labels is the one hot representation of the output\n",
    "            for folder in range(batch_size): # iterate over the batch_size\n",
    "                imgs = os.listdir(source_path+'/'+ t[folder + (batch*batch_size)].split(';')[0]) # read all the images in the folder\n",
    "                for idx,item in enumerate(img_idx): #  Iterate iver the frames/images of a folder to read them in\n",
    "                    image = imread(source_path+'/'+ t[folder + (batch*batch_size)].strip().split(';')[0]+'/'+imgs[item]).astype(np.float32)\n",
    "                    \n",
    "                    #crop the images and resize them. Note that the images are of 2 different shape \n",
    "                    #and the conv3D will throw error if the inputs in a batch have different shapes\n",
    "                    \n",
    "                    temp = resize(image, (y, z))\n",
    "                    temp = temp/255 #Normalize data\n",
    "                    \n",
    "                    batch_data[folder,idx,:,:,0] = (temp[:,:,0]) #normalise and feed in the image\n",
    "                    batch_data[folder,idx,:,:,1] = (temp[:,:,1]) #normalise and feed in the image\n",
    "                    batch_data[folder,idx,:,:,2] = (temp[:,:,2]) #normalise and feed in the image\n",
    "                    \n",
    "                batch_labels[folder, int(t[folder + (batch*batch_size)].strip().split(';')[2])] = 1\n",
    "            yield batch_data, batch_labels #you yield the batch_data and the batch_labels, remember what does yield do\n",
    "\n",
    "        \n",
    "        # write the code for the remaining data points which are left after full batches\n",
    "        if (len(folder_list) != batch_size*num_batches):\n",
    "            print(\"Batch: \",num_batches+1,\"Index:\", batch_size)\n",
    "            batch_size = len(folder_list) - (batch_size*num_batches)\n",
    "            batch_data = np.zeros((batch_size,x,y,z,3)) # x is the number of images you use for each video, (y,z) is the final size of the input images and 3 is the number of channels RGB\n",
    "            batch_labels = np.zeros((batch_size,5)) # batch_labels is the one hot representation of the output\n",
    "            for folder in range(batch_size): # iterate over the batch_size\n",
    "                imgs = os.listdir(source_path+'/'+ t[folder + (batch*batch_size)].split(';')[0]) # read all the images in the folder\n",
    "                for idx,item in enumerate(img_idx): #  Iterate iver the frames/images of a folder to read them in\n",
    "                    image = imread(source_path+'/'+ t[folder + (batch*batch_size)].strip().split(';')[0]+'/'+imgs[item]).astype(np.float32)\n",
    "                    \n",
    "                    #crop the images and resize them. Note that the images are of 2 different shape \n",
    "                    #and the conv3D will throw error if the inputs in a batch have different shapes\n",
    "                    temp = resize(image, (y, z))\n",
    "                    temp = temp/255 #Normalize data\n",
    "                    \n",
    "                    batch_data[folder,idx,:,:,0] = (temp[:,:,0])\n",
    "                    batch_data[folder,idx,:,:,1] = (temp[:,:,1])\n",
    "                    batch_data[folder,idx,:,:,2] = (temp[:,:,2])\n",
    "                   \n",
    "                batch_labels[folder, int(t[folder + (batch*batch_size)].strip().split(';')[2])] = 1\n",
    "            yield batch_data, batch_labels"
   ]
  },
  {
   "cell_type": "markdown",
   "metadata": {},
   "source": [
    "Note here that a video is represented above in the generator as (number of images, height, width, number of channels). Take this into consideration while creating the model architecture."
   ]
  },
  {
   "cell_type": "code",
   "execution_count": 56,
   "metadata": {},
   "outputs": [
    {
     "name": "stdout",
     "output_type": "stream",
     "text": [
      "# training sequences = 663\n",
      "# validation sequences = 100\n",
      "# epochs = 25\n"
     ]
    }
   ],
   "source": [
    "curr_dt_time = datetime.datetime.now()\n",
    "train_path = '/home/datasets/Project_data/train'\n",
    "val_path = '/home/datasets/Project_data/val'\n",
    "num_train_sequences = len(train_doc)\n",
    "print('# training sequences =', num_train_sequences)\n",
    "num_val_sequences = len(val_doc)\n",
    "print('# validation sequences =', num_val_sequences)\n",
    "num_epochs = 25\n",
    "print ('# epochs =', num_epochs)"
   ]
  },
  {
   "cell_type": "markdown",
   "metadata": {},
   "source": [
    "## Model\n",
    "Here you make the model using different functionalities that Keras provides. Remember to use `Conv3D` and `MaxPooling3D` and not `Conv2D` and `Maxpooling2D` for a 3D convolution model. You would want to use `TimeDistributed` while building a Conv2D + RNN model. Also remember that the last layer is the softmax. Design the network in such a way that the model is able to give good accuracy on the least number of parameters so that it can fit in the memory of the webcam."
   ]
  },
  {
   "cell_type": "code",
   "execution_count": 57,
   "metadata": {},
   "outputs": [],
   "source": [
    "from tensorflow.keras.models import Sequential\n",
    "from tensorflow.keras.layers import Dense, GRU, Dropout, Flatten, BatchNormalization, Activation, Conv3D, MaxPooling3D\n",
    "from tensorflow.keras.callbacks import ModelCheckpoint, ReduceLROnPlateau\n",
    "from tensorflow.keras import optimizers\n",
    "\n",
    "model_6 = Sequential()\n",
    "\n",
    "model_6.add(Conv3D(16, kernel_size=(3,3,3), input_shape=(20, 120, 120, 3), padding='same'))\n",
    "model_6.add(BatchNormalization())\n",
    "model_6.add(Activation('relu'))\n",
    "model_6.add(MaxPooling3D(pool_size=(2,2,2)))\n",
    "\n",
    "model_6.add(Conv3D(32, kernel_size=(3,3,3), padding='same'))\n",
    "model_6.add(BatchNormalization())\n",
    "model_6.add(Activation('relu'))\n",
    "model_6.add(MaxPooling3D(pool_size=(2,2,2)))\n",
    "\n",
    "model_6.add(Conv3D(64, kernel_size=(3,3,3), padding='same'))\n",
    "model_6.add(BatchNormalization())\n",
    "model_6.add(Activation('relu'))\n",
    "model_6.add(MaxPooling3D(pool_size=(2,2,2)))\n",
    "\n",
    "model_6.add(Conv3D(128, kernel_size=(3,3,3), padding='same'))\n",
    "model_6.add(BatchNormalization())\n",
    "model_6.add(Activation('relu'))\n",
    "model_6.add(MaxPooling3D(pool_size=(2,2,2)))\n",
    "\n",
    "\n",
    "#Flatten Layers\n",
    "model_6.add(Flatten())\n",
    "\n",
    "model_6.add(Dense(128, activation='relu'))\n",
    "model_6.add(Dropout(0.25))\n",
    "\n",
    "model_6.add(Dense(256, activation='relu'))\n",
    "model_6.add(Dropout(0.25))\n",
    "\n",
    "model_6.add(Dense(512, activation='relu'))\n",
    "model_6.add(Dropout(0.25))\n",
    "\n",
    "#softmax layer\n",
    "model_6.add(Dense(5, activation='softmax'))"
   ]
  },
  {
   "cell_type": "markdown",
   "metadata": {},
   "source": [
    "Now that you have written the model, the next step is to `compile` the model. When you print the `summary` of the model, you'll see the total number of parameters you have to train."
   ]
  },
  {
   "cell_type": "code",
   "execution_count": 58,
   "metadata": {
    "scrolled": true
   },
   "outputs": [
    {
     "name": "stdout",
     "output_type": "stream",
     "text": [
      "Model: \"sequential_5\"\n",
      "_________________________________________________________________\n",
      " Layer (type)                Output Shape              Param #   \n",
      "=================================================================\n",
      " conv3d_19 (Conv3D)          (None, 20, 120, 120, 16)  1312      \n",
      "                                                                 \n",
      " batch_normalization_19 (Bat  (None, 20, 120, 120, 16)  64       \n",
      " chNormalization)                                                \n",
      "                                                                 \n",
      " activation_19 (Activation)  (None, 20, 120, 120, 16)  0         \n",
      "                                                                 \n",
      " max_pooling3d_19 (MaxPoolin  (None, 10, 60, 60, 16)   0         \n",
      " g3D)                                                            \n",
      "                                                                 \n",
      " conv3d_20 (Conv3D)          (None, 10, 60, 60, 32)    13856     \n",
      "                                                                 \n",
      " batch_normalization_20 (Bat  (None, 10, 60, 60, 32)   128       \n",
      " chNormalization)                                                \n",
      "                                                                 \n",
      " activation_20 (Activation)  (None, 10, 60, 60, 32)    0         \n",
      "                                                                 \n",
      " max_pooling3d_20 (MaxPoolin  (None, 5, 30, 30, 32)    0         \n",
      " g3D)                                                            \n",
      "                                                                 \n",
      " conv3d_21 (Conv3D)          (None, 5, 30, 30, 64)     55360     \n",
      "                                                                 \n",
      " batch_normalization_21 (Bat  (None, 5, 30, 30, 64)    256       \n",
      " chNormalization)                                                \n",
      "                                                                 \n",
      " activation_21 (Activation)  (None, 5, 30, 30, 64)     0         \n",
      "                                                                 \n",
      " max_pooling3d_21 (MaxPoolin  (None, 2, 15, 15, 64)    0         \n",
      " g3D)                                                            \n",
      "                                                                 \n",
      " conv3d_22 (Conv3D)          (None, 2, 15, 15, 128)    221312    \n",
      "                                                                 \n",
      " batch_normalization_22 (Bat  (None, 2, 15, 15, 128)   512       \n",
      " chNormalization)                                                \n",
      "                                                                 \n",
      " activation_22 (Activation)  (None, 2, 15, 15, 128)    0         \n",
      "                                                                 \n",
      " max_pooling3d_22 (MaxPoolin  (None, 1, 7, 7, 128)     0         \n",
      " g3D)                                                            \n",
      "                                                                 \n",
      " flatten_5 (Flatten)         (None, 6272)              0         \n",
      "                                                                 \n",
      " dense_17 (Dense)            (None, 128)               802944    \n",
      "                                                                 \n",
      " dropout_7 (Dropout)         (None, 128)               0         \n",
      "                                                                 \n",
      " dense_18 (Dense)            (None, 256)               33024     \n",
      "                                                                 \n",
      " dropout_8 (Dropout)         (None, 256)               0         \n",
      "                                                                 \n",
      " dense_19 (Dense)            (None, 512)               131584    \n",
      "                                                                 \n",
      " dropout_9 (Dropout)         (None, 512)               0         \n",
      "                                                                 \n",
      " dense_20 (Dense)            (None, 5)                 2565      \n",
      "                                                                 \n",
      "=================================================================\n",
      "Total params: 1,262,917\n",
      "Trainable params: 1,262,437\n",
      "Non-trainable params: 480\n",
      "_________________________________________________________________\n",
      "None\n"
     ]
    }
   ],
   "source": [
    "optimiser = optimizers.SGD(lr=0.01, momentum=0.9, nesterov=True)\n",
    "model_6.compile(optimizer=optimiser, loss='categorical_crossentropy', metrics=['categorical_accuracy'])\n",
    "print (model_6.summary())"
   ]
  },
  {
   "cell_type": "markdown",
   "metadata": {},
   "source": [
    "Let us create the `train_generator` and the `val_generator` which will be used in `.fit_generator`."
   ]
  },
  {
   "cell_type": "code",
   "execution_count": 59,
   "metadata": {},
   "outputs": [],
   "source": [
    "train_generator = generator(train_path, train_doc, batch_size)\n",
    "val_generator = generator(val_path, val_doc, batch_size)"
   ]
  },
  {
   "cell_type": "code",
   "execution_count": 60,
   "metadata": {},
   "outputs": [
    {
     "name": "stdout",
     "output_type": "stream",
     "text": [
      "WARNING:tensorflow:`period` argument is deprecated. Please use `save_freq` to specify the frequency in number of batches seen.\n"
     ]
    }
   ],
   "source": [
    "model_name = 'model_init' + '_' + str(curr_dt_time).replace(' ','').replace(':','_') + '/'\n",
    "    \n",
    "if not os.path.exists(model_name):\n",
    "    os.mkdir(model_name)\n",
    "        \n",
    "filepath = model_name + 'model-{epoch:05d}-{loss:.5f}-{categorical_accuracy:.5f}-{val_loss:.5f}-{val_categorical_accuracy:.5f}.h5'\n",
    "\n",
    "checkpoint = ModelCheckpoint(filepath, monitor='val_loss', verbose=1, save_best_only=False, save_weights_only=False, mode='auto',period =1)\n",
    "\n",
    "LR = ReduceLROnPlateau(monitor='val_loss', factor=0.5, patience=2, cooldown=1, verbose=1) # write the REducelronplateau code here\n",
    "callbacks_list = [checkpoint, LR]"
   ]
  },
  {
   "cell_type": "markdown",
   "metadata": {},
   "source": [
    "The `steps_per_epoch` and `validation_steps` are used by `fit` method to decide the number of next() calls it need to make."
   ]
  },
  {
   "cell_type": "code",
   "execution_count": 61,
   "metadata": {},
   "outputs": [],
   "source": [
    "if (num_train_sequences%batch_size) == 0:\n",
    "    steps_per_epoch = int(num_train_sequences/batch_size)\n",
    "else:\n",
    "    steps_per_epoch = (num_train_sequences//batch_size) + 1\n",
    "\n",
    "if (num_val_sequences%batch_size) == 0:\n",
    "    validation_steps = int(num_val_sequences/batch_size)\n",
    "else:\n",
    "    validation_steps = (num_val_sequences//batch_size) + 1"
   ]
  },
  {
   "cell_type": "markdown",
   "metadata": {},
   "source": [
    "Let us now fit the model. This will start training the model and with the help of the checkpoints, you'll be able to save the model at the end of each epoch."
   ]
  },
  {
   "cell_type": "code",
   "execution_count": 62,
   "metadata": {},
   "outputs": [
    {
     "name": "stdout",
     "output_type": "stream",
     "text": [
      "Source path =  /home/datasets/Project_data/train ; batch size = 32\n",
      "Epoch 1/25\n",
      "19/21 [==========================>...] - ETA: 8s - loss: 1.7730 - categorical_accuracy: 0.2303 Batch:  21 Index: 32\n",
      "21/21 [==============================] - ETA: 0s - loss: 1.7412 - categorical_accuracy: 0.2383Source path =  /home/datasets/Project_data/val ; batch size = 32\n",
      "Batch:  4 Index: 32\n",
      "\n",
      "Epoch 00001: saving model to model_init_2023-02-1514_35_06.057692/model-00001-1.74116-0.23831-1.73810-0.22000.h5\n",
      "21/21 [==============================] - 103s 5s/step - loss: 1.7412 - categorical_accuracy: 0.2383 - val_loss: 1.7381 - val_categorical_accuracy: 0.2200 - lr: 0.0100\n",
      "Epoch 2/25\n",
      "21/21 [==============================] - ETA: 0s - loss: 1.3570 - categorical_accuracy: 0.4224\n",
      "Epoch 00002: saving model to model_init_2023-02-1514_35_06.057692/model-00002-1.35698-0.42236-1.40378-0.31250.h5\n",
      "21/21 [==============================] - 67s 3s/step - loss: 1.3570 - categorical_accuracy: 0.4224 - val_loss: 1.4038 - val_categorical_accuracy: 0.3125 - lr: 0.0100\n",
      "Epoch 3/25\n",
      " 6/21 [=======>......................] - ETA: 48s - loss: 1.3625 - categorical_accuracy: 0.3913Batch:  29 Index: 23\n",
      "21/21 [==============================] - ETA: 0s - loss: 1.3525 - categorical_accuracy: 0.4122\n",
      "Epoch 00003: saving model to model_init_2023-02-1514_35_06.057692/model-00003-1.35247-0.41218-1.60944-0.12500.h5\n",
      "21/21 [==============================] - 59s 3s/step - loss: 1.3525 - categorical_accuracy: 0.4122 - val_loss: 1.6094 - val_categorical_accuracy: 0.1250 - lr: 0.0100\n",
      "Epoch 4/25\n",
      "20/21 [===========================>..] - ETA: 2s - loss: 1.2673 - categorical_accuracy: 0.4553Batch:  35 Index: 19\n",
      "21/21 [==============================] - ETA: 0s - loss: 1.2614 - categorical_accuracy: 0.4612\n",
      "Epoch 00004: saving model to model_init_2023-02-1514_35_06.057692/model-00004-1.26140-0.46115-1.44228-0.31250.h5\n",
      "\n",
      "Epoch 00004: ReduceLROnPlateau reducing learning rate to 0.004999999888241291.\n",
      "21/21 [==============================] - 58s 3s/step - loss: 1.2614 - categorical_accuracy: 0.4612 - val_loss: 1.4423 - val_categorical_accuracy: 0.3125 - lr: 0.0100\n",
      "Epoch 5/25\n",
      "21/21 [==============================] - ETA: 0s - loss: 1.2020 - categorical_accuracy: 0.5042\n",
      "Epoch 00005: saving model to model_init_2023-02-1514_35_06.057692/model-00005-1.20195-0.50420-1.62051-0.25000.h5\n",
      "21/21 [==============================] - 52s 3s/step - loss: 1.2020 - categorical_accuracy: 0.5042 - val_loss: 1.6205 - val_categorical_accuracy: 0.2500 - lr: 0.0050\n",
      "Epoch 6/25\n",
      "21/21 [==============================] - ETA: 0s - loss: 1.1876 - categorical_accuracy: 0.5210\n",
      "Epoch 00006: saving model to model_init_2023-02-1514_35_06.057692/model-00006-1.18763-0.52101-2.75940-0.12500.h5\n",
      "\n",
      "Epoch 00006: ReduceLROnPlateau reducing learning rate to 0.0024999999441206455.\n",
      "21/21 [==============================] - 51s 3s/step - loss: 1.1876 - categorical_accuracy: 0.5210 - val_loss: 2.7594 - val_categorical_accuracy: 0.1250 - lr: 0.0050\n",
      "Epoch 7/25\n",
      "21/21 [==============================] - ETA: 0s - loss: 1.0452 - categorical_accuracy: 0.5602\n",
      "Epoch 00007: saving model to model_init_2023-02-1514_35_06.057692/model-00007-1.04518-0.56022-2.48834-0.25000.h5\n",
      "21/21 [==============================] - 51s 3s/step - loss: 1.0452 - categorical_accuracy: 0.5602 - val_loss: 2.4883 - val_categorical_accuracy: 0.2500 - lr: 0.0025\n",
      "Epoch 8/25\n",
      "21/21 [==============================] - ETA: 0s - loss: 1.1561 - categorical_accuracy: 0.5294\n",
      "Epoch 00008: saving model to model_init_2023-02-1514_35_06.057692/model-00008-1.15606-0.52941-3.04929-0.25000.h5\n",
      "\n",
      "Epoch 00008: ReduceLROnPlateau reducing learning rate to 0.0012499999720603228.\n",
      "21/21 [==============================] - 50s 3s/step - loss: 1.1561 - categorical_accuracy: 0.5294 - val_loss: 3.0493 - val_categorical_accuracy: 0.2500 - lr: 0.0025\n",
      "Epoch 9/25\n",
      "21/21 [==============================] - ETA: 0s - loss: 1.0353 - categorical_accuracy: 0.5602\n",
      "Epoch 00009: saving model to model_init_2023-02-1514_35_06.057692/model-00009-1.03532-0.56022-3.69092-0.25000.h5\n",
      "21/21 [==============================] - 50s 2s/step - loss: 1.0353 - categorical_accuracy: 0.5602 - val_loss: 3.6909 - val_categorical_accuracy: 0.2500 - lr: 0.0012\n",
      "Epoch 10/25\n",
      "21/21 [==============================] - ETA: 0s - loss: 0.9875 - categorical_accuracy: 0.5798\n",
      "Epoch 00010: saving model to model_init_2023-02-1514_35_06.057692/model-00010-0.98752-0.57983-3.26421-0.37500.h5\n",
      "\n",
      "Epoch 00010: ReduceLROnPlateau reducing learning rate to 0.0006249999860301614.\n",
      "21/21 [==============================] - 52s 3s/step - loss: 0.9875 - categorical_accuracy: 0.5798 - val_loss: 3.2642 - val_categorical_accuracy: 0.3750 - lr: 0.0012\n",
      "Epoch 11/25\n",
      "21/21 [==============================] - ETA: 0s - loss: 1.0211 - categorical_accuracy: 0.5602\n",
      "Epoch 00011: saving model to model_init_2023-02-1514_35_06.057692/model-00011-1.02107-0.56022-3.77341-0.18750.h5\n",
      "21/21 [==============================] - 49s 2s/step - loss: 1.0211 - categorical_accuracy: 0.5602 - val_loss: 3.7734 - val_categorical_accuracy: 0.1875 - lr: 6.2500e-04\n",
      "Epoch 12/25\n",
      "21/21 [==============================] - ETA: 0s - loss: 0.8894 - categorical_accuracy: 0.6415\n",
      "Epoch 00012: saving model to model_init_2023-02-1514_35_06.057692/model-00012-0.88944-0.64146-1.86080-0.50000.h5\n",
      "\n",
      "Epoch 00012: ReduceLROnPlateau reducing learning rate to 0.0003124999930150807.\n",
      "21/21 [==============================] - 50s 3s/step - loss: 0.8894 - categorical_accuracy: 0.6415 - val_loss: 1.8608 - val_categorical_accuracy: 0.5000 - lr: 6.2500e-04\n",
      "Epoch 13/25\n",
      "21/21 [==============================] - ETA: 0s - loss: 0.9795 - categorical_accuracy: 0.5882\n",
      "Epoch 00013: saving model to model_init_2023-02-1514_35_06.057692/model-00013-0.97946-0.58824-3.50057-0.18750.h5\n",
      "21/21 [==============================] - 50s 3s/step - loss: 0.9795 - categorical_accuracy: 0.5882 - val_loss: 3.5006 - val_categorical_accuracy: 0.1875 - lr: 3.1250e-04\n",
      "Epoch 14/25\n",
      "21/21 [==============================] - ETA: 0s - loss: 0.8865 - categorical_accuracy: 0.6555\n",
      "Epoch 00014: saving model to model_init_2023-02-1514_35_06.057692/model-00014-0.88648-0.65546-2.99199-0.12500.h5\n",
      "\n",
      "Epoch 00014: ReduceLROnPlateau reducing learning rate to 0.00015624999650754035.\n",
      "21/21 [==============================] - 53s 3s/step - loss: 0.8865 - categorical_accuracy: 0.6555 - val_loss: 2.9920 - val_categorical_accuracy: 0.1250 - lr: 3.1250e-04\n",
      "Epoch 15/25\n",
      "21/21 [==============================] - ETA: 0s - loss: 0.8690 - categorical_accuracy: 0.6275\n",
      "Epoch 00015: saving model to model_init_2023-02-1514_35_06.057692/model-00015-0.86900-0.62745-2.79777-0.18750.h5\n",
      "21/21 [==============================] - 50s 2s/step - loss: 0.8690 - categorical_accuracy: 0.6275 - val_loss: 2.7978 - val_categorical_accuracy: 0.1875 - lr: 1.5625e-04\n",
      "Epoch 16/25\n",
      "21/21 [==============================] - ETA: 0s - loss: 1.0173 - categorical_accuracy: 0.5686\n",
      "Epoch 00016: saving model to model_init_2023-02-1514_35_06.057692/model-00016-1.01729-0.56863-1.66206-0.43750.h5\n",
      "\n",
      "Epoch 00016: ReduceLROnPlateau reducing learning rate to 7.812499825377017e-05.\n",
      "21/21 [==============================] - 50s 3s/step - loss: 1.0173 - categorical_accuracy: 0.5686 - val_loss: 1.6621 - val_categorical_accuracy: 0.4375 - lr: 1.5625e-04\n",
      "Epoch 17/25\n",
      "21/21 [==============================] - ETA: 0s - loss: 0.8780 - categorical_accuracy: 0.6443\n",
      "Epoch 00017: saving model to model_init_2023-02-1514_35_06.057692/model-00017-0.87799-0.64426-1.19327-0.62500.h5\n",
      "21/21 [==============================] - 51s 3s/step - loss: 0.8780 - categorical_accuracy: 0.6443 - val_loss: 1.1933 - val_categorical_accuracy: 0.6250 - lr: 7.8125e-05\n",
      "Epoch 18/25\n",
      "21/21 [==============================] - ETA: 0s - loss: 0.9166 - categorical_accuracy: 0.6022\n",
      "Epoch 00018: saving model to model_init_2023-02-1514_35_06.057692/model-00018-0.91659-0.60224-1.52445-0.43750.h5\n",
      "21/21 [==============================] - 49s 2s/step - loss: 0.9166 - categorical_accuracy: 0.6022 - val_loss: 1.5244 - val_categorical_accuracy: 0.4375 - lr: 7.8125e-05\n",
      "Epoch 19/25\n",
      "21/21 [==============================] - ETA: 0s - loss: 0.8793 - categorical_accuracy: 0.6303\n",
      "Epoch 00019: saving model to model_init_2023-02-1514_35_06.057692/model-00019-0.87932-0.63025-1.16140-0.43750.h5\n",
      "21/21 [==============================] - 53s 3s/step - loss: 0.8793 - categorical_accuracy: 0.6303 - val_loss: 1.1614 - val_categorical_accuracy: 0.4375 - lr: 7.8125e-05\n",
      "Epoch 20/25\n",
      "21/21 [==============================] - ETA: 0s - loss: 0.8790 - categorical_accuracy: 0.6387\n",
      "Epoch 00020: saving model to model_init_2023-02-1514_35_06.057692/model-00020-0.87902-0.63866-1.28689-0.43750.h5\n",
      "21/21 [==============================] - 52s 3s/step - loss: 0.8790 - categorical_accuracy: 0.6387 - val_loss: 1.2869 - val_categorical_accuracy: 0.4375 - lr: 7.8125e-05\n",
      "Epoch 21/25\n",
      "21/21 [==============================] - ETA: 0s - loss: 0.9733 - categorical_accuracy: 0.5770\n",
      "Epoch 00021: saving model to model_init_2023-02-1514_35_06.057692/model-00021-0.97329-0.57703-1.62507-0.43750.h5\n",
      "\n",
      "Epoch 00021: ReduceLROnPlateau reducing learning rate to 3.9062499126885086e-05.\n",
      "21/21 [==============================] - 52s 3s/step - loss: 0.9733 - categorical_accuracy: 0.5770 - val_loss: 1.6251 - val_categorical_accuracy: 0.4375 - lr: 7.8125e-05\n",
      "Epoch 22/25\n",
      "21/21 [==============================] - ETA: 0s - loss: 0.8963 - categorical_accuracy: 0.6275\n",
      "Epoch 00022: saving model to model_init_2023-02-1514_35_06.057692/model-00022-0.89632-0.62745-1.34762-0.37500.h5\n",
      "21/21 [==============================] - 51s 3s/step - loss: 0.8963 - categorical_accuracy: 0.6275 - val_loss: 1.3476 - val_categorical_accuracy: 0.3750 - lr: 3.9062e-05\n",
      "Epoch 23/25\n",
      "21/21 [==============================] - ETA: 0s - loss: 0.8904 - categorical_accuracy: 0.6218\n",
      "Epoch 00023: saving model to model_init_2023-02-1514_35_06.057692/model-00023-0.89042-0.62185-1.18304-0.50000.h5\n",
      "\n",
      "Epoch 00023: ReduceLROnPlateau reducing learning rate to 1.9531249563442543e-05.\n",
      "21/21 [==============================] - 51s 3s/step - loss: 0.8904 - categorical_accuracy: 0.6218 - val_loss: 1.1830 - val_categorical_accuracy: 0.5000 - lr: 3.9062e-05\n",
      "Epoch 24/25\n",
      "21/21 [==============================] - ETA: 0s - loss: 0.9051 - categorical_accuracy: 0.6275\n",
      "Epoch 00024: saving model to model_init_2023-02-1514_35_06.057692/model-00024-0.90512-0.62745-1.22020-0.56250.h5\n",
      "21/21 [==============================] - 51s 3s/step - loss: 0.9051 - categorical_accuracy: 0.6275 - val_loss: 1.2202 - val_categorical_accuracy: 0.5625 - lr: 1.9531e-05\n",
      "Epoch 25/25\n",
      "21/21 [==============================] - ETA: 0s - loss: 0.9194 - categorical_accuracy: 0.6190\n",
      "Epoch 00025: saving model to model_init_2023-02-1514_35_06.057692/model-00025-0.91939-0.61905-0.58636-0.87500.h5\n",
      "21/21 [==============================] - 50s 2s/step - loss: 0.9194 - categorical_accuracy: 0.6190 - val_loss: 0.5864 - val_categorical_accuracy: 0.8750 - lr: 1.9531e-05\n"
     ]
    }
   ],
   "source": [
    "history = model_6.fit(train_generator, steps_per_epoch=steps_per_epoch, epochs=num_epochs, verbose=1, \n",
    "                    callbacks=callbacks_list, validation_data=val_generator, \n",
    "                    validation_steps=validation_steps, class_weight=None, workers=1, initial_epoch=0)"
   ]
  },
  {
   "cell_type": "code",
   "execution_count": 63,
   "metadata": {},
   "outputs": [
    {
     "data": {
      "image/png": "[encoded data removed]",
      "text/plain": [
       "<Figure size 432x288 with 1 Axes>"
      ]
     },
     "metadata": {
      "needs_background": "light"
     },
     "output_type": "display_data"
    },
    {
     "data": {
      "image/png": "[encoded data removed]",
      "text/plain": [
       "<Figure size 432x288 with 1 Axes>"
      ]
     },
     "metadata": {
      "needs_background": "light"
     },
     "output_type": "display_data"
    }
   ],
   "source": [
    "# Plotting graph for train and val accuracy and loss\n",
    "plt.plot(history.history['categorical_accuracy'])\n",
    "plt.plot(history.history['val_categorical_accuracy'])\n",
    "plt.title('model 6 accuracy')\n",
    "plt.ylabel('accuracy')\n",
    "plt.xlabel('epoch')\n",
    "plt.legend(['train', 'val'], loc='upper left')\n",
    "plt.show()\n",
    "\n",
    "# summarize history for loss\n",
    "plt.plot(history.history['loss'])\n",
    "plt.plot(history.history['val_loss'])\n",
    "plt.title('model 6 loss')\n",
    "plt.ylabel('loss')\n",
    "plt.xlabel('epoch')\n",
    "plt.legend(['train', 'val'], loc='upper left')\n",
    "plt.show()"
   ]
  },
  {
   "cell_type": "markdown",
   "metadata": {},
   "source": [
    "# Experiment No 7"
   ]
  },
  {
   "cell_type": "code",
   "execution_count": 64,
   "metadata": {},
   "outputs": [],
   "source": [
    "train_doc = np.random.permutation(open('/home/datasets/Project_data/train.csv').readlines())\n",
    "val_doc = np.random.permutation(open('/home/datasets/Project_data/val.csv').readlines())\n",
    "batch_size = 8"
   ]
  },
  {
   "cell_type": "markdown",
   "metadata": {},
   "source": [
    "**data path: /home/datasets/Project_data**"
   ]
  },
  {
   "cell_type": "code",
   "execution_count": 65,
   "metadata": {},
   "outputs": [],
   "source": [
    "x = 20 # number of frames\n",
    "y = 120 # image width\n",
    "z = 120 # image height\n",
    "\n",
    "def generator(source_path, folder_list, batch_size):\n",
    "    print( 'Source path = ', source_path, '; batch size =', batch_size)\n",
    "    img_idx = [5,6,7,8,9,10,11,12,13,14,15,16,17,18,19,20,21,22,23,24] # using all images in folder\n",
    "    while True:\n",
    "        t = np.random.permutation(folder_list)\n",
    "        num_batches = len(folder_list)//batch_size # calculate the number of batches\n",
    "        for batch in range(num_batches): # we iterate over the number of batches\n",
    "            batch_data = np.zeros((batch_size,x,y,z,3)) # x is the number of images you use for each video, (y,z) is the final size of the input images and 3 is the number of channels RGB\n",
    "            batch_labels = np.zeros((batch_size,5)) # batch_labels is the one hot representation of the output\n",
    "            for folder in range(batch_size): # iterate over the batch_size\n",
    "                imgs = os.listdir(source_path+'/'+ t[folder + (batch*batch_size)].split(';')[0]) # read all the images in the folder\n",
    "                for idx,item in enumerate(img_idx): #  Iterate iver the frames/images of a folder to read them in\n",
    "                    image = imread(source_path+'/'+ t[folder + (batch*batch_size)].strip().split(';')[0]+'/'+imgs[item]).astype(np.float32)\n",
    "                    \n",
    "                    #crop the images and resize them. Note that the images are of 2 different shape \n",
    "                    #and the conv3D will throw error if the inputs in a batch have different shapes\n",
    "                    \n",
    "                    temp = resize(image, (y, z))\n",
    "                    temp = temp/255 #Normalize data\n",
    "                    \n",
    "                    batch_data[folder,idx,:,:,0] = (temp[:,:,0]) #normalise and feed in the image\n",
    "                    batch_data[folder,idx,:,:,1] = (temp[:,:,1]) #normalise and feed in the image\n",
    "                    batch_data[folder,idx,:,:,2] = (temp[:,:,2]) #normalise and feed in the image\n",
    "                    \n",
    "                batch_labels[folder, int(t[folder + (batch*batch_size)].strip().split(';')[2])] = 1\n",
    "            yield batch_data, batch_labels #you yield the batch_data and the batch_labels, remember what does yield do\n",
    "\n",
    "        \n",
    "        # write the code for the remaining data points which are left after full batches\n",
    "        if (len(folder_list) != batch_size*num_batches):\n",
    "            print(\"Batch: \",num_batches+1,\"Index:\", batch_size)\n",
    "            batch_size = len(folder_list) - (batch_size*num_batches)\n",
    "            batch_data = np.zeros((batch_size,x,y,z,3)) # x is the number of images you use for each video, (y,z) is the final size of the input images and 3 is the number of channels RGB\n",
    "            batch_labels = np.zeros((batch_size,5)) # batch_labels is the one hot representation of the output\n",
    "            for folder in range(batch_size): # iterate over the batch_size\n",
    "                imgs = os.listdir(source_path+'/'+ t[folder + (batch*batch_size)].split(';')[0]) # read all the images in the folder\n",
    "                for idx,item in enumerate(img_idx): #  Iterate iver the frames/images of a folder to read them in\n",
    "                    image = imread(source_path+'/'+ t[folder + (batch*batch_size)].strip().split(';')[0]+'/'+imgs[item]).astype(np.float32)\n",
    "                    \n",
    "                    #crop the images and resize them. Note that the images are of 2 different shape \n",
    "                    #and the conv3D will throw error if the inputs in a batch have different shapes\n",
    "                    temp = resize(image, (y, z))\n",
    "                    temp = temp/255 #Normalize data\n",
    "                    \n",
    "                    batch_data[folder,idx,:,:,0] = (temp[:,:,0])\n",
    "                    batch_data[folder,idx,:,:,1] = (temp[:,:,1])\n",
    "                    batch_data[folder,idx,:,:,2] = (temp[:,:,2])\n",
    "                   \n",
    "                batch_labels[folder, int(t[folder + (batch*batch_size)].strip().split(';')[2])] = 1\n",
    "            yield batch_data, batch_labels"
   ]
  },
  {
   "cell_type": "markdown",
   "metadata": {},
   "source": [
    "Note here that a video is represented above in the generator as (number of images, height, width, number of channels). Take this into consideration while creating the model architecture."
   ]
  },
  {
   "cell_type": "code",
   "execution_count": 66,
   "metadata": {},
   "outputs": [
    {
     "name": "stdout",
     "output_type": "stream",
     "text": [
      "# training sequences = 663\n",
      "# validation sequences = 100\n",
      "# epochs = 25\n"
     ]
    }
   ],
   "source": [
    "curr_dt_time = datetime.datetime.now()\n",
    "train_path = '/home/datasets/Project_data/train'\n",
    "val_path = '/home/datasets/Project_data/val'\n",
    "num_train_sequences = len(train_doc)\n",
    "print('# training sequences =', num_train_sequences)\n",
    "num_val_sequences = len(val_doc)\n",
    "print('# validation sequences =', num_val_sequences)\n",
    "num_epochs = 25\n",
    "print ('# epochs =', num_epochs)"
   ]
  },
  {
   "cell_type": "markdown",
   "metadata": {},
   "source": [
    "## Model\n",
    "Here you make the model using different functionalities that Keras provides. Remember to use `Conv3D` and `MaxPooling3D` and not `Conv2D` and `Maxpooling2D` for a 3D convolution model. You would want to use `TimeDistributed` while building a Conv2D + RNN model. Also remember that the last layer is the softmax. Design the network in such a way that the model is able to give good accuracy on the least number of parameters so that it can fit in the memory of the webcam."
   ]
  },
  {
   "cell_type": "code",
   "execution_count": 67,
   "metadata": {},
   "outputs": [],
   "source": [
    "from tensorflow.keras.models import Sequential\n",
    "from tensorflow.keras.layers import Dense, GRU, Dropout, Flatten, BatchNormalization, Activation, Conv3D, MaxPooling3D, TimeDistributed, Conv2D, MaxPooling2D\n",
    "from tensorflow.keras.callbacks import ModelCheckpoint, ReduceLROnPlateau\n",
    "from tensorflow.keras import optimizers\n",
    "\n",
    "model_7 = Sequential()\n",
    "\n",
    "model_7.add(TimeDistributed(Conv2D(16, (3,3), activation='relu', input_shape=(None, 120, 120, 3))))\n",
    "model_7.add(TimeDistributed(MaxPooling2D(pool_size=(2, 2))))\n",
    "\n",
    "model_7.add(TimeDistributed(Conv2D(32, (3,3), activation='relu')))\n",
    "model_7.add(TimeDistributed(MaxPooling2D(pool_size=(2, 2))))\n",
    "\n",
    "model_7.add(TimeDistributed(Conv2D(64, (3,3), activation='relu')))\n",
    "model_7.add(TimeDistributed(MaxPooling2D(pool_size=(2, 2))))\n",
    "\n",
    "model_7.add(TimeDistributed(Flatten()))\n",
    "\n",
    "model_7.add(GRU(64, return_sequences=True))\n",
    "\n",
    "model_7.add(GRU(32))\n",
    "\n",
    "model_7.add(Dense(128, activation='relu'))\n",
    "model_7.add(Dropout(0.25))\n",
    "\n",
    "model_7.add(Dense(5, activation='softmax'))"
   ]
  },
  {
   "cell_type": "markdown",
   "metadata": {},
   "source": [
    "Now that you have written the model, the next step is to `compile` the model. When you print the `summary` of the model, you'll see the total number of parameters you have to train."
   ]
  },
  {
   "cell_type": "code",
   "execution_count": 68,
   "metadata": {
    "scrolled": true
   },
   "outputs": [],
   "source": [
    "optimiser = optimizers.Adam()\n",
    "model_7.compile(optimizer=optimiser, loss='categorical_crossentropy', metrics=['categorical_accuracy'])\n",
    "# print (model_7.summary())"
   ]
  },
  {
   "cell_type": "markdown",
   "metadata": {},
   "source": [
    "Let us create the `train_generator` and the `val_generator` which will be used in `.fit_generator`."
   ]
  },
  {
   "cell_type": "code",
   "execution_count": 69,
   "metadata": {},
   "outputs": [],
   "source": [
    "train_generator = generator(train_path, train_doc, batch_size)\n",
    "val_generator = generator(val_path, val_doc, batch_size)"
   ]
  },
  {
   "cell_type": "code",
   "execution_count": 70,
   "metadata": {},
   "outputs": [
    {
     "name": "stdout",
     "output_type": "stream",
     "text": [
      "WARNING:tensorflow:`period` argument is deprecated. Please use `save_freq` to specify the frequency in number of batches seen.\n"
     ]
    }
   ],
   "source": [
    "model_name = 'model_init' + '_' + str(curr_dt_time).replace(' ','').replace(':','_') + '/'\n",
    "    \n",
    "if not os.path.exists(model_name):\n",
    "    os.mkdir(model_name)\n",
    "        \n",
    "filepath = model_name + 'model-{epoch:05d}-{loss:.5f}-{categorical_accuracy:.5f}-{val_loss:.5f}-{val_categorical_accuracy:.5f}.h5'\n",
    "\n",
    "checkpoint = ModelCheckpoint(filepath, monitor='val_loss', verbose=1, save_best_only=False, save_weights_only=False, mode='auto',period =1)\n",
    "\n",
    "LR = ReduceLROnPlateau(monitor='val_loss', factor=0.5, patience=2, cooldown=1, verbose=1) # write the REducelronplateau code here\n",
    "callbacks_list = [checkpoint, LR]"
   ]
  },
  {
   "cell_type": "markdown",
   "metadata": {},
   "source": [
    "The `steps_per_epoch` and `validation_steps` are used by `fit` method to decide the number of next() calls it need to make."
   ]
  },
  {
   "cell_type": "code",
   "execution_count": 71,
   "metadata": {},
   "outputs": [],
   "source": [
    "if (num_train_sequences%batch_size) == 0:\n",
    "    steps_per_epoch = int(num_train_sequences/batch_size)\n",
    "else:\n",
    "    steps_per_epoch = (num_train_sequences//batch_size) + 1\n",
    "\n",
    "if (num_val_sequences%batch_size) == 0:\n",
    "    validation_steps = int(num_val_sequences/batch_size)\n",
    "else:\n",
    "    validation_steps = (num_val_sequences//batch_size) + 1"
   ]
  },
  {
   "cell_type": "markdown",
   "metadata": {},
   "source": [
    "Let us now fit the model. This will start training the model and with the help of the checkpoints, you'll be able to save the model at the end of each epoch."
   ]
  },
  {
   "cell_type": "code",
   "execution_count": 72,
   "metadata": {},
   "outputs": [
    {
     "name": "stdout",
     "output_type": "stream",
     "text": [
      "Source path =  /home/datasets/Project_data/train ; batch size = 8\n",
      "Epoch 1/25\n",
      "81/83 [============================>.] - ETA: 2s - loss: 1.6321 - categorical_accuracy: 0.2176Batch:  83 Index: 8\n",
      "83/83 [==============================] - ETA: 0s - loss: 1.6316 - categorical_accuracy: 0.2157Source path =  /home/datasets/Project_data/val ; batch size = 8\n",
      "Batch:  13 Index: 8\n",
      "\n",
      "Epoch 00001: saving model to model_init_2023-02-1514_57_46.291387/model-00001-1.63158-0.21569-1.63943-0.25000.h5\n",
      "83/83 [==============================] - 110s 1s/step - loss: 1.6316 - categorical_accuracy: 0.2157 - val_loss: 1.6394 - val_categorical_accuracy: 0.2500 - lr: 0.0010\n",
      "Epoch 2/25\n",
      "83/83 [==============================] - ETA: 0s - loss: 1.6377 - categorical_accuracy: 0.2117\n",
      "Epoch 00002: saving model to model_init_2023-02-1514_57_46.291387/model-00002-1.63773-0.21170-1.60194-0.21154.h5\n",
      "83/83 [==============================] - 88s 1s/step - loss: 1.6377 - categorical_accuracy: 0.2117 - val_loss: 1.6019 - val_categorical_accuracy: 0.2115 - lr: 0.0010\n",
      "Epoch 3/25\n",
      "10/83 [==>...........................] - ETA: 1:15 - loss: 1.6422 - categorical_accuracy: 0.2571Batch:  95 Index: 7\n",
      "83/83 [==============================] - ETA: 0s - loss: 1.6268 - categorical_accuracy: 0.2014\n",
      "Epoch 00003: saving model to model_init_2023-02-1514_57_46.291387/model-00003-1.62678-0.20137-1.59388-0.28846.h5\n",
      "83/83 [==============================] - 70s 856ms/step - loss: 1.6268 - categorical_accuracy: 0.2014 - val_loss: 1.5939 - val_categorical_accuracy: 0.2885 - lr: 0.0010\n",
      "Epoch 4/25\n",
      "60/83 [====================>.........] - ETA: 15s - loss: 1.6296 - categorical_accuracy: 0.1867Batch:  133 Index: 5\n",
      "83/83 [==============================] - ETA: 0s - loss: 1.6295 - categorical_accuracy: 0.1887\n",
      "Epoch 00004: saving model to model_init_2023-02-1514_57_46.291387/model-00004-1.62950-0.18868-1.60385-0.21154.h5\n",
      "83/83 [==============================] - 59s 719ms/step - loss: 1.6295 - categorical_accuracy: 0.1887 - val_loss: 1.6039 - val_categorical_accuracy: 0.2115 - lr: 0.0010\n",
      "Epoch 5/25\n",
      "83/83 [==============================] - ETA: 0s - loss: 1.6200 - categorical_accuracy: 0.2530\n",
      "Epoch 00005: saving model to model_init_2023-02-1514_57_46.291387/model-00005-1.61996-0.25301-1.63885-0.19231.h5\n",
      "\n",
      "Epoch 00005: ReduceLROnPlateau reducing learning rate to 0.0005000000237487257.\n",
      "83/83 [==============================] - 43s 529ms/step - loss: 1.6200 - categorical_accuracy: 0.2530 - val_loss: 1.6389 - val_categorical_accuracy: 0.1923 - lr: 0.0010\n",
      "Epoch 6/25\n",
      "83/83 [==============================] - ETA: 0s - loss: 1.6265 - categorical_accuracy: 0.1486\n",
      "Epoch 00006: saving model to model_init_2023-02-1514_57_46.291387/model-00006-1.62650-0.14859-1.60857-0.19231.h5\n",
      "83/83 [==============================] - 42s 514ms/step - loss: 1.6265 - categorical_accuracy: 0.1486 - val_loss: 1.6086 - val_categorical_accuracy: 0.1923 - lr: 5.0000e-04\n",
      "Epoch 7/25\n",
      "83/83 [==============================] - ETA: 0s - loss: 1.6101 - categorical_accuracy: 0.2329\n",
      "Epoch 00007: saving model to model_init_2023-02-1514_57_46.291387/model-00007-1.61006-0.23293-1.60229-0.19231.h5\n",
      "\n",
      "Epoch 00007: ReduceLROnPlateau reducing learning rate to 0.0002500000118743628.\n",
      "83/83 [==============================] - 44s 535ms/step - loss: 1.6101 - categorical_accuracy: 0.2329 - val_loss: 1.6023 - val_categorical_accuracy: 0.1923 - lr: 5.0000e-04\n",
      "Epoch 8/25\n",
      "83/83 [==============================] - ETA: 0s - loss: 1.6124 - categorical_accuracy: 0.2008\n",
      "Epoch 00008: saving model to model_init_2023-02-1514_57_46.291387/model-00008-1.61242-0.20080-1.60070-0.21154.h5\n",
      "83/83 [==============================] - 42s 510ms/step - loss: 1.6124 - categorical_accuracy: 0.2008 - val_loss: 1.6007 - val_categorical_accuracy: 0.2115 - lr: 2.5000e-04\n",
      "Epoch 9/25\n",
      "83/83 [==============================] - ETA: 0s - loss: 1.6227 - categorical_accuracy: 0.1847\n",
      "Epoch 00009: saving model to model_init_2023-02-1514_57_46.291387/model-00009-1.62274-0.18474-1.61431-0.15385.h5\n",
      "\n",
      "Epoch 00009: ReduceLROnPlateau reducing learning rate to 0.0001250000059371814.\n",
      "83/83 [==============================] - 44s 535ms/step - loss: 1.6227 - categorical_accuracy: 0.1847 - val_loss: 1.6143 - val_categorical_accuracy: 0.1538 - lr: 2.5000e-04\n",
      "Epoch 10/25\n",
      "83/83 [==============================] - ETA: 0s - loss: 1.6100 - categorical_accuracy: 0.2209\n",
      "Epoch 00010: saving model to model_init_2023-02-1514_57_46.291387/model-00010-1.61001-0.22088-1.60586-0.19231.h5\n",
      "83/83 [==============================] - 43s 519ms/step - loss: 1.6100 - categorical_accuracy: 0.2209 - val_loss: 1.6059 - val_categorical_accuracy: 0.1923 - lr: 1.2500e-04\n",
      "Epoch 11/25\n",
      "83/83 [==============================] - ETA: 0s - loss: 1.6091 - categorical_accuracy: 0.1767\n",
      "Epoch 00011: saving model to model_init_2023-02-1514_57_46.291387/model-00011-1.60911-0.17671-1.60891-0.28846.h5\n",
      "\n",
      "Epoch 00011: ReduceLROnPlateau reducing learning rate to 6.25000029685907e-05.\n",
      "83/83 [==============================] - 45s 543ms/step - loss: 1.6091 - categorical_accuracy: 0.1767 - val_loss: 1.6089 - val_categorical_accuracy: 0.2885 - lr: 1.2500e-04\n",
      "Epoch 12/25\n",
      "83/83 [==============================] - ETA: 0s - loss: 1.6145 - categorical_accuracy: 0.1888\n",
      "Epoch 00012: saving model to model_init_2023-02-1514_57_46.291387/model-00012-1.61450-0.18876-1.60405-0.23077.h5\n",
      "83/83 [==============================] - 45s 547ms/step - loss: 1.6145 - categorical_accuracy: 0.1888 - val_loss: 1.6040 - val_categorical_accuracy: 0.2308 - lr: 6.2500e-05\n",
      "Epoch 13/25\n",
      "83/83 [==============================] - ETA: 0s - loss: 1.6114 - categorical_accuracy: 0.2209\n",
      "Epoch 00013: saving model to model_init_2023-02-1514_57_46.291387/model-00013-1.61139-0.22088-1.60452-0.17308.h5\n",
      "\n",
      "Epoch 00013: ReduceLROnPlateau reducing learning rate to 3.125000148429535e-05.\n",
      "83/83 [==============================] - 42s 516ms/step - loss: 1.6114 - categorical_accuracy: 0.2209 - val_loss: 1.6045 - val_categorical_accuracy: 0.1731 - lr: 6.2500e-05\n",
      "Epoch 14/25\n",
      "83/83 [==============================] - ETA: 0s - loss: 1.6049 - categorical_accuracy: 0.2289\n",
      "Epoch 00014: saving model to model_init_2023-02-1514_57_46.291387/model-00014-1.60491-0.22892-1.60949-0.19231.h5\n",
      "83/83 [==============================] - 44s 535ms/step - loss: 1.6049 - categorical_accuracy: 0.2289 - val_loss: 1.6095 - val_categorical_accuracy: 0.1923 - lr: 3.1250e-05\n",
      "Epoch 15/25\n",
      "83/83 [==============================] - ETA: 0s - loss: 1.6132 - categorical_accuracy: 0.1968\n",
      "Epoch 00015: saving model to model_init_2023-02-1514_57_46.291387/model-00015-1.61321-0.19679-1.60941-0.19231.h5\n",
      "\n",
      "Epoch 00015: ReduceLROnPlateau reducing learning rate to 1.5625000742147677e-05.\n",
      "83/83 [==============================] - 44s 531ms/step - loss: 1.6132 - categorical_accuracy: 0.1968 - val_loss: 1.6094 - val_categorical_accuracy: 0.1923 - lr: 3.1250e-05\n",
      "Epoch 16/25\n",
      "83/83 [==============================] - ETA: 0s - loss: 1.6114 - categorical_accuracy: 0.1526\n",
      "Epoch 00016: saving model to model_init_2023-02-1514_57_46.291387/model-00016-1.61142-0.15261-1.60330-0.26923.h5\n",
      "83/83 [==============================] - 43s 528ms/step - loss: 1.6114 - categorical_accuracy: 0.1526 - val_loss: 1.6033 - val_categorical_accuracy: 0.2692 - lr: 1.5625e-05\n",
      "Epoch 17/25\n",
      "83/83 [==============================] - ETA: 0s - loss: 1.6091 - categorical_accuracy: 0.1888\n",
      "Epoch 00017: saving model to model_init_2023-02-1514_57_46.291387/model-00017-1.60914-0.18876-1.60592-0.21154.h5\n",
      "\n",
      "Epoch 00017: ReduceLROnPlateau reducing learning rate to 7.812500371073838e-06.\n",
      "83/83 [==============================] - 44s 533ms/step - loss: 1.6091 - categorical_accuracy: 0.1888 - val_loss: 1.6059 - val_categorical_accuracy: 0.2115 - lr: 1.5625e-05\n",
      "Epoch 18/25\n",
      "83/83 [==============================] - ETA: 0s - loss: 1.6068 - categorical_accuracy: 0.2048\n",
      "Epoch 00018: saving model to model_init_2023-02-1514_57_46.291387/model-00018-1.60681-0.20482-1.60877-0.17308.h5\n",
      "83/83 [==============================] - 42s 515ms/step - loss: 1.6068 - categorical_accuracy: 0.2048 - val_loss: 1.6088 - val_categorical_accuracy: 0.1731 - lr: 7.8125e-06\n",
      "Epoch 19/25\n",
      "83/83 [==============================] - ETA: 0s - loss: 1.6162 - categorical_accuracy: 0.1647\n",
      "Epoch 00019: saving model to model_init_2023-02-1514_57_46.291387/model-00019-1.61618-0.16466-1.60114-0.30769.h5\n",
      "\n",
      "Epoch 00019: ReduceLROnPlateau reducing learning rate to 3.906250185536919e-06.\n",
      "83/83 [==============================] - 44s 536ms/step - loss: 1.6162 - categorical_accuracy: 0.1647 - val_loss: 1.6011 - val_categorical_accuracy: 0.3077 - lr: 7.8125e-06\n",
      "Epoch 20/25\n",
      "83/83 [==============================] - ETA: 0s - loss: 1.6023 - categorical_accuracy: 0.2570\n",
      "Epoch 00020: saving model to model_init_2023-02-1514_57_46.291387/model-00020-1.60227-0.25703-1.60344-0.23077.h5\n",
      "83/83 [==============================] - 44s 538ms/step - loss: 1.6023 - categorical_accuracy: 0.2570 - val_loss: 1.6034 - val_categorical_accuracy: 0.2308 - lr: 3.9063e-06\n",
      "Epoch 21/25\n",
      "83/83 [==============================] - ETA: 0s - loss: 1.6110 - categorical_accuracy: 0.2048\n",
      "Epoch 00021: saving model to model_init_2023-02-1514_57_46.291387/model-00021-1.61101-0.20482-1.60502-0.26923.h5\n",
      "\n",
      "Epoch 00021: ReduceLROnPlateau reducing learning rate to 1.9531250927684596e-06.\n",
      "83/83 [==============================] - 42s 511ms/step - loss: 1.6110 - categorical_accuracy: 0.2048 - val_loss: 1.6050 - val_categorical_accuracy: 0.2692 - lr: 3.9063e-06\n",
      "Epoch 22/25\n",
      "83/83 [==============================] - ETA: 0s - loss: 1.6067 - categorical_accuracy: 0.2088\n",
      "Epoch 00022: saving model to model_init_2023-02-1514_57_46.291387/model-00022-1.60673-0.20884-1.61627-0.17308.h5\n",
      "83/83 [==============================] - 44s 537ms/step - loss: 1.6067 - categorical_accuracy: 0.2088 - val_loss: 1.6163 - val_categorical_accuracy: 0.1731 - lr: 1.9531e-06\n",
      "Epoch 23/25\n",
      "83/83 [==============================] - ETA: 0s - loss: 1.6083 - categorical_accuracy: 0.2249\n",
      "Epoch 00023: saving model to model_init_2023-02-1514_57_46.291387/model-00023-1.60830-0.22490-1.59956-0.30769.h5\n",
      "\n",
      "Epoch 00023: ReduceLROnPlateau reducing learning rate to 9.765625463842298e-07.\n",
      "83/83 [==============================] - 44s 542ms/step - loss: 1.6083 - categorical_accuracy: 0.2249 - val_loss: 1.5996 - val_categorical_accuracy: 0.3077 - lr: 1.9531e-06\n",
      "Epoch 24/25\n",
      "83/83 [==============================] - ETA: 0s - loss: 1.6103 - categorical_accuracy: 0.2169\n",
      "Epoch 00024: saving model to model_init_2023-02-1514_57_46.291387/model-00024-1.61034-0.21687-1.60495-0.25000.h5\n",
      "83/83 [==============================] - 41s 500ms/step - loss: 1.6103 - categorical_accuracy: 0.2169 - val_loss: 1.6050 - val_categorical_accuracy: 0.2500 - lr: 9.7656e-07\n",
      "Epoch 25/25\n",
      "83/83 [==============================] - ETA: 0s - loss: 1.6076 - categorical_accuracy: 0.2088\n",
      "Epoch 00025: saving model to model_init_2023-02-1514_57_46.291387/model-00025-1.60763-0.20884-1.60887-0.23077.h5\n",
      "\n",
      "Epoch 00025: ReduceLROnPlateau reducing learning rate to 4.882812731921149e-07.\n",
      "83/83 [==============================] - 45s 549ms/step - loss: 1.6076 - categorical_accuracy: 0.2088 - val_loss: 1.6089 - val_categorical_accuracy: 0.2308 - lr: 9.7656e-07\n"
     ]
    }
   ],
   "source": [
    "history = model_7.fit(train_generator, steps_per_epoch=steps_per_epoch, epochs=num_epochs, verbose=1, \n",
    "                    callbacks=callbacks_list, validation_data=val_generator, \n",
    "                    validation_steps=validation_steps, class_weight=None, workers=1, initial_epoch=0)"
   ]
  },
  {
   "cell_type": "code",
   "execution_count": 73,
   "metadata": {},
   "outputs": [
    {
     "data": {
      "image/png": "[encoded data removed]",
      "text/plain": [
       "<Figure size 432x288 with 1 Axes>"
      ]
     },
     "metadata": {
      "needs_background": "light"
     },
     "output_type": "display_data"
    },
    {
     "data": {
      "image/png": "[encoded data removed]",
      "text/plain": [
       "<Figure size 432x288 with 1 Axes>"
      ]
     },
     "metadata": {
      "needs_background": "light"
     },
     "output_type": "display_data"
    }
   ],
   "source": [
    "# Plotting graph for train and val accuracy and loss\n",
    "plt.plot(history.history['categorical_accuracy'])\n",
    "plt.plot(history.history['val_categorical_accuracy'])\n",
    "plt.title('model 7 accuracy')\n",
    "plt.ylabel('accuracy')\n",
    "plt.xlabel('epoch')\n",
    "plt.legend(['train', 'val'], loc='upper left')\n",
    "plt.show()\n",
    "\n",
    "# summarize history for loss\n",
    "plt.plot(history.history['loss'])\n",
    "plt.plot(history.history['val_loss'])\n",
    "plt.title('model 7 loss')\n",
    "plt.ylabel('loss')\n",
    "plt.xlabel('epoch')\n",
    "plt.legend(['train', 'val'], loc='upper left')\n",
    "plt.show()"
   ]
  },
  {
   "cell_type": "markdown",
   "metadata": {},
   "source": [
    "# Experiment No 8"
   ]
  },
  {
   "cell_type": "code",
   "execution_count": 74,
   "metadata": {},
   "outputs": [],
   "source": [
    "train_doc = np.random.permutation(open('/home/datasets/Project_data/train.csv').readlines())\n",
    "val_doc = np.random.permutation(open('/home/datasets/Project_data/val.csv').readlines())\n",
    "batch_size = 8"
   ]
  },
  {
   "cell_type": "markdown",
   "metadata": {},
   "source": [
    "**data path: /home/datasets/Project_data**"
   ]
  },
  {
   "cell_type": "code",
   "execution_count": 75,
   "metadata": {},
   "outputs": [],
   "source": [
    "x = 15 # number of frames\n",
    "y = 120 # image width\n",
    "z = 120 # image height\n",
    "\n",
    "def generator(source_path, folder_list, batch_size):\n",
    "    print( 'Source path = ', source_path, '; batch size =', batch_size)\n",
    "    img_idx = [5,7,8,9,11,12,14,15,16,18,19,20,21,22,23] # using all images in folder\n",
    "    while True:\n",
    "        t = np.random.permutation(folder_list)\n",
    "        num_batches = len(folder_list)//batch_size # calculate the number of batches\n",
    "        for batch in range(num_batches): # we iterate over the number of batches\n",
    "            batch_data = np.zeros((batch_size,x,y,z,3)) # x is the number of images you use for each video, (y,z) is the final size of the input images and 3 is the number of channels RGB\n",
    "            batch_labels = np.zeros((batch_size,5)) # batch_labels is the one hot representation of the output\n",
    "            for folder in range(batch_size): # iterate over the batch_size\n",
    "                imgs = os.listdir(source_path+'/'+ t[folder + (batch*batch_size)].split(';')[0]) # read all the images in the folder\n",
    "                for idx,item in enumerate(img_idx): #  Iterate iver the frames/images of a folder to read them in\n",
    "                    image = imread(source_path+'/'+ t[folder + (batch*batch_size)].strip().split(';')[0]+'/'+imgs[item]).astype(np.float32)\n",
    "                    \n",
    "                    #crop the images and resize them. Note that the images are of 2 different shape \n",
    "                    #and the conv3D will throw error if the inputs in a batch have different shapes\n",
    "                    \n",
    "                    temp = resize(image, (y, z))\n",
    "                    temp = temp/255 #Normalize data\n",
    "                    \n",
    "                    batch_data[folder,idx,:,:,0] = (temp[:,:,0]) #normalise and feed in the image\n",
    "                    batch_data[folder,idx,:,:,1] = (temp[:,:,1]) #normalise and feed in the image\n",
    "                    batch_data[folder,idx,:,:,2] = (temp[:,:,2]) #normalise and feed in the image\n",
    "                    \n",
    "                batch_labels[folder, int(t[folder + (batch*batch_size)].strip().split(';')[2])] = 1\n",
    "            yield batch_data, batch_labels #you yield the batch_data and the batch_labels, remember what does yield do\n",
    "\n",
    "        \n",
    "        # write the code for the remaining data points which are left after full batches\n",
    "        if (len(folder_list) != batch_size*num_batches):\n",
    "            print(\"Batch: \",num_batches+1,\"Index:\", batch_size)\n",
    "            batch_size = len(folder_list) - (batch_size*num_batches)\n",
    "            batch_data = np.zeros((batch_size,x,y,z,3)) # x is the number of images you use for each video, (y,z) is the final size of the input images and 3 is the number of channels RGB\n",
    "            batch_labels = np.zeros((batch_size,5)) # batch_labels is the one hot representation of the output\n",
    "            for folder in range(batch_size): # iterate over the batch_size\n",
    "                imgs = os.listdir(source_path+'/'+ t[folder + (batch*batch_size)].split(';')[0]) # read all the images in the folder\n",
    "                for idx,item in enumerate(img_idx): #  Iterate iver the frames/images of a folder to read them in\n",
    "                    image = imread(source_path+'/'+ t[folder + (batch*batch_size)].strip().split(';')[0]+'/'+imgs[item]).astype(np.float32)\n",
    "                    \n",
    "                    #crop the images and resize them. Note that the images are of 2 different shape \n",
    "                    #and the conv3D will throw error if the inputs in a batch have different shapes\n",
    "                    temp = resize(image, (y, z))\n",
    "                    temp = temp/255 #Normalize data\n",
    "                    \n",
    "                    batch_data[folder,idx,:,:,0] = (temp[:,:,0])\n",
    "                    batch_data[folder,idx,:,:,1] = (temp[:,:,1])\n",
    "                    batch_data[folder,idx,:,:,2] = (temp[:,:,2])\n",
    "                   \n",
    "                batch_labels[folder, int(t[folder + (batch*batch_size)].strip().split(';')[2])] = 1\n",
    "            yield batch_data, batch_labels"
   ]
  },
  {
   "cell_type": "markdown",
   "metadata": {},
   "source": [
    "Note here that a video is represented above in the generator as (number of images, height, width, number of channels). Take this into consideration while creating the model architecture."
   ]
  },
  {
   "cell_type": "code",
   "execution_count": 76,
   "metadata": {},
   "outputs": [
    {
     "name": "stdout",
     "output_type": "stream",
     "text": [
      "# training sequences = 663\n",
      "# validation sequences = 100\n",
      "# epochs = 30\n"
     ]
    }
   ],
   "source": [
    "curr_dt_time = datetime.datetime.now()\n",
    "train_path = '/home/datasets/Project_data/train'\n",
    "val_path = '/home/datasets/Project_data/val'\n",
    "num_train_sequences = len(train_doc)\n",
    "print('# training sequences =', num_train_sequences)\n",
    "num_val_sequences = len(val_doc)\n",
    "print('# validation sequences =', num_val_sequences)\n",
    "num_epochs = 30\n",
    "print ('# epochs =', num_epochs)"
   ]
  },
  {
   "cell_type": "markdown",
   "metadata": {},
   "source": [
    "## Model\n",
    "Here you make the model using different functionalities that Keras provides. Remember to use `Conv3D` and `MaxPooling3D` and not `Conv2D` and `Maxpooling2D` for a 3D convolution model. You would want to use `TimeDistributed` while building a Conv2D + RNN model. Also remember that the last layer is the softmax. Design the network in such a way that the model is able to give good accuracy on the least number of parameters so that it can fit in the memory of the webcam."
   ]
  },
  {
   "cell_type": "code",
   "execution_count": 77,
   "metadata": {},
   "outputs": [],
   "source": [
    "from tensorflow.keras.models import Sequential\n",
    "from tensorflow.keras.layers import Dense, GRU, Dropout, Flatten, BatchNormalization, Activation, Conv3D, MaxPooling3D, TimeDistributed, Conv2D, MaxPooling2D\n",
    "from tensorflow.keras.callbacks import ModelCheckpoint, ReduceLROnPlateau\n",
    "from tensorflow.keras import optimizers\n",
    "\n",
    "model_8 = Sequential()\n",
    "\n",
    "model_8.add(TimeDistributed(Conv2D(16, (3,3), activation='relu', input_shape=(None, 120, 120, 3))))\n",
    "model_8.add(TimeDistributed(MaxPooling2D(pool_size=(2, 2))))\n",
    "\n",
    "model_8.add(TimeDistributed(Conv2D(32, (3,3), activation='relu')))\n",
    "model_8.add(TimeDistributed(MaxPooling2D(pool_size=(2, 2))))\n",
    "\n",
    "model_8.add(TimeDistributed(Conv2D(64, (3,3), activation='relu')))\n",
    "model_8.add(TimeDistributed(MaxPooling2D(pool_size=(2, 2))))\n",
    "\n",
    "model_8.add(TimeDistributed(Conv2D(128, (3,3), activation='relu')))\n",
    "model_8.add(TimeDistributed(MaxPooling2D(pool_size=(2, 2))))\n",
    "\n",
    "model_8.add(TimeDistributed(Flatten()))\n",
    "\n",
    "model_8.add(GRU(64, return_sequences=True))\n",
    "\n",
    "model_8.add(GRU(32))\n",
    "\n",
    "model_8.add(Dense(128, activation='relu'))\n",
    "model_8.add(Dropout(0.25))\n",
    "\n",
    "model_8.add(Dense(128, activation='relu'))\n",
    "model_8.add(Dropout(0.25))\n",
    "\n",
    "model_8.add(Dense(128, activation='relu'))\n",
    "model_8.add(Dropout(0.25))\n",
    "\n",
    "model_8.add(Dense(5, activation='softmax'))"
   ]
  },
  {
   "cell_type": "markdown",
   "metadata": {},
   "source": [
    "Now that you have written the model, the next step is to `compile` the model. When you print the `summary` of the model, you'll see the total number of parameters you have to train."
   ]
  },
  {
   "cell_type": "code",
   "execution_count": 78,
   "metadata": {
    "scrolled": true
   },
   "outputs": [],
   "source": [
    "optimiser = optimizers.Adam()\n",
    "model_8.compile(optimizer=optimiser, loss='categorical_crossentropy', metrics=['categorical_accuracy'])\n",
    "# print (model_7.summary())"
   ]
  },
  {
   "cell_type": "markdown",
   "metadata": {},
   "source": [
    "Let us create the `train_generator` and the `val_generator` which will be used in `.fit_generator`."
   ]
  },
  {
   "cell_type": "code",
   "execution_count": 79,
   "metadata": {},
   "outputs": [],
   "source": [
    "train_generator = generator(train_path, train_doc, batch_size)\n",
    "val_generator = generator(val_path, val_doc, batch_size)"
   ]
  },
  {
   "cell_type": "code",
   "execution_count": 80,
   "metadata": {},
   "outputs": [
    {
     "name": "stdout",
     "output_type": "stream",
     "text": [
      "WARNING:tensorflow:`period` argument is deprecated. Please use `save_freq` to specify the frequency in number of batches seen.\n"
     ]
    }
   ],
   "source": [
    "model_name = 'model_init' + '_' + str(curr_dt_time).replace(' ','').replace(':','_') + '/'\n",
    "    \n",
    "if not os.path.exists(model_name):\n",
    "    os.mkdir(model_name)\n",
    "        \n",
    "filepath = model_name + 'model-{epoch:05d}-{loss:.5f}-{categorical_accuracy:.5f}-{val_loss:.5f}-{val_categorical_accuracy:.5f}.h5'\n",
    "\n",
    "checkpoint = ModelCheckpoint(filepath, monitor='val_loss', verbose=1, save_best_only=False, save_weights_only=False, mode='auto',period =1)\n",
    "\n",
    "LR = ReduceLROnPlateau(monitor='val_loss', factor=0.5, patience=2, cooldown=1, verbose=1) # write the REducelronplateau code here\n",
    "callbacks_list = [checkpoint, LR]"
   ]
  },
  {
   "cell_type": "markdown",
   "metadata": {},
   "source": [
    "The `steps_per_epoch` and `validation_steps` are used by `fit` method to decide the number of next() calls it need to make."
   ]
  },
  {
   "cell_type": "code",
   "execution_count": 81,
   "metadata": {},
   "outputs": [],
   "source": [
    "if (num_train_sequences%batch_size) == 0:\n",
    "    steps_per_epoch = int(num_train_sequences/batch_size)\n",
    "else:\n",
    "    steps_per_epoch = (num_train_sequences//batch_size) + 1\n",
    "\n",
    "if (num_val_sequences%batch_size) == 0:\n",
    "    validation_steps = int(num_val_sequences/batch_size)\n",
    "else:\n",
    "    validation_steps = (num_val_sequences//batch_size) + 1"
   ]
  },
  {
   "cell_type": "markdown",
   "metadata": {},
   "source": [
    "Let us now fit the model. This will start training the model and with the help of the checkpoints, you'll be able to save the model at the end of each epoch."
   ]
  },
  {
   "cell_type": "code",
   "execution_count": 82,
   "metadata": {},
   "outputs": [
    {
     "name": "stdout",
     "output_type": "stream",
     "text": [
      "Source path =  /home/datasets/Project_data/train ; batch size = 8\n",
      "Epoch 1/30\n",
      "81/83 [============================>.] - ETA: 1s - loss: 1.6133 - categorical_accuracy: 0.1775Batch:  83 Index: 8\n",
      "83/83 [==============================] - ETA: 0s - loss: 1.6132 - categorical_accuracy: 0.1795Source path =  /home/datasets/Project_data/val ; batch size = 8\n",
      "Batch:  13 Index: 8\n",
      "\n",
      "Epoch 00001: saving model to model_init_2023-02-1515_18_26.540336/model-00001-1.61318-0.17949-1.60809-0.24000.h5\n",
      "83/83 [==============================] - 84s 980ms/step - loss: 1.6132 - categorical_accuracy: 0.1795 - val_loss: 1.6081 - val_categorical_accuracy: 0.2400 - lr: 0.0010\n",
      "Epoch 2/30\n",
      "83/83 [==============================] - ETA: 0s - loss: 1.6111 - categorical_accuracy: 0.1962\n",
      "Epoch 00002: saving model to model_init_2023-02-1515_18_26.540336/model-00002-1.61114-0.19621-1.57692-0.21154.h5\n",
      "83/83 [==============================] - 64s 780ms/step - loss: 1.6111 - categorical_accuracy: 0.1962 - val_loss: 1.5769 - val_categorical_accuracy: 0.2115 - lr: 0.0010\n",
      "Epoch 3/30\n",
      "10/83 [==>...........................] - ETA: 1:01 - loss: 1.5849 - categorical_accuracy: 0.2429Batch:  95 Index: 7\n",
      "83/83 [==============================] - ETA: 0s - loss: 1.6090 - categorical_accuracy: 0.2014\n",
      "Epoch 00003: saving model to model_init_2023-02-1515_18_26.540336/model-00003-1.60903-0.20137-1.60518-0.26923.h5\n",
      "83/83 [==============================] - 51s 626ms/step - loss: 1.6090 - categorical_accuracy: 0.2014 - val_loss: 1.6052 - val_categorical_accuracy: 0.2692 - lr: 0.0010\n",
      "Epoch 4/30\n",
      "60/83 [====================>.........] - ETA: 11s - loss: 1.6093 - categorical_accuracy: 0.2133Batch:  133 Index: 5\n",
      "83/83 [==============================] - ETA: 0s - loss: 1.6132 - categorical_accuracy: 0.2183\n",
      "Epoch 00004: saving model to model_init_2023-02-1515_18_26.540336/model-00004-1.61323-0.21833-1.60432-0.28846.h5\n",
      "\n",
      "Epoch 00004: ReduceLROnPlateau reducing learning rate to 0.0005000000237487257.\n",
      "83/83 [==============================] - 45s 545ms/step - loss: 1.6132 - categorical_accuracy: 0.2183 - val_loss: 1.6043 - val_categorical_accuracy: 0.2885 - lr: 0.0010\n",
      "Epoch 5/30\n",
      "83/83 [==============================] - ETA: 0s - loss: 1.6125 - categorical_accuracy: 0.1888\n",
      "Epoch 00005: saving model to model_init_2023-02-1515_18_26.540336/model-00005-1.61251-0.18876-1.60353-0.21154.h5\n",
      "83/83 [==============================] - 32s 396ms/step - loss: 1.6125 - categorical_accuracy: 0.1888 - val_loss: 1.6035 - val_categorical_accuracy: 0.2115 - lr: 5.0000e-04\n",
      "Epoch 6/30\n",
      "83/83 [==============================] - ETA: 0s - loss: 1.6094 - categorical_accuracy: 0.2048\n",
      "Epoch 00006: saving model to model_init_2023-02-1515_18_26.540336/model-00006-1.60938-0.20482-1.60494-0.25000.h5\n",
      "\n",
      "Epoch 00006: ReduceLROnPlateau reducing learning rate to 0.0002500000118743628.\n",
      "83/83 [==============================] - 32s 388ms/step - loss: 1.6094 - categorical_accuracy: 0.2048 - val_loss: 1.6049 - val_categorical_accuracy: 0.2500 - lr: 5.0000e-04\n",
      "Epoch 7/30\n",
      "83/83 [==============================] - ETA: 0s - loss: 1.5690 - categorical_accuracy: 0.2410\n",
      "Epoch 00007: saving model to model_init_2023-02-1515_18_26.540336/model-00007-1.56895-0.24096-1.47075-0.32692.h5\n",
      "83/83 [==============================] - 30s 369ms/step - loss: 1.5690 - categorical_accuracy: 0.2410 - val_loss: 1.4707 - val_categorical_accuracy: 0.3269 - lr: 2.5000e-04\n",
      "Epoch 8/30\n",
      "83/83 [==============================] - ETA: 0s - loss: 1.4944 - categorical_accuracy: 0.2771\n",
      "Epoch 00008: saving model to model_init_2023-02-1515_18_26.540336/model-00008-1.49439-0.27711-1.35153-0.46154.h5\n",
      "83/83 [==============================] - 33s 397ms/step - loss: 1.4944 - categorical_accuracy: 0.2771 - val_loss: 1.3515 - val_categorical_accuracy: 0.4615 - lr: 2.5000e-04\n",
      "Epoch 9/30\n",
      "83/83 [==============================] - ETA: 0s - loss: 1.4062 - categorical_accuracy: 0.4137\n",
      "Epoch 00009: saving model to model_init_2023-02-1515_18_26.540336/model-00009-1.40621-0.41365-1.38269-0.38462.h5\n",
      "83/83 [==============================] - 32s 385ms/step - loss: 1.4062 - categorical_accuracy: 0.4137 - val_loss: 1.3827 - val_categorical_accuracy: 0.3846 - lr: 2.5000e-04\n",
      "Epoch 10/30\n",
      "83/83 [==============================] - ETA: 0s - loss: 1.3687 - categorical_accuracy: 0.3454\n",
      "Epoch 00010: saving model to model_init_2023-02-1515_18_26.540336/model-00010-1.36874-0.34538-1.20474-0.50000.h5\n",
      "83/83 [==============================] - 32s 390ms/step - loss: 1.3687 - categorical_accuracy: 0.3454 - val_loss: 1.2047 - val_categorical_accuracy: 0.5000 - lr: 2.5000e-04\n",
      "Epoch 11/30\n",
      "83/83 [==============================] - ETA: 0s - loss: 1.2960 - categorical_accuracy: 0.3896\n",
      "Epoch 00011: saving model to model_init_2023-02-1515_18_26.540336/model-00011-1.29600-0.38956-1.21704-0.42308.h5\n",
      "83/83 [==============================] - 32s 386ms/step - loss: 1.2960 - categorical_accuracy: 0.3896 - val_loss: 1.2170 - val_categorical_accuracy: 0.4231 - lr: 2.5000e-04\n",
      "Epoch 12/30\n",
      "83/83 [==============================] - ETA: 0s - loss: 1.2353 - categorical_accuracy: 0.4458\n",
      "Epoch 00012: saving model to model_init_2023-02-1515_18_26.540336/model-00012-1.23527-0.44578-1.12887-0.42308.h5\n",
      "83/83 [==============================] - 32s 390ms/step - loss: 1.2353 - categorical_accuracy: 0.4458 - val_loss: 1.1289 - val_categorical_accuracy: 0.4231 - lr: 2.5000e-04\n",
      "Epoch 13/30\n",
      "83/83 [==============================] - ETA: 0s - loss: 1.2866 - categorical_accuracy: 0.3815\n",
      "Epoch 00013: saving model to model_init_2023-02-1515_18_26.540336/model-00013-1.28655-0.38153-1.13479-0.59615.h5\n",
      "83/83 [==============================] - 32s 395ms/step - loss: 1.2866 - categorical_accuracy: 0.3815 - val_loss: 1.1348 - val_categorical_accuracy: 0.5962 - lr: 2.5000e-04\n",
      "Epoch 14/30\n",
      "83/83 [==============================] - ETA: 0s - loss: 1.1849 - categorical_accuracy: 0.4137\n",
      "Epoch 00014: saving model to model_init_2023-02-1515_18_26.540336/model-00014-1.18489-0.41365-1.24217-0.42308.h5\n",
      "\n",
      "Epoch 00014: ReduceLROnPlateau reducing learning rate to 0.0001250000059371814.\n",
      "83/83 [==============================] - 31s 383ms/step - loss: 1.1849 - categorical_accuracy: 0.4137 - val_loss: 1.2422 - val_categorical_accuracy: 0.4231 - lr: 2.5000e-04\n",
      "Epoch 15/30\n",
      "83/83 [==============================] - ETA: 0s - loss: 1.1024 - categorical_accuracy: 0.4699\n",
      "Epoch 00015: saving model to model_init_2023-02-1515_18_26.540336/model-00015-1.10243-0.46988-1.02543-0.48077.h5\n",
      "83/83 [==============================] - 33s 402ms/step - loss: 1.1024 - categorical_accuracy: 0.4699 - val_loss: 1.0254 - val_categorical_accuracy: 0.4808 - lr: 1.2500e-04\n",
      "Epoch 16/30\n",
      "83/83 [==============================] - ETA: 0s - loss: 1.1000 - categorical_accuracy: 0.4739\n",
      "Epoch 00016: saving model to model_init_2023-02-1515_18_26.540336/model-00016-1.10003-0.47390-1.17446-0.42308.h5\n",
      "83/83 [==============================] - 32s 388ms/step - loss: 1.1000 - categorical_accuracy: 0.4739 - val_loss: 1.1745 - val_categorical_accuracy: 0.4231 - lr: 1.2500e-04\n",
      "Epoch 17/30\n",
      "83/83 [==============================] - ETA: 0s - loss: 1.0643 - categorical_accuracy: 0.5181\n",
      "Epoch 00017: saving model to model_init_2023-02-1515_18_26.540336/model-00017-1.06426-0.51807-1.06528-0.53846.h5\n",
      "\n",
      "Epoch 00017: ReduceLROnPlateau reducing learning rate to 6.25000029685907e-05.\n",
      "83/83 [==============================] - 32s 385ms/step - loss: 1.0643 - categorical_accuracy: 0.5181 - val_loss: 1.0653 - val_categorical_accuracy: 0.5385 - lr: 1.2500e-04\n",
      "Epoch 18/30\n",
      "83/83 [==============================] - ETA: 0s - loss: 1.0394 - categorical_accuracy: 0.5462\n",
      "Epoch 00018: saving model to model_init_2023-02-1515_18_26.540336/model-00018-1.03936-0.54618-0.96862-0.55769.h5\n",
      "83/83 [==============================] - 34s 420ms/step - loss: 1.0394 - categorical_accuracy: 0.5462 - val_loss: 0.9686 - val_categorical_accuracy: 0.5577 - lr: 6.2500e-05\n",
      "Epoch 19/30\n",
      "83/83 [==============================] - ETA: 0s - loss: 0.9872 - categorical_accuracy: 0.5261\n",
      "Epoch 00019: saving model to model_init_2023-02-1515_18_26.540336/model-00019-0.98724-0.52610-1.09246-0.46154.h5\n",
      "83/83 [==============================] - 31s 373ms/step - loss: 0.9872 - categorical_accuracy: 0.5261 - val_loss: 1.0925 - val_categorical_accuracy: 0.4615 - lr: 6.2500e-05\n",
      "Epoch 20/30\n",
      "83/83 [==============================] - ETA: 0s - loss: 1.0387 - categorical_accuracy: 0.5100\n",
      "Epoch 00020: saving model to model_init_2023-02-1515_18_26.540336/model-00020-1.03874-0.51004-1.03982-0.55769.h5\n",
      "\n",
      "Epoch 00020: ReduceLROnPlateau reducing learning rate to 3.125000148429535e-05.\n",
      "83/83 [==============================] - 31s 384ms/step - loss: 1.0387 - categorical_accuracy: 0.5100 - val_loss: 1.0398 - val_categorical_accuracy: 0.5577 - lr: 6.2500e-05\n",
      "Epoch 21/30\n",
      "83/83 [==============================] - ETA: 0s - loss: 0.9540 - categorical_accuracy: 0.5422\n",
      "Epoch 00021: saving model to model_init_2023-02-1515_18_26.540336/model-00021-0.95401-0.54217-1.00305-0.55769.h5\n",
      "83/83 [==============================] - 33s 405ms/step - loss: 0.9540 - categorical_accuracy: 0.5422 - val_loss: 1.0031 - val_categorical_accuracy: 0.5577 - lr: 3.1250e-05\n",
      "Epoch 22/30\n",
      "83/83 [==============================] - ETA: 0s - loss: 0.9519 - categorical_accuracy: 0.6104\n",
      "Epoch 00022: saving model to model_init_2023-02-1515_18_26.540336/model-00022-0.95190-0.61044-0.95145-0.59615.h5\n",
      "83/83 [==============================] - 31s 381ms/step - loss: 0.9519 - categorical_accuracy: 0.6104 - val_loss: 0.9514 - val_categorical_accuracy: 0.5962 - lr: 3.1250e-05\n",
      "Epoch 23/30\n",
      "83/83 [==============================] - ETA: 0s - loss: 0.9683 - categorical_accuracy: 0.5663\n",
      "Epoch 00023: saving model to model_init_2023-02-1515_18_26.540336/model-00023-0.96832-0.56627-1.04018-0.48077.h5\n",
      "83/83 [==============================] - 32s 386ms/step - loss: 0.9683 - categorical_accuracy: 0.5663 - val_loss: 1.0402 - val_categorical_accuracy: 0.4808 - lr: 3.1250e-05\n",
      "Epoch 24/30\n",
      "83/83 [==============================] - ETA: 0s - loss: 0.9062 - categorical_accuracy: 0.6145\n",
      "Epoch 00024: saving model to model_init_2023-02-1515_18_26.540336/model-00024-0.90617-0.61446-1.00459-0.53846.h5\n",
      "\n",
      "Epoch 00024: ReduceLROnPlateau reducing learning rate to 1.5625000742147677e-05.\n",
      "83/83 [==============================] - 32s 387ms/step - loss: 0.9062 - categorical_accuracy: 0.6145 - val_loss: 1.0046 - val_categorical_accuracy: 0.5385 - lr: 3.1250e-05\n",
      "Epoch 25/30\n",
      "83/83 [==============================] - ETA: 0s - loss: 0.8910 - categorical_accuracy: 0.6185\n",
      "Epoch 00025: saving model to model_init_2023-02-1515_18_26.540336/model-00025-0.89099-0.61847-0.97272-0.57692.h5\n",
      "83/83 [==============================] - 31s 376ms/step - loss: 0.8910 - categorical_accuracy: 0.6185 - val_loss: 0.9727 - val_categorical_accuracy: 0.5769 - lr: 1.5625e-05\n",
      "Epoch 26/30\n",
      "83/83 [==============================] - ETA: 0s - loss: 0.9326 - categorical_accuracy: 0.5904\n",
      "Epoch 00026: saving model to model_init_2023-02-1515_18_26.540336/model-00026-0.93262-0.59036-1.00044-0.51923.h5\n",
      "\n",
      "Epoch 00026: ReduceLROnPlateau reducing learning rate to 7.812500371073838e-06.\n",
      "83/83 [==============================] - 31s 383ms/step - loss: 0.9326 - categorical_accuracy: 0.5904 - val_loss: 1.0004 - val_categorical_accuracy: 0.5192 - lr: 1.5625e-05\n",
      "Epoch 27/30\n",
      "83/83 [==============================] - ETA: 0s - loss: 0.8846 - categorical_accuracy: 0.5904\n",
      "Epoch 00027: saving model to model_init_2023-02-1515_18_26.540336/model-00027-0.88465-0.59036-0.98945-0.59615.h5\n",
      "83/83 [==============================] - 33s 399ms/step - loss: 0.8846 - categorical_accuracy: 0.5904 - val_loss: 0.9894 - val_categorical_accuracy: 0.5962 - lr: 7.8125e-06\n",
      "Epoch 28/30\n",
      "83/83 [==============================] - ETA: 0s - loss: 0.9317 - categorical_accuracy: 0.6104\n",
      "Epoch 00028: saving model to model_init_2023-02-1515_18_26.540336/model-00028-0.93165-0.61044-0.99688-0.51923.h5\n",
      "\n",
      "Epoch 00028: ReduceLROnPlateau reducing learning rate to 3.906250185536919e-06.\n",
      "83/83 [==============================] - 32s 392ms/step - loss: 0.9317 - categorical_accuracy: 0.6104 - val_loss: 0.9969 - val_categorical_accuracy: 0.5192 - lr: 7.8125e-06\n",
      "Epoch 29/30\n",
      "83/83 [==============================] - ETA: 0s - loss: 0.9038 - categorical_accuracy: 0.5622\n",
      "Epoch 00029: saving model to model_init_2023-02-1515_18_26.540336/model-00029-0.90382-0.56225-1.06418-0.48077.h5\n",
      "83/83 [==============================] - 32s 387ms/step - loss: 0.9038 - categorical_accuracy: 0.5622 - val_loss: 1.0642 - val_categorical_accuracy: 0.4808 - lr: 3.9063e-06\n",
      "Epoch 30/30\n",
      "83/83 [==============================] - ETA: 0s - loss: 0.8861 - categorical_accuracy: 0.6145\n",
      "Epoch 00030: saving model to model_init_2023-02-1515_18_26.540336/model-00030-0.88607-0.61446-0.86778-0.67308.h5\n",
      "83/83 [==============================] - 32s 385ms/step - loss: 0.8861 - categorical_accuracy: 0.6145 - val_loss: 0.8678 - val_categorical_accuracy: 0.6731 - lr: 3.9063e-06\n"
     ]
    }
   ],
   "source": [
    "history = model_8.fit(train_generator, steps_per_epoch=steps_per_epoch, epochs=num_epochs, verbose=1, \n",
    "                    callbacks=callbacks_list, validation_data=val_generator, \n",
    "                    validation_steps=validation_steps, class_weight=None, workers=1, initial_epoch=0)"
   ]
  },
  {
   "cell_type": "code",
   "execution_count": 83,
   "metadata": {},
   "outputs": [
    {
     "data": {
      "image/png": "[encoded data removed]",
      "text/plain": [
       "<Figure size 432x288 with 1 Axes>"
      ]
     },
     "metadata": {
      "needs_background": "light"
     },
     "output_type": "display_data"
    },
    {
     "data": {
      "image/png": "[encoded data removed]",
      "text/plain": [
       "<Figure size 432x288 with 1 Axes>"
      ]
     },
     "metadata": {
      "needs_background": "light"
     },
     "output_type": "display_data"
    }
   ],
   "source": [
    "# Plotting graph for train and val accuracy and loss\n",
    "plt.plot(history.history['categorical_accuracy'])\n",
    "plt.plot(history.history['val_categorical_accuracy'])\n",
    "plt.title('model 8 accuracy')\n",
    "plt.ylabel('accuracy')\n",
    "plt.xlabel('epoch')\n",
    "plt.legend(['train', 'val'], loc='upper left')\n",
    "plt.show()\n",
    "\n",
    "# summarize history for loss\n",
    "plt.plot(history.history['loss'])\n",
    "plt.plot(history.history['val_loss'])\n",
    "plt.title('model 8 loss')\n",
    "plt.ylabel('loss')\n",
    "plt.xlabel('epoch')\n",
    "plt.legend(['train', 'val'], loc='upper left')\n",
    "plt.show()"
   ]
  },
  {
   "cell_type": "markdown",
   "metadata": {},
   "source": [
    "# Experiment No 9"
   ]
  },
  {
   "cell_type": "code",
   "execution_count": 84,
   "metadata": {},
   "outputs": [],
   "source": [
    "train_doc = np.random.permutation(open('/home/datasets/Project_data/train.csv').readlines())\n",
    "val_doc = np.random.permutation(open('/home/datasets/Project_data/val.csv').readlines())\n",
    "batch_size = 8"
   ]
  },
  {
   "cell_type": "markdown",
   "metadata": {},
   "source": [
    "**data path: /home/datasets/Project_data**"
   ]
  },
  {
   "cell_type": "code",
   "execution_count": 85,
   "metadata": {},
   "outputs": [],
   "source": [
    "x = 15 # number of frames\n",
    "y = 120 # image width\n",
    "z = 120 # image height\n",
    "\n",
    "def generator(source_path, folder_list, batch_size):\n",
    "    print( 'Source path = ', source_path, '; batch size =', batch_size)\n",
    "    img_idx = [5,7,8,9,11,12,14,15,16,18,19,20,21,22,23] # using all images in folder\n",
    "    while True:\n",
    "        t = np.random.permutation(folder_list)\n",
    "        num_batches = len(folder_list)//batch_size # calculate the number of batches\n",
    "        for batch in range(num_batches): # we iterate over the number of batches\n",
    "            batch_data = np.zeros((batch_size,x,y,z,3)) # x is the number of images you use for each video, (y,z) is the final size of the input images and 3 is the number of channels RGB\n",
    "            batch_labels = np.zeros((batch_size,5)) # batch_labels is the one hot representation of the output\n",
    "            for folder in range(batch_size): # iterate over the batch_size\n",
    "                imgs = os.listdir(source_path+'/'+ t[folder + (batch*batch_size)].split(';')[0]) # read all the images in the folder\n",
    "                for idx,item in enumerate(img_idx): #  Iterate iver the frames/images of a folder to read them in\n",
    "                    image = imread(source_path+'/'+ t[folder + (batch*batch_size)].strip().split(';')[0]+'/'+imgs[item]).astype(np.float32)\n",
    "                    \n",
    "                    #crop the images and resize them. Note that the images are of 2 different shape \n",
    "                    #and the conv3D will throw error if the inputs in a batch have different shapes\n",
    "                    \n",
    "                    temp = resize(image, (y, z))\n",
    "                    temp = temp/255 #Normalize data\n",
    "                    \n",
    "                    batch_data[folder,idx,:,:,0] = (temp[:,:,0]) #normalise and feed in the image\n",
    "                    batch_data[folder,idx,:,:,1] = (temp[:,:,1]) #normalise and feed in the image\n",
    "                    batch_data[folder,idx,:,:,2] = (temp[:,:,2]) #normalise and feed in the image\n",
    "                    \n",
    "                batch_labels[folder, int(t[folder + (batch*batch_size)].strip().split(';')[2])] = 1\n",
    "            yield batch_data, batch_labels #you yield the batch_data and the batch_labels, remember what does yield do\n",
    "\n",
    "        \n",
    "        # write the code for the remaining data points which are left after full batches\n",
    "        if (len(folder_list) != batch_size*num_batches):\n",
    "            print(\"Batch: \",num_batches+1,\"Index:\", batch_size)\n",
    "            batch_size = len(folder_list) - (batch_size*num_batches)\n",
    "            batch_data = np.zeros((batch_size,x,y,z,3)) # x is the number of images you use for each video, (y,z) is the final size of the input images and 3 is the number of channels RGB\n",
    "            batch_labels = np.zeros((batch_size,5)) # batch_labels is the one hot representation of the output\n",
    "            for folder in range(batch_size): # iterate over the batch_size\n",
    "                imgs = os.listdir(source_path+'/'+ t[folder + (batch*batch_size)].split(';')[0]) # read all the images in the folder\n",
    "                for idx,item in enumerate(img_idx): #  Iterate iver the frames/images of a folder to read them in\n",
    "                    image = imread(source_path+'/'+ t[folder + (batch*batch_size)].strip().split(';')[0]+'/'+imgs[item]).astype(np.float32)\n",
    "                    \n",
    "                    #crop the images and resize them. Note that the images are of 2 different shape \n",
    "                    #and the conv3D will throw error if the inputs in a batch have different shapes\n",
    "                    temp = resize(image, (y, z))\n",
    "                    temp = temp/255 #Normalize data\n",
    "                    \n",
    "                    batch_data[folder,idx,:,:,0] = (temp[:,:,0])\n",
    "                    batch_data[folder,idx,:,:,1] = (temp[:,:,1])\n",
    "                    batch_data[folder,idx,:,:,2] = (temp[:,:,2])\n",
    "                   \n",
    "                batch_labels[folder, int(t[folder + (batch*batch_size)].strip().split(';')[2])] = 1\n",
    "            yield batch_data, batch_labels"
   ]
  },
  {
   "cell_type": "markdown",
   "metadata": {},
   "source": [
    "Note here that a video is represented above in the generator as (number of images, height, width, number of channels). Take this into consideration while creating the model architecture."
   ]
  },
  {
   "cell_type": "code",
   "execution_count": 86,
   "metadata": {},
   "outputs": [
    {
     "name": "stdout",
     "output_type": "stream",
     "text": [
      "# training sequences = 663\n",
      "# validation sequences = 100\n",
      "# epochs = 50\n"
     ]
    }
   ],
   "source": [
    "curr_dt_time = datetime.datetime.now()\n",
    "train_path = '/home/datasets/Project_data/train'\n",
    "val_path = '/home/datasets/Project_data/val'\n",
    "num_train_sequences = len(train_doc)\n",
    "print('# training sequences =', num_train_sequences)\n",
    "num_val_sequences = len(val_doc)\n",
    "print('# validation sequences =', num_val_sequences)\n",
    "num_epochs = 50\n",
    "print ('# epochs =', num_epochs)"
   ]
  },
  {
   "cell_type": "markdown",
   "metadata": {},
   "source": [
    "## Model\n",
    "Here you make the model using different functionalities that Keras provides. Remember to use `Conv3D` and `MaxPooling3D` and not `Conv2D` and `Maxpooling2D` for a 3D convolution model. You would want to use `TimeDistributed` while building a Conv2D + RNN model. Also remember that the last layer is the softmax. Design the network in such a way that the model is able to give good accuracy on the least number of parameters so that it can fit in the memory of the webcam."
   ]
  },
  {
   "cell_type": "code",
   "execution_count": 87,
   "metadata": {},
   "outputs": [],
   "source": [
    "from tensorflow.keras.models import Sequential\n",
    "from tensorflow.keras.layers import Dense, GRU, LSTM, Dropout, Flatten, BatchNormalization, Activation, Conv3D, MaxPooling3D, TimeDistributed, Conv2D, MaxPooling2D\n",
    "from tensorflow.keras.callbacks import ModelCheckpoint, ReduceLROnPlateau\n",
    "from tensorflow.keras import optimizers\n",
    "\n",
    "model_9 = Sequential()\n",
    "\n",
    "model_9.add(TimeDistributed(Conv2D(16, (3,3), activation='relu', input_shape=(None, 120, 120, 3))))\n",
    "model_9.add(TimeDistributed(MaxPooling2D(pool_size=(2, 2))))\n",
    "\n",
    "model_9.add(TimeDistributed(Conv2D(32, (3,3), activation='relu')))\n",
    "model_9.add(TimeDistributed(MaxPooling2D(pool_size=(2, 2))))\n",
    "\n",
    "model_9.add(TimeDistributed(Conv2D(64, (3,3), activation='relu')))\n",
    "model_9.add(TimeDistributed(MaxPooling2D(pool_size=(2, 2))))\n",
    "\n",
    "model_9.add(TimeDistributed(Conv2D(128, (3,3), activation='relu')))\n",
    "model_9.add(TimeDistributed(MaxPooling2D(pool_size=(2, 2))))\n",
    "\n",
    "model_9.add(TimeDistributed(Flatten()))\n",
    "\n",
    "model_9.add(LSTM(64, return_sequences=True))\n",
    "\n",
    "model_9.add(LSTM(32))\n",
    "\n",
    "model_9.add(Dense(128, activation='relu'))\n",
    "model_9.add(Dropout(0.25))\n",
    "\n",
    "model_9.add(Dense(128, activation='relu'))\n",
    "model_9.add(Dropout(0.25))\n",
    "\n",
    "model_9.add(Dense(128, activation='relu'))\n",
    "model_9.add(Dropout(0.25))\n",
    "\n",
    "model_9.add(Dense(5, activation='softmax'))"
   ]
  },
  {
   "cell_type": "markdown",
   "metadata": {},
   "source": [
    "Now that you have written the model, the next step is to `compile` the model. When you print the `summary` of the model, you'll see the total number of parameters you have to train."
   ]
  },
  {
   "cell_type": "code",
   "execution_count": 88,
   "metadata": {
    "scrolled": true
   },
   "outputs": [],
   "source": [
    "optimiser = optimizers.Adam()\n",
    "model_9.compile(optimizer=optimiser, loss='categorical_crossentropy', metrics=['categorical_accuracy'])\n",
    "# print (model_7.summary())"
   ]
  },
  {
   "cell_type": "markdown",
   "metadata": {},
   "source": [
    "Let us create the `train_generator` and the `val_generator` which will be used in `.fit_generator`."
   ]
  },
  {
   "cell_type": "code",
   "execution_count": 89,
   "metadata": {},
   "outputs": [],
   "source": [
    "train_generator = generator(train_path, train_doc, batch_size)\n",
    "val_generator = generator(val_path, val_doc, batch_size)"
   ]
  },
  {
   "cell_type": "code",
   "execution_count": 90,
   "metadata": {},
   "outputs": [
    {
     "name": "stdout",
     "output_type": "stream",
     "text": [
      "WARNING:tensorflow:`period` argument is deprecated. Please use `save_freq` to specify the frequency in number of batches seen.\n"
     ]
    }
   ],
   "source": [
    "model_name = 'model_init' + '_' + str(curr_dt_time).replace(' ','').replace(':','_') + '/'\n",
    "    \n",
    "if not os.path.exists(model_name):\n",
    "    os.mkdir(model_name)\n",
    "        \n",
    "filepath = model_name + 'model-{epoch:05d}-{loss:.5f}-{categorical_accuracy:.5f}-{val_loss:.5f}-{val_categorical_accuracy:.5f}.h5'\n",
    "\n",
    "checkpoint = ModelCheckpoint(filepath, monitor='val_loss', verbose=1, save_best_only=False, save_weights_only=False, mode='auto',period =1)\n",
    "\n",
    "LR = ReduceLROnPlateau(monitor='val_loss', factor=0.5, patience=2, cooldown=1, verbose=1) # write the REducelronplateau code here\n",
    "callbacks_list = [checkpoint, LR]"
   ]
  },
  {
   "cell_type": "markdown",
   "metadata": {},
   "source": [
    "The `steps_per_epoch` and `validation_steps` are used by `fit` method to decide the number of next() calls it need to make."
   ]
  },
  {
   "cell_type": "code",
   "execution_count": 91,
   "metadata": {},
   "outputs": [],
   "source": [
    "if (num_train_sequences%batch_size) == 0:\n",
    "    steps_per_epoch = int(num_train_sequences/batch_size)\n",
    "else:\n",
    "    steps_per_epoch = (num_train_sequences//batch_size) + 1\n",
    "\n",
    "if (num_val_sequences%batch_size) == 0:\n",
    "    validation_steps = int(num_val_sequences/batch_size)\n",
    "else:\n",
    "    validation_steps = (num_val_sequences//batch_size) + 1"
   ]
  },
  {
   "cell_type": "markdown",
   "metadata": {},
   "source": [
    "Let us now fit the model. This will start training the model and with the help of the checkpoints, you'll be able to save the model at the end of each epoch."
   ]
  },
  {
   "cell_type": "code",
   "execution_count": 92,
   "metadata": {},
   "outputs": [
    {
     "name": "stdout",
     "output_type": "stream",
     "text": [
      "Source path =  /home/datasets/Project_data/train ; batch size = 8\n",
      "Epoch 1/50\n",
      "81/83 [============================>.] - ETA: 1s - loss: 1.6168 - categorical_accuracy: 0.2238Batch:  83 Index: 8\n",
      "83/83 [==============================] - ETA: 0s - loss: 1.6170 - categorical_accuracy: 0.2217Source path =  /home/datasets/Project_data/val ; batch size = 8\n",
      "Batch:  13 Index: 8\n",
      "\n",
      "Epoch 00001: saving model to model_init_2023-02-1515_36_22.501628/model-00001-1.61702-0.22172-1.60576-0.18000.h5\n",
      "83/83 [==============================] - 82s 952ms/step - loss: 1.6170 - categorical_accuracy: 0.2217 - val_loss: 1.6058 - val_categorical_accuracy: 0.1800 - lr: 0.0010\n",
      "Epoch 2/50\n",
      "83/83 [==============================] - ETA: 0s - loss: 1.6208 - categorical_accuracy: 0.1876\n",
      "Epoch 00002: saving model to model_init_2023-02-1515_36_22.501628/model-00002-1.62082-0.18761-1.61098-0.15385.h5\n",
      "83/83 [==============================] - 65s 793ms/step - loss: 1.6208 - categorical_accuracy: 0.1876 - val_loss: 1.6110 - val_categorical_accuracy: 0.1538 - lr: 0.0010\n",
      "Epoch 3/50\n",
      "10/83 [==>...........................] - ETA: 46s - loss: 1.5971 - categorical_accuracy: 0.2429Batch:  95 Index: 7\n",
      "83/83 [==============================] - ETA: 0s - loss: 1.6123 - categorical_accuracy: 0.2082\n",
      "Epoch 00003: saving model to model_init_2023-02-1515_36_22.501628/model-00003-1.61234-0.20824-1.60776-0.21154.h5\n",
      "\n",
      "Epoch 00003: ReduceLROnPlateau reducing learning rate to 0.0005000000237487257.\n",
      "83/83 [==============================] - 49s 599ms/step - loss: 1.6123 - categorical_accuracy: 0.2082 - val_loss: 1.6078 - val_categorical_accuracy: 0.2115 - lr: 0.0010\n",
      "Epoch 4/50\n",
      "60/83 [====================>.........] - ETA: 11s - loss: 1.6131 - categorical_accuracy: 0.2167Batch:  133 Index: 5\n",
      "83/83 [==============================] - ETA: 0s - loss: 1.6145 - categorical_accuracy: 0.2102\n",
      "Epoch 00004: saving model to model_init_2023-02-1515_36_22.501628/model-00004-1.61446-0.21024-1.62959-0.15385.h5\n",
      "83/83 [==============================] - 43s 528ms/step - loss: 1.6145 - categorical_accuracy: 0.2102 - val_loss: 1.6296 - val_categorical_accuracy: 0.1538 - lr: 5.0000e-04\n",
      "Epoch 5/50\n",
      "83/83 [==============================] - ETA: 0s - loss: 1.6076 - categorical_accuracy: 0.1928\n",
      "Epoch 00005: saving model to model_init_2023-02-1515_36_22.501628/model-00005-1.60758-0.19277-1.61706-0.19231.h5\n",
      "\n",
      "Epoch 00005: ReduceLROnPlateau reducing learning rate to 0.0002500000118743628.\n",
      "83/83 [==============================] - 31s 382ms/step - loss: 1.6076 - categorical_accuracy: 0.1928 - val_loss: 1.6171 - val_categorical_accuracy: 0.1923 - lr: 5.0000e-04\n",
      "Epoch 6/50\n",
      "83/83 [==============================] - ETA: 0s - loss: 1.6170 - categorical_accuracy: 0.1566\n",
      "Epoch 00006: saving model to model_init_2023-02-1515_36_22.501628/model-00006-1.61704-0.15663-1.59762-0.17308.h5\n",
      "83/83 [==============================] - 31s 382ms/step - loss: 1.6170 - categorical_accuracy: 0.1566 - val_loss: 1.5976 - val_categorical_accuracy: 0.1731 - lr: 2.5000e-04\n",
      "Epoch 7/50\n",
      "83/83 [==============================] - ETA: 0s - loss: 1.5669 - categorical_accuracy: 0.3213\n",
      "Epoch 00007: saving model to model_init_2023-02-1515_36_22.501628/model-00007-1.56689-0.32129-1.61204-0.25000.h5\n",
      "83/83 [==============================] - 34s 417ms/step - loss: 1.5669 - categorical_accuracy: 0.3213 - val_loss: 1.6120 - val_categorical_accuracy: 0.2500 - lr: 2.5000e-04\n",
      "Epoch 8/50\n",
      "83/83 [==============================] - ETA: 0s - loss: 1.5215 - categorical_accuracy: 0.2892\n",
      "Epoch 00008: saving model to model_init_2023-02-1515_36_22.501628/model-00008-1.52149-0.28916-1.40580-0.40385.h5\n",
      "83/83 [==============================] - 32s 391ms/step - loss: 1.5215 - categorical_accuracy: 0.2892 - val_loss: 1.4058 - val_categorical_accuracy: 0.4038 - lr: 2.5000e-04\n",
      "Epoch 9/50\n",
      "83/83 [==============================] - ETA: 0s - loss: 1.4301 - categorical_accuracy: 0.3775\n",
      "Epoch 00009: saving model to model_init_2023-02-1515_36_22.501628/model-00009-1.43006-0.37751-1.21184-0.46154.h5\n",
      "83/83 [==============================] - 31s 381ms/step - loss: 1.4301 - categorical_accuracy: 0.3775 - val_loss: 1.2118 - val_categorical_accuracy: 0.4615 - lr: 2.5000e-04\n",
      "Epoch 10/50\n",
      "83/83 [==============================] - ETA: 0s - loss: 1.3992 - categorical_accuracy: 0.3494\n",
      "Epoch 00010: saving model to model_init_2023-02-1515_36_22.501628/model-00010-1.39920-0.34940-1.31985-0.40385.h5\n",
      "83/83 [==============================] - 33s 397ms/step - loss: 1.3992 - categorical_accuracy: 0.3494 - val_loss: 1.3199 - val_categorical_accuracy: 0.4038 - lr: 2.5000e-04\n",
      "Epoch 11/50\n",
      "83/83 [==============================] - ETA: 0s - loss: 1.3314 - categorical_accuracy: 0.3936\n",
      "Epoch 00011: saving model to model_init_2023-02-1515_36_22.501628/model-00011-1.33142-0.39357-1.26732-0.32692.h5\n",
      "\n",
      "Epoch 00011: ReduceLROnPlateau reducing learning rate to 0.0001250000059371814.\n",
      "83/83 [==============================] - 32s 388ms/step - loss: 1.3314 - categorical_accuracy: 0.3936 - val_loss: 1.2673 - val_categorical_accuracy: 0.3269 - lr: 2.5000e-04\n",
      "Epoch 12/50\n",
      "83/83 [==============================] - ETA: 0s - loss: 1.3104 - categorical_accuracy: 0.3574\n",
      "Epoch 00012: saving model to model_init_2023-02-1515_36_22.501628/model-00012-1.31035-0.35743-1.14619-0.46154.h5\n",
      "83/83 [==============================] - 32s 388ms/step - loss: 1.3104 - categorical_accuracy: 0.3574 - val_loss: 1.1462 - val_categorical_accuracy: 0.4615 - lr: 1.2500e-04\n",
      "Epoch 13/50\n",
      "83/83 [==============================] - ETA: 0s - loss: 1.2307 - categorical_accuracy: 0.4217\n",
      "Epoch 00013: saving model to model_init_2023-02-1515_36_22.501628/model-00013-1.23072-0.42169-1.11590-0.38462.h5\n",
      "83/83 [==============================] - 33s 400ms/step - loss: 1.2307 - categorical_accuracy: 0.4217 - val_loss: 1.1159 - val_categorical_accuracy: 0.3846 - lr: 1.2500e-04\n",
      "Epoch 14/50\n",
      "83/83 [==============================] - ETA: 0s - loss: 1.2197 - categorical_accuracy: 0.3855\n",
      "Epoch 00014: saving model to model_init_2023-02-1515_36_22.501628/model-00014-1.21969-0.38554-1.18127-0.53846.h5\n",
      "83/83 [==============================] - 32s 386ms/step - loss: 1.2197 - categorical_accuracy: 0.3855 - val_loss: 1.1813 - val_categorical_accuracy: 0.5385 - lr: 1.2500e-04\n",
      "Epoch 15/50\n",
      "83/83 [==============================] - ETA: 0s - loss: 1.2180 - categorical_accuracy: 0.3574\n",
      "Epoch 00015: saving model to model_init_2023-02-1515_36_22.501628/model-00015-1.21796-0.35743-1.20313-0.46154.h5\n",
      "\n",
      "Epoch 00015: ReduceLROnPlateau reducing learning rate to 6.25000029685907e-05.\n",
      "83/83 [==============================] - 32s 393ms/step - loss: 1.2180 - categorical_accuracy: 0.3574 - val_loss: 1.2031 - val_categorical_accuracy: 0.4615 - lr: 1.2500e-04\n",
      "Epoch 16/50\n",
      "83/83 [==============================] - ETA: 0s - loss: 1.1819 - categorical_accuracy: 0.4498\n",
      "Epoch 00016: saving model to model_init_2023-02-1515_36_22.501628/model-00016-1.18187-0.44980-1.10162-0.44231.h5\n",
      "83/83 [==============================] - 32s 395ms/step - loss: 1.1819 - categorical_accuracy: 0.4498 - val_loss: 1.1016 - val_categorical_accuracy: 0.4423 - lr: 6.2500e-05\n",
      "Epoch 17/50\n",
      "83/83 [==============================] - ETA: 0s - loss: 1.1624 - categorical_accuracy: 0.4137\n",
      "Epoch 00017: saving model to model_init_2023-02-1515_36_22.501628/model-00017-1.16238-0.41365-1.16095-0.51923.h5\n",
      "83/83 [==============================] - 33s 405ms/step - loss: 1.1624 - categorical_accuracy: 0.4137 - val_loss: 1.1610 - val_categorical_accuracy: 0.5192 - lr: 6.2500e-05\n",
      "Epoch 18/50\n",
      "83/83 [==============================] - ETA: 0s - loss: 1.1257 - categorical_accuracy: 0.4257\n",
      "Epoch 00018: saving model to model_init_2023-02-1515_36_22.501628/model-00018-1.12574-0.42570-1.13014-0.53846.h5\n",
      "\n",
      "Epoch 00018: ReduceLROnPlateau reducing learning rate to 3.125000148429535e-05.\n",
      "83/83 [==============================] - 33s 401ms/step - loss: 1.1257 - categorical_accuracy: 0.4257 - val_loss: 1.1301 - val_categorical_accuracy: 0.5385 - lr: 6.2500e-05\n",
      "Epoch 19/50\n",
      "83/83 [==============================] - ETA: 0s - loss: 1.1589 - categorical_accuracy: 0.4177\n",
      "Epoch 00019: saving model to model_init_2023-02-1515_36_22.501628/model-00019-1.15885-0.41767-0.99417-0.55769.h5\n",
      "83/83 [==============================] - 32s 388ms/step - loss: 1.1589 - categorical_accuracy: 0.4177 - val_loss: 0.9942 - val_categorical_accuracy: 0.5577 - lr: 3.1250e-05\n",
      "Epoch 20/50\n",
      "83/83 [==============================] - ETA: 0s - loss: 1.1351 - categorical_accuracy: 0.4498\n",
      "Epoch 00020: saving model to model_init_2023-02-1515_36_22.501628/model-00020-1.13514-0.44980-1.09626-0.50000.h5\n",
      "83/83 [==============================] - 32s 385ms/step - loss: 1.1351 - categorical_accuracy: 0.4498 - val_loss: 1.0963 - val_categorical_accuracy: 0.5000 - lr: 3.1250e-05\n",
      "Epoch 21/50\n",
      "83/83 [==============================] - ETA: 0s - loss: 1.1331 - categorical_accuracy: 0.4458\n",
      "Epoch 00021: saving model to model_init_2023-02-1515_36_22.501628/model-00021-1.13313-0.44578-1.10784-0.42308.h5\n",
      "\n",
      "Epoch 00021: ReduceLROnPlateau reducing learning rate to 1.5625000742147677e-05.\n",
      "83/83 [==============================] - 32s 394ms/step - loss: 1.1331 - categorical_accuracy: 0.4458 - val_loss: 1.1078 - val_categorical_accuracy: 0.4231 - lr: 3.1250e-05\n",
      "Epoch 22/50\n",
      "83/83 [==============================] - ETA: 0s - loss: 1.0805 - categorical_accuracy: 0.4137\n",
      "Epoch 00022: saving model to model_init_2023-02-1515_36_22.501628/model-00022-1.08048-0.41365-1.04100-0.55769.h5\n",
      "83/83 [==============================] - 32s 388ms/step - loss: 1.0805 - categorical_accuracy: 0.4137 - val_loss: 1.0410 - val_categorical_accuracy: 0.5577 - lr: 1.5625e-05\n",
      "Epoch 23/50\n",
      "83/83 [==============================] - ETA: 0s - loss: 1.0176 - categorical_accuracy: 0.5181\n",
      "Epoch 00023: saving model to model_init_2023-02-1515_36_22.501628/model-00023-1.01758-0.51807-1.11462-0.42308.h5\n",
      "\n",
      "Epoch 00023: ReduceLROnPlateau reducing learning rate to 7.812500371073838e-06.\n",
      "83/83 [==============================] - 32s 387ms/step - loss: 1.0176 - categorical_accuracy: 0.5181 - val_loss: 1.1146 - val_categorical_accuracy: 0.4231 - lr: 1.5625e-05\n",
      "Epoch 24/50\n",
      "83/83 [==============================] - ETA: 0s - loss: 1.0963 - categorical_accuracy: 0.4498\n",
      "Epoch 00024: saving model to model_init_2023-02-1515_36_22.501628/model-00024-1.09633-0.44980-0.99669-0.50000.h5\n",
      "83/83 [==============================] - 32s 395ms/step - loss: 1.0963 - categorical_accuracy: 0.4498 - val_loss: 0.9967 - val_categorical_accuracy: 0.5000 - lr: 7.8125e-06\n",
      "Epoch 25/50\n",
      "83/83 [==============================] - ETA: 0s - loss: 1.1332 - categorical_accuracy: 0.4819\n",
      "Epoch 00025: saving model to model_init_2023-02-1515_36_22.501628/model-00025-1.13324-0.48193-1.09765-0.53846.h5\n",
      "\n",
      "Epoch 00025: ReduceLROnPlateau reducing learning rate to 3.906250185536919e-06.\n",
      "83/83 [==============================] - 32s 385ms/step - loss: 1.1332 - categorical_accuracy: 0.4819 - val_loss: 1.0977 - val_categorical_accuracy: 0.5385 - lr: 7.8125e-06\n",
      "Epoch 26/50\n",
      "83/83 [==============================] - ETA: 0s - loss: 1.0742 - categorical_accuracy: 0.4578\n",
      "Epoch 00026: saving model to model_init_2023-02-1515_36_22.501628/model-00026-1.07424-0.45783-1.04703-0.46154.h5\n",
      "83/83 [==============================] - 31s 379ms/step - loss: 1.0742 - categorical_accuracy: 0.4578 - val_loss: 1.0470 - val_categorical_accuracy: 0.4615 - lr: 3.9063e-06\n",
      "Epoch 27/50\n",
      "83/83 [==============================] - ETA: 0s - loss: 1.0860 - categorical_accuracy: 0.4337\n",
      "Epoch 00027: saving model to model_init_2023-02-1515_36_22.501628/model-00027-1.08600-0.43373-1.13832-0.38462.h5\n",
      "\n",
      "Epoch 00027: ReduceLROnPlateau reducing learning rate to 1.9531250927684596e-06.\n",
      "83/83 [==============================] - 33s 397ms/step - loss: 1.0860 - categorical_accuracy: 0.4337 - val_loss: 1.1383 - val_categorical_accuracy: 0.3846 - lr: 3.9063e-06\n",
      "Epoch 28/50\n",
      "83/83 [==============================] - ETA: 0s - loss: 1.0955 - categorical_accuracy: 0.4859\n",
      "Epoch 00028: saving model to model_init_2023-02-1515_36_22.501628/model-00028-1.09547-0.48594-0.96652-0.65385.h5\n",
      "83/83 [==============================] - 32s 387ms/step - loss: 1.0955 - categorical_accuracy: 0.4859 - val_loss: 0.9665 - val_categorical_accuracy: 0.6538 - lr: 1.9531e-06\n",
      "Epoch 29/50\n",
      "83/83 [==============================] - ETA: 0s - loss: 1.0798 - categorical_accuracy: 0.4980\n",
      "Epoch 00030: saving model to model_init_2023-02-1515_36_22.501628/model-00030-1.07975-0.49799-1.02605-0.46154.h5\n",
      "\n",
      "Epoch 00030: ReduceLROnPlateau reducing learning rate to 9.765625463842298e-07.\n",
      "83/83 [==============================] - 32s 386ms/step - loss: 1.0798 - categorical_accuracy: 0.4980 - val_loss: 1.0260 - val_categorical_accuracy: 0.4615 - lr: 1.9531e-06\n",
      "Epoch 31/50\n",
      "83/83 [==============================] - ETA: 0s - loss: 1.0885 - categorical_accuracy: 0.4498\n",
      "Epoch 00031: saving model to model_init_2023-02-1515_36_22.501628/model-00031-1.08853-0.44980-0.99386-0.59615.h5\n",
      "83/83 [==============================] - 33s 404ms/step - loss: 1.0885 - categorical_accuracy: 0.4498 - val_loss: 0.9939 - val_categorical_accuracy: 0.5962 - lr: 9.7656e-07\n",
      "Epoch 32/50\n",
      "83/83 [==============================] - ETA: 0s - loss: 1.0611 - categorical_accuracy: 0.4699\n",
      "Epoch 00032: saving model to model_init_2023-02-1515_36_22.501628/model-00032-1.06112-0.46988-1.18498-0.40385.h5\n",
      "\n",
      "Epoch 00032: ReduceLROnPlateau reducing learning rate to 4.882812731921149e-07.\n",
      "83/83 [==============================] - 34s 418ms/step - loss: 1.0611 - categorical_accuracy: 0.4699 - val_loss: 1.1850 - val_categorical_accuracy: 0.4038 - lr: 9.7656e-07\n",
      "Epoch 33/50\n",
      "83/83 [==============================] - ETA: 0s - loss: 1.1104 - categorical_accuracy: 0.4538\n",
      "Epoch 00033: saving model to model_init_2023-02-1515_36_22.501628/model-00033-1.11039-0.45382-1.00193-0.55769.h5\n",
      "83/83 [==============================] - 30s 361ms/step - loss: 1.1104 - categorical_accuracy: 0.4538 - val_loss: 1.0019 - val_categorical_accuracy: 0.5577 - lr: 4.8828e-07\n",
      "Epoch 34/50\n",
      "83/83 [==============================] - ETA: 0s - loss: 1.0825 - categorical_accuracy: 0.4980\n",
      "Epoch 00034: saving model to model_init_2023-02-1515_36_22.501628/model-00034-1.08252-0.49799-1.02743-0.55769.h5\n",
      "\n",
      "Epoch 00034: ReduceLROnPlateau reducing learning rate to 2.4414063659605745e-07.\n",
      "83/83 [==============================] - 31s 377ms/step - loss: 1.0825 - categorical_accuracy: 0.4980 - val_loss: 1.0274 - val_categorical_accuracy: 0.5577 - lr: 4.8828e-07\n",
      "Epoch 35/50\n",
      "83/83 [==============================] - ETA: 0s - loss: 1.0899 - categorical_accuracy: 0.4859\n",
      "Epoch 00035: saving model to model_init_2023-02-1515_36_22.501628/model-00035-1.08988-0.48594-1.08375-0.48077.h5\n",
      "83/83 [==============================] - 33s 397ms/step - loss: 1.0899 - categorical_accuracy: 0.4859 - val_loss: 1.0838 - val_categorical_accuracy: 0.4808 - lr: 2.4414e-07\n",
      "Epoch 36/50\n",
      "83/83 [==============================] - ETA: 0s - loss: 1.0337 - categorical_accuracy: 0.5020\n",
      "Epoch 00036: saving model to model_init_2023-02-1515_36_22.501628/model-00036-1.03368-0.50201-1.00663-0.55769.h5\n",
      "\n",
      "Epoch 00036: ReduceLROnPlateau reducing learning rate to 1.2207031829802872e-07.\n",
      "83/83 [==============================] - 33s 401ms/step - loss: 1.0337 - categorical_accuracy: 0.5020 - val_loss: 1.0066 - val_categorical_accuracy: 0.5577 - lr: 2.4414e-07\n",
      "Epoch 37/50\n",
      "83/83 [==============================] - ETA: 0s - loss: 1.0977 - categorical_accuracy: 0.4739\n",
      "Epoch 00037: saving model to model_init_2023-02-1515_36_22.501628/model-00037-1.09774-0.47390-1.03509-0.50000.h5\n",
      "83/83 [==============================] - 32s 394ms/step - loss: 1.0977 - categorical_accuracy: 0.4739 - val_loss: 1.0351 - val_categorical_accuracy: 0.5000 - lr: 1.2207e-07\n",
      "Epoch 38/50\n",
      "83/83 [==============================] - ETA: 0s - loss: 1.0926 - categorical_accuracy: 0.4900\n",
      "Epoch 00038: saving model to model_init_2023-02-1515_36_22.501628/model-00038-1.09257-0.48996-0.95400-0.61538.h5\n",
      "83/83 [==============================] - 32s 390ms/step - loss: 1.0926 - categorical_accuracy: 0.4900 - val_loss: 0.9540 - val_categorical_accuracy: 0.6154 - lr: 1.2207e-07\n",
      "Epoch 39/50\n",
      "83/83 [==============================] - ETA: 0s - loss: 1.0499 - categorical_accuracy: 0.4900\n",
      "Epoch 00039: saving model to model_init_2023-02-1515_36_22.501628/model-00039-1.04991-0.48996-1.14686-0.48077.h5\n",
      "83/83 [==============================] - 33s 401ms/step - loss: 1.0499 - categorical_accuracy: 0.4900 - val_loss: 1.1469 - val_categorical_accuracy: 0.4808 - lr: 1.2207e-07\n",
      "Epoch 40/50\n",
      "83/83 [==============================] - ETA: 0s - loss: 1.1187 - categorical_accuracy: 0.4337\n",
      "Epoch 00040: saving model to model_init_2023-02-1515_36_22.501628/model-00040-1.11874-0.43373-1.08987-0.48077.h5\n",
      "\n",
      "Epoch 00040: ReduceLROnPlateau reducing learning rate to 6.103515914901436e-08.\n",
      "83/83 [==============================] - 31s 376ms/step - loss: 1.1187 - categorical_accuracy: 0.4337 - val_loss: 1.0899 - val_categorical_accuracy: 0.4808 - lr: 1.2207e-07\n",
      "Epoch 41/50\n",
      "83/83 [==============================] - ETA: 0s - loss: 1.0702 - categorical_accuracy: 0.4739\n",
      "Epoch 00041: saving model to model_init_2023-02-1515_36_22.501628/model-00041-1.07019-0.47390-0.96648-0.59615.h5\n",
      "83/83 [==============================] - 32s 392ms/step - loss: 1.0702 - categorical_accuracy: 0.4739 - val_loss: 0.9665 - val_categorical_accuracy: 0.5962 - lr: 6.1035e-08\n",
      "Epoch 42/50\n",
      "83/83 [==============================] - ETA: 0s - loss: 1.1119 - categorical_accuracy: 0.4739\n",
      "Epoch 00042: saving model to model_init_2023-02-1515_36_22.501628/model-00042-1.11189-0.47390-1.05912-0.51923.h5\n",
      "\n",
      "Epoch 00042: ReduceLROnPlateau reducing learning rate to 3.051757957450718e-08.\n",
      "83/83 [==============================] - 31s 380ms/step - loss: 1.1119 - categorical_accuracy: 0.4739 - val_loss: 1.0591 - val_categorical_accuracy: 0.5192 - lr: 6.1035e-08\n",
      "Epoch 43/50\n",
      "83/83 [==============================] - ETA: 0s - loss: 1.0978 - categorical_accuracy: 0.4699\n",
      "Epoch 00043: saving model to model_init_2023-02-1515_36_22.501628/model-00043-1.09782-0.46988-0.96442-0.53846.h5\n",
      "83/83 [==============================] - 32s 396ms/step - loss: 1.0978 - categorical_accuracy: 0.4699 - val_loss: 0.9644 - val_categorical_accuracy: 0.5385 - lr: 3.0518e-08\n",
      "Epoch 44/50\n",
      "83/83 [==============================] - ETA: 0s - loss: 1.0267 - categorical_accuracy: 0.4980\n",
      "Epoch 00044: saving model to model_init_2023-02-1515_36_22.501628/model-00044-1.02667-0.49799-1.18118-0.46154.h5\n",
      "\n",
      "Epoch 00044: ReduceLROnPlateau reducing learning rate to 1.525878978725359e-08.\n",
      "83/83 [==============================] - 34s 413ms/step - loss: 1.0267 - categorical_accuracy: 0.4980 - val_loss: 1.1812 - val_categorical_accuracy: 0.4615 - lr: 3.0518e-08\n",
      "Epoch 45/50\n",
      "83/83 [==============================] - ETA: 0s - loss: 1.0951 - categorical_accuracy: 0.4378\n",
      "Epoch 00045: saving model to model_init_2023-02-1515_36_22.501628/model-00045-1.09514-0.43775-0.94016-0.57692.h5\n",
      "83/83 [==============================] - 32s 392ms/step - loss: 1.0951 - categorical_accuracy: 0.4378 - val_loss: 0.9402 - val_categorical_accuracy: 0.5769 - lr: 1.5259e-08\n",
      "Epoch 46/50\n",
      "83/83 [==============================] - ETA: 0s - loss: 1.1070 - categorical_accuracy: 0.4659\n",
      "Epoch 00046: saving model to model_init_2023-02-1515_36_22.501628/model-00046-1.10703-0.46586-1.06138-0.55769.h5\n",
      "83/83 [==============================] - 32s 390ms/step - loss: 1.1070 - categorical_accuracy: 0.4659 - val_loss: 1.0614 - val_categorical_accuracy: 0.5577 - lr: 1.5259e-08\n",
      "Epoch 47/50\n",
      "83/83 [==============================] - ETA: 0s - loss: 1.0516 - categorical_accuracy: 0.4699\n",
      "Epoch 00047: saving model to model_init_2023-02-1515_36_22.501628/model-00047-1.05155-0.46988-1.00109-0.48077.h5\n",
      "\n",
      "Epoch 00047: ReduceLROnPlateau reducing learning rate to 7.629394893626795e-09.\n",
      "83/83 [==============================] - 31s 380ms/step - loss: 1.0516 - categorical_accuracy: 0.4699 - val_loss: 1.0011 - val_categorical_accuracy: 0.4808 - lr: 1.5259e-08\n",
      "Epoch 48/50\n",
      "83/83 [==============================] - ETA: 0s - loss: 1.0667 - categorical_accuracy: 0.5301\n",
      "Epoch 00048: saving model to model_init_2023-02-1515_36_22.501628/model-00048-1.06667-0.53012-1.00504-0.57692.h5\n",
      "83/83 [==============================] - 32s 386ms/step - loss: 1.0667 - categorical_accuracy: 0.5301 - val_loss: 1.0050 - val_categorical_accuracy: 0.5769 - lr: 7.6294e-09\n",
      "Epoch 49/50\n",
      "83/83 [==============================] - ETA: 0s - loss: 1.1287 - categorical_accuracy: 0.4659\n",
      "Epoch 00049: saving model to model_init_2023-02-1515_36_22.501628/model-00049-1.12874-0.46586-1.09927-0.46154.h5\n",
      "\n",
      "Epoch 00049: ReduceLROnPlateau reducing learning rate to 3.814697446813398e-09.\n",
      "83/83 [==============================] - 33s 396ms/step - loss: 1.1287 - categorical_accuracy: 0.4659 - val_loss: 1.0993 - val_categorical_accuracy: 0.4615 - lr: 7.6294e-09\n",
      "Epoch 50/50\n",
      "83/83 [==============================] - ETA: 0s - loss: 1.0766 - categorical_accuracy: 0.4498\n",
      "Epoch 00050: saving model to model_init_2023-02-1515_36_22.501628/model-00050-1.07659-0.44980-0.98368-0.53846.h5\n",
      "83/83 [==============================] - 31s 382ms/step - loss: 1.0766 - categorical_accuracy: 0.4498 - val_loss: 0.9837 - val_categorical_accuracy: 0.5385 - lr: 3.8147e-09\n"
     ]
    }
   ],
   "source": [
    "history = model_9.fit(train_generator, steps_per_epoch=steps_per_epoch, epochs=num_epochs, verbose=1, \n",
    "                    callbacks=callbacks_list, validation_data=val_generator, \n",
    "                    validation_steps=validation_steps, class_weight=None, workers=1, initial_epoch=0)"
   ]
  },
  {
   "cell_type": "code",
   "execution_count": 93,
   "metadata": {},
   "outputs": [
    {
     "data": {
      "image/png": "[encoded data removed]",
      "text/plain": [
       "<Figure size 432x288 with 1 Axes>"
      ]
     },
     "metadata": {
      "needs_background": "light"
     },
     "output_type": "display_data"
    },
    {
     "data": {
      "image/png": "[encoded data removed]",
      "text/plain": [
       "<Figure size 432x288 with 1 Axes>"
      ]
     },
     "metadata": {
      "needs_background": "light"
     },
     "output_type": "display_data"
    }
   ],
   "source": [
    "# Plotting graph for train and val accuracy and loss\n",
    "plt.plot(history.history['categorical_accuracy'])\n",
    "plt.plot(history.history['val_categorical_accuracy'])\n",
    "plt.title('model 9 accuracy')\n",
    "plt.ylabel('accuracy')\n",
    "plt.xlabel('epoch')\n",
    "plt.legend(['train', 'val'], loc='upper left')\n",
    "plt.show()\n",
    "\n",
    "# summarize history for loss\n",
    "plt.plot(history.history['loss'])\n",
    "plt.plot(history.history['val_loss'])\n",
    "plt.title('model 9 loss')\n",
    "plt.ylabel('loss')\n",
    "plt.xlabel('epoch')\n",
    "plt.legend(['train', 'val'], loc='upper left')\n",
    "plt.show()"
   ]
  },
  {
   "cell_type": "code",
   "execution_count": null,
   "metadata": {},
   "outputs": [],
   "source": []
  }
 ],
 "metadata": {
  "kernelspec": {
   "display_name": "Python 3 (ipykernel)",
   "language": "python",
   "name": "python3"
  },
  "language_info": {
   "codemirror_mode": {
    "name": "ipython",
    "version": 3
   },
   "file_extension": ".py",
   "mimetype": "text/x-python",
   "name": "python",
   "nbconvert_exporter": "python",
   "pygments_lexer": "ipython3",
   "version": "3.8.10"
  }
 },
 "nbformat": 4,
 "nbformat_minor": 4
}
